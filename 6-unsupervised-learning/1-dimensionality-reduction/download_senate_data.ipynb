{
 "metadata": {
  "name": "",
  "signature": "sha256:5a6b12d250a41e254fbd0d64651f8d261f25f27f172dd29f969592e88f4f841e"
 },
 "nbformat": 3,
 "nbformat_minor": 0,
 "worksheets": [
  {
   "cells": [
    {
     "cell_type": "code",
     "collapsed": false,
     "input": [
      "import requests\n",
      "import pandas as pd\n",
      "import os\n",
      "from bs4 import BeautifulSoup\n",
      "import json\n",
      "import time"
     ],
     "language": "python",
     "metadata": {},
     "outputs": [],
     "prompt_number": 59
    },
    {
     "cell_type": "code",
     "collapsed": false,
     "input": [
      "res = requests.get('https://www.govtrack.us/data/congress/113/votes/')"
     ],
     "language": "python",
     "metadata": {},
     "outputs": [],
     "prompt_number": 60
    },
    {
     "cell_type": "code",
     "collapsed": false,
     "input": [
      "res.content"
     ],
     "language": "python",
     "metadata": {},
     "outputs": [
      {
       "metadata": {},
       "output_type": "pyout",
       "prompt_number": 4,
       "text": [
        "'<html>\\r\\n<head><title>Index of /data/congress/113/votes/</title></head>\\r\\n<body bgcolor=\"white\">\\r\\n<h1>Index of /data/congress/113/votes/</h1><hr><pre><a href=\"../\">../</a>\\r\\n<a href=\"2013/\">2013/</a>                                              20-Dec-2013 13:51                   -\\r\\n<a href=\"2014/\">2014/</a>                                              18-Sep-2014 20:34                   -\\r\\n</pre><hr></body>\\r\\n</html>\\r\\n'"
       ]
      }
     ],
     "prompt_number": 4
    },
    {
     "cell_type": "code",
     "collapsed": false,
     "input": [
      "soup = BeautifulSoup(res.content, 'html.parser')"
     ],
     "language": "python",
     "metadata": {},
     "outputs": [],
     "prompt_number": 25
    },
    {
     "cell_type": "code",
     "collapsed": false,
     "input": [
      "links = soup.find_all('a')"
     ],
     "language": "python",
     "metadata": {},
     "outputs": [],
     "prompt_number": 26
    },
    {
     "cell_type": "code",
     "collapsed": false,
     "input": [
      "def crawl(url):\n",
      "    print \"Scraping \" + url\n",
      "    res = requests.get(url)\n",
      "    \n",
      "    soup = BeautifulSoup(res.content, 'html.parser')\n",
      "    links = soup.find_all('a')\n",
      "    \n",
      "    cwd = os.getcwd()\n",
      "    \n",
      "    #import pdb; pdb.set_trace()\n",
      "    for link in links:\n",
      "        ref = link.attrs['href']\n",
      "        if ref != \"../\":\n",
      "            path = ref.split('.')[-1]\n",
      "            if path != 'json' and path != 'xml':\n",
      "                if not os.path.exists(path):\n",
      "                    os.makedirs(path)\n",
      "                os.chdir(path)\n",
      "                crawl(url + ref)\n",
      "                os.chdir(cwd)\n",
      "            elif path == 'json':\n",
      "                json.dump(requests.get(url + ref).json(), open(ref, 'wb'))\n",
      "    time.sleep(0.01)\n",
      "    return cwd"
     ],
     "language": "python",
     "metadata": {},
     "outputs": [],
     "prompt_number": 70
    },
    {
     "cell_type": "code",
     "collapsed": false,
     "input": [
      "os.chdir('/Users/jonathandinu/Repositories/zipfian/tot-solutions/week6/dimensionality-reduction/')"
     ],
     "language": "python",
     "metadata": {},
     "outputs": [],
     "prompt_number": 69
    },
    {
     "cell_type": "code",
     "collapsed": false,
     "input": [
      "a.attrs['href']"
     ],
     "language": "python",
     "metadata": {},
     "outputs": [
      {
       "metadata": {},
       "output_type": "pyout",
       "prompt_number": 29,
       "text": [
        "u'../'"
       ]
      }
     ],
     "prompt_number": 29
    },
    {
     "cell_type": "code",
     "collapsed": false,
     "input": [
      "crawl('https://www.govtrack.us/data/congress/113/votes/')"
     ],
     "language": "python",
     "metadata": {},
     "outputs": [
      {
       "output_type": "stream",
       "stream": "stdout",
       "text": [
        "Scraping https://www.govtrack.us/data/congress/113/votes/\n",
        "Scraping https://www.govtrack.us/data/congress/113/votes/2013/"
       ]
      },
      {
       "output_type": "stream",
       "stream": "stdout",
       "text": [
        "\n",
        "Scraping https://www.govtrack.us/data/congress/113/votes/2013/h1/"
       ]
      },
      {
       "output_type": "stream",
       "stream": "stdout",
       "text": [
        "\n",
        "Scraping https://www.govtrack.us/data/congress/113/votes/2013/h10/"
       ]
      },
      {
       "output_type": "stream",
       "stream": "stdout",
       "text": [
        "\n",
        "Scraping https://www.govtrack.us/data/congress/113/votes/2013/h100/"
       ]
      },
      {
       "output_type": "stream",
       "stream": "stdout",
       "text": [
        "\n",
        "Scraping https://www.govtrack.us/data/congress/113/votes/2013/h101/"
       ]
      },
      {
       "output_type": "stream",
       "stream": "stdout",
       "text": [
        "\n",
        "Scraping https://www.govtrack.us/data/congress/113/votes/2013/h102/"
       ]
      },
      {
       "output_type": "stream",
       "stream": "stdout",
       "text": [
        "\n",
        "Scraping https://www.govtrack.us/data/congress/113/votes/2013/h103/"
       ]
      },
      {
       "output_type": "stream",
       "stream": "stdout",
       "text": [
        "\n",
        "Scraping https://www.govtrack.us/data/congress/113/votes/2013/h104/"
       ]
      },
      {
       "output_type": "stream",
       "stream": "stdout",
       "text": [
        "\n",
        "Scraping https://www.govtrack.us/data/congress/113/votes/2013/h105/"
       ]
      },
      {
       "output_type": "stream",
       "stream": "stdout",
       "text": [
        "\n",
        "Scraping https://www.govtrack.us/data/congress/113/votes/2013/h106/"
       ]
      },
      {
       "output_type": "stream",
       "stream": "stdout",
       "text": [
        "\n",
        "Scraping https://www.govtrack.us/data/congress/113/votes/2013/h107/"
       ]
      },
      {
       "output_type": "stream",
       "stream": "stdout",
       "text": [
        "\n",
        "Scraping https://www.govtrack.us/data/congress/113/votes/2013/h108/"
       ]
      },
      {
       "output_type": "stream",
       "stream": "stdout",
       "text": [
        "\n",
        "Scraping https://www.govtrack.us/data/congress/113/votes/2013/h109/"
       ]
      },
      {
       "output_type": "stream",
       "stream": "stdout",
       "text": [
        "\n",
        "Scraping https://www.govtrack.us/data/congress/113/votes/2013/h11/"
       ]
      },
      {
       "output_type": "stream",
       "stream": "stdout",
       "text": [
        "\n",
        "Scraping https://www.govtrack.us/data/congress/113/votes/2013/h110/"
       ]
      },
      {
       "output_type": "stream",
       "stream": "stdout",
       "text": [
        "\n",
        "Scraping https://www.govtrack.us/data/congress/113/votes/2013/h111/"
       ]
      },
      {
       "output_type": "stream",
       "stream": "stdout",
       "text": [
        "\n",
        "Scraping https://www.govtrack.us/data/congress/113/votes/2013/h112/"
       ]
      },
      {
       "output_type": "stream",
       "stream": "stdout",
       "text": [
        "\n",
        "Scraping https://www.govtrack.us/data/congress/113/votes/2013/h113/"
       ]
      },
      {
       "output_type": "stream",
       "stream": "stdout",
       "text": [
        "\n",
        "Scraping https://www.govtrack.us/data/congress/113/votes/2013/h114/"
       ]
      },
      {
       "output_type": "stream",
       "stream": "stdout",
       "text": [
        "\n",
        "Scraping https://www.govtrack.us/data/congress/113/votes/2013/h115/"
       ]
      },
      {
       "output_type": "stream",
       "stream": "stdout",
       "text": [
        "\n",
        "Scraping https://www.govtrack.us/data/congress/113/votes/2013/h116/"
       ]
      },
      {
       "output_type": "stream",
       "stream": "stdout",
       "text": [
        "\n",
        "Scraping https://www.govtrack.us/data/congress/113/votes/2013/h117/"
       ]
      },
      {
       "output_type": "stream",
       "stream": "stdout",
       "text": [
        "\n",
        "Scraping https://www.govtrack.us/data/congress/113/votes/2013/h118/"
       ]
      },
      {
       "output_type": "stream",
       "stream": "stdout",
       "text": [
        "\n",
        "Scraping https://www.govtrack.us/data/congress/113/votes/2013/h119/"
       ]
      },
      {
       "output_type": "stream",
       "stream": "stdout",
       "text": [
        "\n",
        "Scraping https://www.govtrack.us/data/congress/113/votes/2013/h12/"
       ]
      },
      {
       "output_type": "stream",
       "stream": "stdout",
       "text": [
        "\n",
        "Scraping https://www.govtrack.us/data/congress/113/votes/2013/h120/"
       ]
      },
      {
       "output_type": "stream",
       "stream": "stdout",
       "text": [
        "\n",
        "Scraping https://www.govtrack.us/data/congress/113/votes/2013/h121/"
       ]
      },
      {
       "output_type": "stream",
       "stream": "stdout",
       "text": [
        "\n",
        "Scraping https://www.govtrack.us/data/congress/113/votes/2013/h122/"
       ]
      },
      {
       "output_type": "stream",
       "stream": "stdout",
       "text": [
        "\n",
        "Scraping https://www.govtrack.us/data/congress/113/votes/2013/h123/"
       ]
      },
      {
       "output_type": "stream",
       "stream": "stdout",
       "text": [
        "\n",
        "Scraping https://www.govtrack.us/data/congress/113/votes/2013/h124/"
       ]
      },
      {
       "output_type": "stream",
       "stream": "stdout",
       "text": [
        "\n",
        "Scraping https://www.govtrack.us/data/congress/113/votes/2013/h125/"
       ]
      },
      {
       "output_type": "stream",
       "stream": "stdout",
       "text": [
        "\n",
        "Scraping https://www.govtrack.us/data/congress/113/votes/2013/h126/"
       ]
      },
      {
       "output_type": "stream",
       "stream": "stdout",
       "text": [
        "\n",
        "Scraping https://www.govtrack.us/data/congress/113/votes/2013/h127/"
       ]
      },
      {
       "output_type": "stream",
       "stream": "stdout",
       "text": [
        "\n",
        "Scraping https://www.govtrack.us/data/congress/113/votes/2013/h128/"
       ]
      },
      {
       "output_type": "stream",
       "stream": "stdout",
       "text": [
        "\n",
        "Scraping https://www.govtrack.us/data/congress/113/votes/2013/h129/"
       ]
      },
      {
       "output_type": "stream",
       "stream": "stdout",
       "text": [
        "\n",
        "Scraping https://www.govtrack.us/data/congress/113/votes/2013/h13/"
       ]
      },
      {
       "output_type": "stream",
       "stream": "stdout",
       "text": [
        "\n",
        "Scraping https://www.govtrack.us/data/congress/113/votes/2013/h130/"
       ]
      },
      {
       "output_type": "stream",
       "stream": "stdout",
       "text": [
        "\n",
        "Scraping https://www.govtrack.us/data/congress/113/votes/2013/h131/"
       ]
      },
      {
       "output_type": "stream",
       "stream": "stdout",
       "text": [
        "\n",
        "Scraping https://www.govtrack.us/data/congress/113/votes/2013/h132/"
       ]
      },
      {
       "output_type": "stream",
       "stream": "stdout",
       "text": [
        "\n",
        "Scraping https://www.govtrack.us/data/congress/113/votes/2013/h133/"
       ]
      },
      {
       "output_type": "stream",
       "stream": "stdout",
       "text": [
        "\n",
        "Scraping https://www.govtrack.us/data/congress/113/votes/2013/h134/"
       ]
      },
      {
       "output_type": "stream",
       "stream": "stdout",
       "text": [
        "\n",
        "Scraping https://www.govtrack.us/data/congress/113/votes/2013/h135/"
       ]
      },
      {
       "output_type": "stream",
       "stream": "stdout",
       "text": [
        "\n",
        "Scraping https://www.govtrack.us/data/congress/113/votes/2013/h136/"
       ]
      },
      {
       "output_type": "stream",
       "stream": "stdout",
       "text": [
        "\n",
        "Scraping https://www.govtrack.us/data/congress/113/votes/2013/h137/"
       ]
      },
      {
       "output_type": "stream",
       "stream": "stdout",
       "text": [
        "\n",
        "Scraping https://www.govtrack.us/data/congress/113/votes/2013/h138/"
       ]
      },
      {
       "output_type": "stream",
       "stream": "stdout",
       "text": [
        "\n",
        "Scraping https://www.govtrack.us/data/congress/113/votes/2013/h139/"
       ]
      },
      {
       "output_type": "stream",
       "stream": "stdout",
       "text": [
        "\n",
        "Scraping https://www.govtrack.us/data/congress/113/votes/2013/h14/"
       ]
      },
      {
       "output_type": "stream",
       "stream": "stdout",
       "text": [
        "\n",
        "Scraping https://www.govtrack.us/data/congress/113/votes/2013/h140/"
       ]
      },
      {
       "output_type": "stream",
       "stream": "stdout",
       "text": [
        "\n",
        "Scraping https://www.govtrack.us/data/congress/113/votes/2013/h141/"
       ]
      },
      {
       "output_type": "stream",
       "stream": "stdout",
       "text": [
        "\n",
        "Scraping https://www.govtrack.us/data/congress/113/votes/2013/h142/"
       ]
      },
      {
       "output_type": "stream",
       "stream": "stdout",
       "text": [
        "\n",
        "Scraping https://www.govtrack.us/data/congress/113/votes/2013/h143/"
       ]
      },
      {
       "output_type": "stream",
       "stream": "stdout",
       "text": [
        "\n",
        "Scraping https://www.govtrack.us/data/congress/113/votes/2013/h144/"
       ]
      },
      {
       "output_type": "stream",
       "stream": "stdout",
       "text": [
        "\n",
        "Scraping https://www.govtrack.us/data/congress/113/votes/2013/h145/"
       ]
      },
      {
       "output_type": "stream",
       "stream": "stdout",
       "text": [
        "\n",
        "Scraping https://www.govtrack.us/data/congress/113/votes/2013/h146/"
       ]
      },
      {
       "output_type": "stream",
       "stream": "stdout",
       "text": [
        "\n",
        "Scraping https://www.govtrack.us/data/congress/113/votes/2013/h147/"
       ]
      },
      {
       "output_type": "stream",
       "stream": "stdout",
       "text": [
        "\n",
        "Scraping https://www.govtrack.us/data/congress/113/votes/2013/h148/"
       ]
      },
      {
       "output_type": "stream",
       "stream": "stdout",
       "text": [
        "\n",
        "Scraping https://www.govtrack.us/data/congress/113/votes/2013/h149/"
       ]
      },
      {
       "output_type": "stream",
       "stream": "stdout",
       "text": [
        "\n",
        "Scraping https://www.govtrack.us/data/congress/113/votes/2013/h15/"
       ]
      },
      {
       "output_type": "stream",
       "stream": "stdout",
       "text": [
        "\n",
        "Scraping https://www.govtrack.us/data/congress/113/votes/2013/h150/"
       ]
      },
      {
       "output_type": "stream",
       "stream": "stdout",
       "text": [
        "\n",
        "Scraping https://www.govtrack.us/data/congress/113/votes/2013/h151/"
       ]
      },
      {
       "output_type": "stream",
       "stream": "stdout",
       "text": [
        "\n",
        "Scraping https://www.govtrack.us/data/congress/113/votes/2013/h152/"
       ]
      },
      {
       "output_type": "stream",
       "stream": "stdout",
       "text": [
        "\n",
        "Scraping https://www.govtrack.us/data/congress/113/votes/2013/h153/"
       ]
      },
      {
       "output_type": "stream",
       "stream": "stdout",
       "text": [
        "\n",
        "Scraping https://www.govtrack.us/data/congress/113/votes/2013/h154/"
       ]
      },
      {
       "output_type": "stream",
       "stream": "stdout",
       "text": [
        "\n",
        "Scraping https://www.govtrack.us/data/congress/113/votes/2013/h155/"
       ]
      },
      {
       "output_type": "stream",
       "stream": "stdout",
       "text": [
        "\n",
        "Scraping https://www.govtrack.us/data/congress/113/votes/2013/h156/"
       ]
      },
      {
       "output_type": "stream",
       "stream": "stdout",
       "text": [
        "\n",
        "Scraping https://www.govtrack.us/data/congress/113/votes/2013/h157/"
       ]
      },
      {
       "output_type": "stream",
       "stream": "stdout",
       "text": [
        "\n",
        "Scraping https://www.govtrack.us/data/congress/113/votes/2013/h158/"
       ]
      },
      {
       "output_type": "stream",
       "stream": "stdout",
       "text": [
        "\n",
        "Scraping https://www.govtrack.us/data/congress/113/votes/2013/h159/"
       ]
      },
      {
       "output_type": "stream",
       "stream": "stdout",
       "text": [
        "\n",
        "Scraping https://www.govtrack.us/data/congress/113/votes/2013/h16/"
       ]
      },
      {
       "output_type": "stream",
       "stream": "stdout",
       "text": [
        "\n",
        "Scraping https://www.govtrack.us/data/congress/113/votes/2013/h160/"
       ]
      },
      {
       "output_type": "stream",
       "stream": "stdout",
       "text": [
        "\n",
        "Scraping https://www.govtrack.us/data/congress/113/votes/2013/h161/"
       ]
      },
      {
       "output_type": "stream",
       "stream": "stdout",
       "text": [
        "\n",
        "Scraping https://www.govtrack.us/data/congress/113/votes/2013/h162/"
       ]
      },
      {
       "output_type": "stream",
       "stream": "stdout",
       "text": [
        "\n",
        "Scraping https://www.govtrack.us/data/congress/113/votes/2013/h163/"
       ]
      },
      {
       "output_type": "stream",
       "stream": "stdout",
       "text": [
        "\n",
        "Scraping https://www.govtrack.us/data/congress/113/votes/2013/h164/"
       ]
      },
      {
       "output_type": "stream",
       "stream": "stdout",
       "text": [
        "\n",
        "Scraping https://www.govtrack.us/data/congress/113/votes/2013/h165/"
       ]
      },
      {
       "output_type": "stream",
       "stream": "stdout",
       "text": [
        "\n",
        "Scraping https://www.govtrack.us/data/congress/113/votes/2013/h166/"
       ]
      },
      {
       "output_type": "stream",
       "stream": "stdout",
       "text": [
        "\n",
        "Scraping https://www.govtrack.us/data/congress/113/votes/2013/h167/"
       ]
      },
      {
       "output_type": "stream",
       "stream": "stdout",
       "text": [
        "\n",
        "Scraping https://www.govtrack.us/data/congress/113/votes/2013/h168/"
       ]
      },
      {
       "output_type": "stream",
       "stream": "stdout",
       "text": [
        "\n",
        "Scraping https://www.govtrack.us/data/congress/113/votes/2013/h169/"
       ]
      },
      {
       "output_type": "stream",
       "stream": "stdout",
       "text": [
        "\n",
        "Scraping https://www.govtrack.us/data/congress/113/votes/2013/h17/"
       ]
      },
      {
       "output_type": "stream",
       "stream": "stdout",
       "text": [
        "\n",
        "Scraping https://www.govtrack.us/data/congress/113/votes/2013/h170/"
       ]
      },
      {
       "output_type": "stream",
       "stream": "stdout",
       "text": [
        "\n",
        "Scraping https://www.govtrack.us/data/congress/113/votes/2013/h171/"
       ]
      },
      {
       "output_type": "stream",
       "stream": "stdout",
       "text": [
        "\n",
        "Scraping https://www.govtrack.us/data/congress/113/votes/2013/h172/"
       ]
      },
      {
       "output_type": "stream",
       "stream": "stdout",
       "text": [
        "\n",
        "Scraping https://www.govtrack.us/data/congress/113/votes/2013/h173/"
       ]
      },
      {
       "output_type": "stream",
       "stream": "stdout",
       "text": [
        "\n",
        "Scraping https://www.govtrack.us/data/congress/113/votes/2013/h174/"
       ]
      },
      {
       "output_type": "stream",
       "stream": "stdout",
       "text": [
        "\n",
        "Scraping https://www.govtrack.us/data/congress/113/votes/2013/h175/"
       ]
      },
      {
       "output_type": "stream",
       "stream": "stdout",
       "text": [
        "\n",
        "Scraping https://www.govtrack.us/data/congress/113/votes/2013/h176/"
       ]
      },
      {
       "output_type": "stream",
       "stream": "stdout",
       "text": [
        "\n",
        "Scraping https://www.govtrack.us/data/congress/113/votes/2013/h177/"
       ]
      },
      {
       "output_type": "stream",
       "stream": "stdout",
       "text": [
        "\n",
        "Scraping https://www.govtrack.us/data/congress/113/votes/2013/h178/"
       ]
      },
      {
       "output_type": "stream",
       "stream": "stdout",
       "text": [
        "\n",
        "Scraping https://www.govtrack.us/data/congress/113/votes/2013/h179/"
       ]
      },
      {
       "output_type": "stream",
       "stream": "stdout",
       "text": [
        "\n",
        "Scraping https://www.govtrack.us/data/congress/113/votes/2013/h18/"
       ]
      },
      {
       "output_type": "stream",
       "stream": "stdout",
       "text": [
        "\n",
        "Scraping https://www.govtrack.us/data/congress/113/votes/2013/h180/"
       ]
      },
      {
       "output_type": "stream",
       "stream": "stdout",
       "text": [
        "\n",
        "Scraping https://www.govtrack.us/data/congress/113/votes/2013/h181/"
       ]
      },
      {
       "output_type": "stream",
       "stream": "stdout",
       "text": [
        "\n",
        "Scraping https://www.govtrack.us/data/congress/113/votes/2013/h182/"
       ]
      },
      {
       "output_type": "stream",
       "stream": "stdout",
       "text": [
        "\n",
        "Scraping https://www.govtrack.us/data/congress/113/votes/2013/h183/"
       ]
      },
      {
       "output_type": "stream",
       "stream": "stdout",
       "text": [
        "\n",
        "Scraping https://www.govtrack.us/data/congress/113/votes/2013/h184/"
       ]
      },
      {
       "output_type": "stream",
       "stream": "stdout",
       "text": [
        "\n",
        "Scraping https://www.govtrack.us/data/congress/113/votes/2013/h185/"
       ]
      },
      {
       "output_type": "stream",
       "stream": "stdout",
       "text": [
        "\n",
        "Scraping https://www.govtrack.us/data/congress/113/votes/2013/h186/"
       ]
      },
      {
       "output_type": "stream",
       "stream": "stdout",
       "text": [
        "\n",
        "Scraping https://www.govtrack.us/data/congress/113/votes/2013/h187/"
       ]
      },
      {
       "output_type": "stream",
       "stream": "stdout",
       "text": [
        "\n",
        "Scraping https://www.govtrack.us/data/congress/113/votes/2013/h188/"
       ]
      },
      {
       "output_type": "stream",
       "stream": "stdout",
       "text": [
        "\n",
        "Scraping https://www.govtrack.us/data/congress/113/votes/2013/h189/"
       ]
      },
      {
       "output_type": "stream",
       "stream": "stdout",
       "text": [
        "\n",
        "Scraping https://www.govtrack.us/data/congress/113/votes/2013/h19/"
       ]
      },
      {
       "output_type": "stream",
       "stream": "stdout",
       "text": [
        "\n",
        "Scraping https://www.govtrack.us/data/congress/113/votes/2013/h190/"
       ]
      },
      {
       "output_type": "stream",
       "stream": "stdout",
       "text": [
        "\n",
        "Scraping https://www.govtrack.us/data/congress/113/votes/2013/h191/"
       ]
      },
      {
       "output_type": "stream",
       "stream": "stdout",
       "text": [
        "\n",
        "Scraping https://www.govtrack.us/data/congress/113/votes/2013/h192/"
       ]
      },
      {
       "output_type": "stream",
       "stream": "stdout",
       "text": [
        "\n",
        "Scraping https://www.govtrack.us/data/congress/113/votes/2013/h193/"
       ]
      },
      {
       "output_type": "stream",
       "stream": "stdout",
       "text": [
        "\n",
        "Scraping https://www.govtrack.us/data/congress/113/votes/2013/h194/"
       ]
      },
      {
       "output_type": "stream",
       "stream": "stdout",
       "text": [
        "\n",
        "Scraping https://www.govtrack.us/data/congress/113/votes/2013/h195/"
       ]
      },
      {
       "output_type": "stream",
       "stream": "stdout",
       "text": [
        "\n",
        "Scraping https://www.govtrack.us/data/congress/113/votes/2013/h196/"
       ]
      },
      {
       "output_type": "stream",
       "stream": "stdout",
       "text": [
        "\n",
        "Scraping https://www.govtrack.us/data/congress/113/votes/2013/h197/"
       ]
      },
      {
       "output_type": "stream",
       "stream": "stdout",
       "text": [
        "\n",
        "Scraping https://www.govtrack.us/data/congress/113/votes/2013/h198/"
       ]
      },
      {
       "output_type": "stream",
       "stream": "stdout",
       "text": [
        "\n",
        "Scraping https://www.govtrack.us/data/congress/113/votes/2013/h199/"
       ]
      },
      {
       "output_type": "stream",
       "stream": "stdout",
       "text": [
        "\n",
        "Scraping https://www.govtrack.us/data/congress/113/votes/2013/h2/"
       ]
      },
      {
       "output_type": "stream",
       "stream": "stdout",
       "text": [
        "\n",
        "Scraping https://www.govtrack.us/data/congress/113/votes/2013/h20/"
       ]
      },
      {
       "output_type": "stream",
       "stream": "stdout",
       "text": [
        "\n",
        "Scraping https://www.govtrack.us/data/congress/113/votes/2013/h200/"
       ]
      },
      {
       "output_type": "stream",
       "stream": "stdout",
       "text": [
        "\n",
        "Scraping https://www.govtrack.us/data/congress/113/votes/2013/h201/"
       ]
      },
      {
       "output_type": "stream",
       "stream": "stdout",
       "text": [
        "\n",
        "Scraping https://www.govtrack.us/data/congress/113/votes/2013/h202/"
       ]
      },
      {
       "output_type": "stream",
       "stream": "stdout",
       "text": [
        "\n",
        "Scraping https://www.govtrack.us/data/congress/113/votes/2013/h203/"
       ]
      },
      {
       "output_type": "stream",
       "stream": "stdout",
       "text": [
        "\n",
        "Scraping https://www.govtrack.us/data/congress/113/votes/2013/h204/"
       ]
      },
      {
       "output_type": "stream",
       "stream": "stdout",
       "text": [
        "\n",
        "Scraping https://www.govtrack.us/data/congress/113/votes/2013/h205/"
       ]
      },
      {
       "output_type": "stream",
       "stream": "stdout",
       "text": [
        "\n",
        "Scraping https://www.govtrack.us/data/congress/113/votes/2013/h206/"
       ]
      },
      {
       "output_type": "stream",
       "stream": "stdout",
       "text": [
        "\n",
        "Scraping https://www.govtrack.us/data/congress/113/votes/2013/h207/"
       ]
      },
      {
       "output_type": "stream",
       "stream": "stdout",
       "text": [
        "\n",
        "Scraping https://www.govtrack.us/data/congress/113/votes/2013/h208/"
       ]
      },
      {
       "output_type": "stream",
       "stream": "stdout",
       "text": [
        "\n",
        "Scraping https://www.govtrack.us/data/congress/113/votes/2013/h209/"
       ]
      },
      {
       "output_type": "stream",
       "stream": "stdout",
       "text": [
        "\n",
        "Scraping https://www.govtrack.us/data/congress/113/votes/2013/h21/"
       ]
      },
      {
       "output_type": "stream",
       "stream": "stdout",
       "text": [
        "\n",
        "Scraping https://www.govtrack.us/data/congress/113/votes/2013/h210/"
       ]
      },
      {
       "output_type": "stream",
       "stream": "stdout",
       "text": [
        "\n",
        "Scraping https://www.govtrack.us/data/congress/113/votes/2013/h211/"
       ]
      },
      {
       "output_type": "stream",
       "stream": "stdout",
       "text": [
        "\n",
        "Scraping https://www.govtrack.us/data/congress/113/votes/2013/h212/"
       ]
      },
      {
       "output_type": "stream",
       "stream": "stdout",
       "text": [
        "\n",
        "Scraping https://www.govtrack.us/data/congress/113/votes/2013/h213/"
       ]
      },
      {
       "output_type": "stream",
       "stream": "stdout",
       "text": [
        "\n",
        "Scraping https://www.govtrack.us/data/congress/113/votes/2013/h214/"
       ]
      },
      {
       "output_type": "stream",
       "stream": "stdout",
       "text": [
        "\n",
        "Scraping https://www.govtrack.us/data/congress/113/votes/2013/h215/"
       ]
      },
      {
       "output_type": "stream",
       "stream": "stdout",
       "text": [
        "\n",
        "Scraping https://www.govtrack.us/data/congress/113/votes/2013/h216/"
       ]
      },
      {
       "output_type": "stream",
       "stream": "stdout",
       "text": [
        "\n",
        "Scraping https://www.govtrack.us/data/congress/113/votes/2013/h217/"
       ]
      },
      {
       "output_type": "stream",
       "stream": "stdout",
       "text": [
        "\n",
        "Scraping https://www.govtrack.us/data/congress/113/votes/2013/h218/"
       ]
      },
      {
       "output_type": "stream",
       "stream": "stdout",
       "text": [
        "\n",
        "Scraping https://www.govtrack.us/data/congress/113/votes/2013/h219/"
       ]
      },
      {
       "output_type": "stream",
       "stream": "stdout",
       "text": [
        "\n",
        "Scraping https://www.govtrack.us/data/congress/113/votes/2013/h22/"
       ]
      },
      {
       "output_type": "stream",
       "stream": "stdout",
       "text": [
        "\n",
        "Scraping https://www.govtrack.us/data/congress/113/votes/2013/h220/"
       ]
      },
      {
       "output_type": "stream",
       "stream": "stdout",
       "text": [
        "\n",
        "Scraping https://www.govtrack.us/data/congress/113/votes/2013/h221/"
       ]
      },
      {
       "output_type": "stream",
       "stream": "stdout",
       "text": [
        "\n",
        "Scraping https://www.govtrack.us/data/congress/113/votes/2013/h222/"
       ]
      },
      {
       "output_type": "stream",
       "stream": "stdout",
       "text": [
        "\n",
        "Scraping https://www.govtrack.us/data/congress/113/votes/2013/h223/"
       ]
      },
      {
       "output_type": "stream",
       "stream": "stdout",
       "text": [
        "\n",
        "Scraping https://www.govtrack.us/data/congress/113/votes/2013/h224/"
       ]
      },
      {
       "output_type": "stream",
       "stream": "stdout",
       "text": [
        "\n",
        "Scraping https://www.govtrack.us/data/congress/113/votes/2013/h225/"
       ]
      },
      {
       "output_type": "stream",
       "stream": "stdout",
       "text": [
        "\n",
        "Scraping https://www.govtrack.us/data/congress/113/votes/2013/h226/"
       ]
      },
      {
       "output_type": "stream",
       "stream": "stdout",
       "text": [
        "\n",
        "Scraping https://www.govtrack.us/data/congress/113/votes/2013/h227/"
       ]
      },
      {
       "output_type": "stream",
       "stream": "stdout",
       "text": [
        "\n",
        "Scraping https://www.govtrack.us/data/congress/113/votes/2013/h228/"
       ]
      },
      {
       "output_type": "stream",
       "stream": "stdout",
       "text": [
        "\n",
        "Scraping https://www.govtrack.us/data/congress/113/votes/2013/h229/"
       ]
      },
      {
       "output_type": "stream",
       "stream": "stdout",
       "text": [
        "\n",
        "Scraping https://www.govtrack.us/data/congress/113/votes/2013/h23/"
       ]
      },
      {
       "output_type": "stream",
       "stream": "stdout",
       "text": [
        "\n",
        "Scraping https://www.govtrack.us/data/congress/113/votes/2013/h230/"
       ]
      },
      {
       "output_type": "stream",
       "stream": "stdout",
       "text": [
        "\n",
        "Scraping https://www.govtrack.us/data/congress/113/votes/2013/h231/"
       ]
      },
      {
       "output_type": "stream",
       "stream": "stdout",
       "text": [
        "\n",
        "Scraping https://www.govtrack.us/data/congress/113/votes/2013/h232/"
       ]
      },
      {
       "output_type": "stream",
       "stream": "stdout",
       "text": [
        "\n",
        "Scraping https://www.govtrack.us/data/congress/113/votes/2013/h233/"
       ]
      },
      {
       "output_type": "stream",
       "stream": "stdout",
       "text": [
        "\n",
        "Scraping https://www.govtrack.us/data/congress/113/votes/2013/h234/"
       ]
      },
      {
       "output_type": "stream",
       "stream": "stdout",
       "text": [
        "\n",
        "Scraping https://www.govtrack.us/data/congress/113/votes/2013/h235/"
       ]
      },
      {
       "output_type": "stream",
       "stream": "stdout",
       "text": [
        "\n",
        "Scraping https://www.govtrack.us/data/congress/113/votes/2013/h236/"
       ]
      },
      {
       "output_type": "stream",
       "stream": "stdout",
       "text": [
        "\n",
        "Scraping https://www.govtrack.us/data/congress/113/votes/2013/h237/"
       ]
      },
      {
       "output_type": "stream",
       "stream": "stdout",
       "text": [
        "\n",
        "Scraping https://www.govtrack.us/data/congress/113/votes/2013/h238/"
       ]
      },
      {
       "output_type": "stream",
       "stream": "stdout",
       "text": [
        "\n",
        "Scraping https://www.govtrack.us/data/congress/113/votes/2013/h239/"
       ]
      },
      {
       "output_type": "stream",
       "stream": "stdout",
       "text": [
        "\n",
        "Scraping https://www.govtrack.us/data/congress/113/votes/2013/h24/"
       ]
      },
      {
       "output_type": "stream",
       "stream": "stdout",
       "text": [
        "\n",
        "Scraping https://www.govtrack.us/data/congress/113/votes/2013/h240/"
       ]
      },
      {
       "output_type": "stream",
       "stream": "stdout",
       "text": [
        "\n",
        "Scraping https://www.govtrack.us/data/congress/113/votes/2013/h241/"
       ]
      },
      {
       "output_type": "stream",
       "stream": "stdout",
       "text": [
        "\n",
        "Scraping https://www.govtrack.us/data/congress/113/votes/2013/h242/"
       ]
      },
      {
       "output_type": "stream",
       "stream": "stdout",
       "text": [
        "\n",
        "Scraping https://www.govtrack.us/data/congress/113/votes/2013/h243/"
       ]
      },
      {
       "output_type": "stream",
       "stream": "stdout",
       "text": [
        "\n",
        "Scraping https://www.govtrack.us/data/congress/113/votes/2013/h244/"
       ]
      },
      {
       "output_type": "stream",
       "stream": "stdout",
       "text": [
        "\n",
        "Scraping https://www.govtrack.us/data/congress/113/votes/2013/h245/"
       ]
      },
      {
       "output_type": "stream",
       "stream": "stdout",
       "text": [
        "\n",
        "Scraping https://www.govtrack.us/data/congress/113/votes/2013/h246/"
       ]
      },
      {
       "output_type": "stream",
       "stream": "stdout",
       "text": [
        "\n",
        "Scraping https://www.govtrack.us/data/congress/113/votes/2013/h247/"
       ]
      },
      {
       "output_type": "stream",
       "stream": "stdout",
       "text": [
        "\n",
        "Scraping https://www.govtrack.us/data/congress/113/votes/2013/h248/"
       ]
      },
      {
       "output_type": "stream",
       "stream": "stdout",
       "text": [
        "\n",
        "Scraping https://www.govtrack.us/data/congress/113/votes/2013/h249/"
       ]
      },
      {
       "output_type": "stream",
       "stream": "stdout",
       "text": [
        "\n",
        "Scraping https://www.govtrack.us/data/congress/113/votes/2013/h25/"
       ]
      },
      {
       "output_type": "stream",
       "stream": "stdout",
       "text": [
        "\n",
        "Scraping https://www.govtrack.us/data/congress/113/votes/2013/h250/"
       ]
      },
      {
       "output_type": "stream",
       "stream": "stdout",
       "text": [
        "\n",
        "Scraping https://www.govtrack.us/data/congress/113/votes/2013/h251/"
       ]
      },
      {
       "output_type": "stream",
       "stream": "stdout",
       "text": [
        "\n",
        "Scraping https://www.govtrack.us/data/congress/113/votes/2013/h252/"
       ]
      },
      {
       "output_type": "stream",
       "stream": "stdout",
       "text": [
        "\n",
        "Scraping https://www.govtrack.us/data/congress/113/votes/2013/h253/"
       ]
      },
      {
       "output_type": "stream",
       "stream": "stdout",
       "text": [
        "\n",
        "Scraping https://www.govtrack.us/data/congress/113/votes/2013/h254/"
       ]
      },
      {
       "output_type": "stream",
       "stream": "stdout",
       "text": [
        "\n",
        "Scraping https://www.govtrack.us/data/congress/113/votes/2013/h255/"
       ]
      },
      {
       "output_type": "stream",
       "stream": "stdout",
       "text": [
        "\n",
        "Scraping https://www.govtrack.us/data/congress/113/votes/2013/h256/"
       ]
      },
      {
       "output_type": "stream",
       "stream": "stdout",
       "text": [
        "\n",
        "Scraping https://www.govtrack.us/data/congress/113/votes/2013/h257/"
       ]
      },
      {
       "output_type": "stream",
       "stream": "stdout",
       "text": [
        "\n",
        "Scraping https://www.govtrack.us/data/congress/113/votes/2013/h258/"
       ]
      },
      {
       "output_type": "stream",
       "stream": "stdout",
       "text": [
        "\n",
        "Scraping https://www.govtrack.us/data/congress/113/votes/2013/h259/"
       ]
      },
      {
       "output_type": "stream",
       "stream": "stdout",
       "text": [
        "\n",
        "Scraping https://www.govtrack.us/data/congress/113/votes/2013/h26/"
       ]
      },
      {
       "output_type": "stream",
       "stream": "stdout",
       "text": [
        "\n",
        "Scraping https://www.govtrack.us/data/congress/113/votes/2013/h260/"
       ]
      },
      {
       "output_type": "stream",
       "stream": "stdout",
       "text": [
        "\n",
        "Scraping https://www.govtrack.us/data/congress/113/votes/2013/h261/"
       ]
      },
      {
       "output_type": "stream",
       "stream": "stdout",
       "text": [
        "\n",
        "Scraping https://www.govtrack.us/data/congress/113/votes/2013/h262/"
       ]
      },
      {
       "output_type": "stream",
       "stream": "stdout",
       "text": [
        "\n",
        "Scraping https://www.govtrack.us/data/congress/113/votes/2013/h263/"
       ]
      },
      {
       "output_type": "stream",
       "stream": "stdout",
       "text": [
        "\n",
        "Scraping https://www.govtrack.us/data/congress/113/votes/2013/h264/"
       ]
      },
      {
       "output_type": "stream",
       "stream": "stdout",
       "text": [
        "\n",
        "Scraping https://www.govtrack.us/data/congress/113/votes/2013/h265/"
       ]
      },
      {
       "output_type": "stream",
       "stream": "stdout",
       "text": [
        "\n",
        "Scraping https://www.govtrack.us/data/congress/113/votes/2013/h266/"
       ]
      },
      {
       "output_type": "stream",
       "stream": "stdout",
       "text": [
        "\n",
        "Scraping https://www.govtrack.us/data/congress/113/votes/2013/h267/"
       ]
      },
      {
       "output_type": "stream",
       "stream": "stdout",
       "text": [
        "\n",
        "Scraping https://www.govtrack.us/data/congress/113/votes/2013/h268/"
       ]
      },
      {
       "output_type": "stream",
       "stream": "stdout",
       "text": [
        "\n",
        "Scraping https://www.govtrack.us/data/congress/113/votes/2013/h269/"
       ]
      },
      {
       "output_type": "stream",
       "stream": "stdout",
       "text": [
        "\n",
        "Scraping https://www.govtrack.us/data/congress/113/votes/2013/h27/"
       ]
      },
      {
       "output_type": "stream",
       "stream": "stdout",
       "text": [
        "\n",
        "Scraping https://www.govtrack.us/data/congress/113/votes/2013/h270/"
       ]
      },
      {
       "output_type": "stream",
       "stream": "stdout",
       "text": [
        "\n",
        "Scraping https://www.govtrack.us/data/congress/113/votes/2013/h271/"
       ]
      },
      {
       "output_type": "stream",
       "stream": "stdout",
       "text": [
        "\n",
        "Scraping https://www.govtrack.us/data/congress/113/votes/2013/h272/"
       ]
      },
      {
       "output_type": "stream",
       "stream": "stdout",
       "text": [
        "\n",
        "Scraping https://www.govtrack.us/data/congress/113/votes/2013/h273/"
       ]
      },
      {
       "output_type": "stream",
       "stream": "stdout",
       "text": [
        "\n",
        "Scraping https://www.govtrack.us/data/congress/113/votes/2013/h274/"
       ]
      },
      {
       "output_type": "stream",
       "stream": "stdout",
       "text": [
        "\n",
        "Scraping https://www.govtrack.us/data/congress/113/votes/2013/h275/"
       ]
      },
      {
       "output_type": "stream",
       "stream": "stdout",
       "text": [
        "\n",
        "Scraping https://www.govtrack.us/data/congress/113/votes/2013/h276/"
       ]
      },
      {
       "output_type": "stream",
       "stream": "stdout",
       "text": [
        "\n",
        "Scraping https://www.govtrack.us/data/congress/113/votes/2013/h277/"
       ]
      },
      {
       "output_type": "stream",
       "stream": "stdout",
       "text": [
        "\n",
        "Scraping https://www.govtrack.us/data/congress/113/votes/2013/h278/"
       ]
      },
      {
       "output_type": "stream",
       "stream": "stdout",
       "text": [
        "\n",
        "Scraping https://www.govtrack.us/data/congress/113/votes/2013/h279/"
       ]
      },
      {
       "output_type": "stream",
       "stream": "stdout",
       "text": [
        "\n",
        "Scraping https://www.govtrack.us/data/congress/113/votes/2013/h28/"
       ]
      },
      {
       "output_type": "stream",
       "stream": "stdout",
       "text": [
        "\n",
        "Scraping https://www.govtrack.us/data/congress/113/votes/2013/h280/"
       ]
      },
      {
       "output_type": "stream",
       "stream": "stdout",
       "text": [
        "\n",
        "Scraping https://www.govtrack.us/data/congress/113/votes/2013/h281/"
       ]
      },
      {
       "output_type": "stream",
       "stream": "stdout",
       "text": [
        "\n",
        "Scraping https://www.govtrack.us/data/congress/113/votes/2013/h282/"
       ]
      },
      {
       "output_type": "stream",
       "stream": "stdout",
       "text": [
        "\n",
        "Scraping https://www.govtrack.us/data/congress/113/votes/2013/h283/"
       ]
      },
      {
       "output_type": "stream",
       "stream": "stdout",
       "text": [
        "\n",
        "Scraping https://www.govtrack.us/data/congress/113/votes/2013/h284/"
       ]
      },
      {
       "output_type": "stream",
       "stream": "stdout",
       "text": [
        "\n",
        "Scraping https://www.govtrack.us/data/congress/113/votes/2013/h285/"
       ]
      },
      {
       "output_type": "stream",
       "stream": "stdout",
       "text": [
        "\n",
        "Scraping https://www.govtrack.us/data/congress/113/votes/2013/h286/"
       ]
      },
      {
       "output_type": "stream",
       "stream": "stdout",
       "text": [
        "\n",
        "Scraping https://www.govtrack.us/data/congress/113/votes/2013/h287/"
       ]
      },
      {
       "output_type": "stream",
       "stream": "stdout",
       "text": [
        "\n",
        "Scraping https://www.govtrack.us/data/congress/113/votes/2013/h288/"
       ]
      },
      {
       "output_type": "stream",
       "stream": "stdout",
       "text": [
        "\n",
        "Scraping https://www.govtrack.us/data/congress/113/votes/2013/h289/"
       ]
      },
      {
       "output_type": "stream",
       "stream": "stdout",
       "text": [
        "\n",
        "Scraping https://www.govtrack.us/data/congress/113/votes/2013/h29/"
       ]
      },
      {
       "output_type": "stream",
       "stream": "stdout",
       "text": [
        "\n",
        "Scraping https://www.govtrack.us/data/congress/113/votes/2013/h290/"
       ]
      },
      {
       "output_type": "stream",
       "stream": "stdout",
       "text": [
        "\n",
        "Scraping https://www.govtrack.us/data/congress/113/votes/2013/h291/"
       ]
      },
      {
       "output_type": "stream",
       "stream": "stdout",
       "text": [
        "\n",
        "Scraping https://www.govtrack.us/data/congress/113/votes/2013/h292/"
       ]
      },
      {
       "output_type": "stream",
       "stream": "stdout",
       "text": [
        "\n",
        "Scraping https://www.govtrack.us/data/congress/113/votes/2013/h293/"
       ]
      },
      {
       "output_type": "stream",
       "stream": "stdout",
       "text": [
        "\n",
        "Scraping https://www.govtrack.us/data/congress/113/votes/2013/h294/"
       ]
      },
      {
       "output_type": "stream",
       "stream": "stdout",
       "text": [
        "\n",
        "Scraping https://www.govtrack.us/data/congress/113/votes/2013/h295/"
       ]
      },
      {
       "output_type": "stream",
       "stream": "stdout",
       "text": [
        "\n",
        "Scraping https://www.govtrack.us/data/congress/113/votes/2013/h296/"
       ]
      },
      {
       "output_type": "stream",
       "stream": "stdout",
       "text": [
        "\n",
        "Scraping https://www.govtrack.us/data/congress/113/votes/2013/h297/"
       ]
      },
      {
       "output_type": "stream",
       "stream": "stdout",
       "text": [
        "\n",
        "Scraping https://www.govtrack.us/data/congress/113/votes/2013/h298/"
       ]
      },
      {
       "output_type": "stream",
       "stream": "stdout",
       "text": [
        "\n",
        "Scraping https://www.govtrack.us/data/congress/113/votes/2013/h299/"
       ]
      },
      {
       "output_type": "stream",
       "stream": "stdout",
       "text": [
        "\n",
        "Scraping https://www.govtrack.us/data/congress/113/votes/2013/h3/"
       ]
      },
      {
       "output_type": "stream",
       "stream": "stdout",
       "text": [
        "\n",
        "Scraping https://www.govtrack.us/data/congress/113/votes/2013/h30/"
       ]
      },
      {
       "output_type": "stream",
       "stream": "stdout",
       "text": [
        "\n",
        "Scraping https://www.govtrack.us/data/congress/113/votes/2013/h300/"
       ]
      },
      {
       "output_type": "stream",
       "stream": "stdout",
       "text": [
        "\n",
        "Scraping https://www.govtrack.us/data/congress/113/votes/2013/h301/"
       ]
      },
      {
       "output_type": "stream",
       "stream": "stdout",
       "text": [
        "\n",
        "Scraping https://www.govtrack.us/data/congress/113/votes/2013/h302/"
       ]
      },
      {
       "output_type": "stream",
       "stream": "stdout",
       "text": [
        "\n",
        "Scraping https://www.govtrack.us/data/congress/113/votes/2013/h303/"
       ]
      },
      {
       "output_type": "stream",
       "stream": "stdout",
       "text": [
        "\n",
        "Scraping https://www.govtrack.us/data/congress/113/votes/2013/h304/"
       ]
      },
      {
       "output_type": "stream",
       "stream": "stdout",
       "text": [
        "\n",
        "Scraping https://www.govtrack.us/data/congress/113/votes/2013/h305/"
       ]
      },
      {
       "output_type": "stream",
       "stream": "stdout",
       "text": [
        "\n",
        "Scraping https://www.govtrack.us/data/congress/113/votes/2013/h306/"
       ]
      },
      {
       "output_type": "stream",
       "stream": "stdout",
       "text": [
        "\n",
        "Scraping https://www.govtrack.us/data/congress/113/votes/2013/h307/"
       ]
      },
      {
       "output_type": "stream",
       "stream": "stdout",
       "text": [
        "\n",
        "Scraping https://www.govtrack.us/data/congress/113/votes/2013/h308/"
       ]
      },
      {
       "output_type": "stream",
       "stream": "stdout",
       "text": [
        "\n",
        "Scraping https://www.govtrack.us/data/congress/113/votes/2013/h309/"
       ]
      },
      {
       "output_type": "stream",
       "stream": "stdout",
       "text": [
        "\n",
        "Scraping https://www.govtrack.us/data/congress/113/votes/2013/h31/"
       ]
      },
      {
       "output_type": "stream",
       "stream": "stdout",
       "text": [
        "\n",
        "Scraping https://www.govtrack.us/data/congress/113/votes/2013/h310/"
       ]
      },
      {
       "output_type": "stream",
       "stream": "stdout",
       "text": [
        "\n",
        "Scraping https://www.govtrack.us/data/congress/113/votes/2013/h311/"
       ]
      },
      {
       "output_type": "stream",
       "stream": "stdout",
       "text": [
        "\n",
        "Scraping https://www.govtrack.us/data/congress/113/votes/2013/h312/"
       ]
      },
      {
       "output_type": "stream",
       "stream": "stdout",
       "text": [
        "\n",
        "Scraping https://www.govtrack.us/data/congress/113/votes/2013/h313/"
       ]
      },
      {
       "output_type": "stream",
       "stream": "stdout",
       "text": [
        "\n",
        "Scraping https://www.govtrack.us/data/congress/113/votes/2013/h314/"
       ]
      },
      {
       "output_type": "stream",
       "stream": "stdout",
       "text": [
        "\n",
        "Scraping https://www.govtrack.us/data/congress/113/votes/2013/h315/"
       ]
      },
      {
       "output_type": "stream",
       "stream": "stdout",
       "text": [
        "\n",
        "Scraping https://www.govtrack.us/data/congress/113/votes/2013/h316/"
       ]
      },
      {
       "output_type": "stream",
       "stream": "stdout",
       "text": [
        "\n",
        "Scraping https://www.govtrack.us/data/congress/113/votes/2013/h317/"
       ]
      },
      {
       "output_type": "stream",
       "stream": "stdout",
       "text": [
        "\n",
        "Scraping https://www.govtrack.us/data/congress/113/votes/2013/h318/"
       ]
      },
      {
       "output_type": "stream",
       "stream": "stdout",
       "text": [
        "\n",
        "Scraping https://www.govtrack.us/data/congress/113/votes/2013/h319/"
       ]
      },
      {
       "output_type": "stream",
       "stream": "stdout",
       "text": [
        "\n",
        "Scraping https://www.govtrack.us/data/congress/113/votes/2013/h32/"
       ]
      },
      {
       "output_type": "stream",
       "stream": "stdout",
       "text": [
        "\n",
        "Scraping https://www.govtrack.us/data/congress/113/votes/2013/h320/"
       ]
      },
      {
       "output_type": "stream",
       "stream": "stdout",
       "text": [
        "\n",
        "Scraping https://www.govtrack.us/data/congress/113/votes/2013/h321/"
       ]
      },
      {
       "output_type": "stream",
       "stream": "stdout",
       "text": [
        "\n",
        "Scraping https://www.govtrack.us/data/congress/113/votes/2013/h322/"
       ]
      },
      {
       "output_type": "stream",
       "stream": "stdout",
       "text": [
        "\n",
        "Scraping https://www.govtrack.us/data/congress/113/votes/2013/h323/"
       ]
      },
      {
       "output_type": "stream",
       "stream": "stdout",
       "text": [
        "\n",
        "Scraping https://www.govtrack.us/data/congress/113/votes/2013/h324/"
       ]
      },
      {
       "output_type": "stream",
       "stream": "stdout",
       "text": [
        "\n",
        "Scraping https://www.govtrack.us/data/congress/113/votes/2013/h325/"
       ]
      },
      {
       "output_type": "stream",
       "stream": "stdout",
       "text": [
        "\n",
        "Scraping https://www.govtrack.us/data/congress/113/votes/2013/h326/"
       ]
      },
      {
       "output_type": "stream",
       "stream": "stdout",
       "text": [
        "\n",
        "Scraping https://www.govtrack.us/data/congress/113/votes/2013/h327/"
       ]
      },
      {
       "output_type": "stream",
       "stream": "stdout",
       "text": [
        "\n",
        "Scraping https://www.govtrack.us/data/congress/113/votes/2013/h328/"
       ]
      },
      {
       "output_type": "stream",
       "stream": "stdout",
       "text": [
        "\n",
        "Scraping https://www.govtrack.us/data/congress/113/votes/2013/h329/"
       ]
      },
      {
       "output_type": "stream",
       "stream": "stdout",
       "text": [
        "\n",
        "Scraping https://www.govtrack.us/data/congress/113/votes/2013/h33/"
       ]
      },
      {
       "output_type": "stream",
       "stream": "stdout",
       "text": [
        "\n",
        "Scraping https://www.govtrack.us/data/congress/113/votes/2013/h330/"
       ]
      },
      {
       "output_type": "stream",
       "stream": "stdout",
       "text": [
        "\n",
        "Scraping https://www.govtrack.us/data/congress/113/votes/2013/h331/"
       ]
      },
      {
       "output_type": "stream",
       "stream": "stdout",
       "text": [
        "\n",
        "Scraping https://www.govtrack.us/data/congress/113/votes/2013/h332/"
       ]
      },
      {
       "output_type": "stream",
       "stream": "stdout",
       "text": [
        "\n",
        "Scraping https://www.govtrack.us/data/congress/113/votes/2013/h333/"
       ]
      },
      {
       "output_type": "stream",
       "stream": "stdout",
       "text": [
        "\n",
        "Scraping https://www.govtrack.us/data/congress/113/votes/2013/h334/"
       ]
      },
      {
       "output_type": "stream",
       "stream": "stdout",
       "text": [
        "\n",
        "Scraping https://www.govtrack.us/data/congress/113/votes/2013/h335/"
       ]
      },
      {
       "output_type": "stream",
       "stream": "stdout",
       "text": [
        "\n",
        "Scraping https://www.govtrack.us/data/congress/113/votes/2013/h336/"
       ]
      },
      {
       "output_type": "stream",
       "stream": "stdout",
       "text": [
        "\n",
        "Scraping https://www.govtrack.us/data/congress/113/votes/2013/h337/"
       ]
      },
      {
       "output_type": "stream",
       "stream": "stdout",
       "text": [
        "\n",
        "Scraping https://www.govtrack.us/data/congress/113/votes/2013/h338/"
       ]
      },
      {
       "output_type": "stream",
       "stream": "stdout",
       "text": [
        "\n",
        "Scraping https://www.govtrack.us/data/congress/113/votes/2013/h339/"
       ]
      },
      {
       "output_type": "stream",
       "stream": "stdout",
       "text": [
        "\n",
        "Scraping https://www.govtrack.us/data/congress/113/votes/2013/h34/"
       ]
      },
      {
       "output_type": "stream",
       "stream": "stdout",
       "text": [
        "\n",
        "Scraping https://www.govtrack.us/data/congress/113/votes/2013/h340/"
       ]
      },
      {
       "output_type": "stream",
       "stream": "stdout",
       "text": [
        "\n",
        "Scraping https://www.govtrack.us/data/congress/113/votes/2013/h341/"
       ]
      },
      {
       "output_type": "stream",
       "stream": "stdout",
       "text": [
        "\n",
        "Scraping https://www.govtrack.us/data/congress/113/votes/2013/h342/"
       ]
      },
      {
       "output_type": "stream",
       "stream": "stdout",
       "text": [
        "\n",
        "Scraping https://www.govtrack.us/data/congress/113/votes/2013/h343/"
       ]
      },
      {
       "output_type": "stream",
       "stream": "stdout",
       "text": [
        "\n",
        "Scraping https://www.govtrack.us/data/congress/113/votes/2013/h344/"
       ]
      },
      {
       "output_type": "stream",
       "stream": "stdout",
       "text": [
        "\n",
        "Scraping https://www.govtrack.us/data/congress/113/votes/2013/h345/"
       ]
      },
      {
       "output_type": "stream",
       "stream": "stdout",
       "text": [
        "\n",
        "Scraping https://www.govtrack.us/data/congress/113/votes/2013/h346/"
       ]
      },
      {
       "output_type": "stream",
       "stream": "stdout",
       "text": [
        "\n",
        "Scraping https://www.govtrack.us/data/congress/113/votes/2013/h347/"
       ]
      },
      {
       "output_type": "stream",
       "stream": "stdout",
       "text": [
        "\n",
        "Scraping https://www.govtrack.us/data/congress/113/votes/2013/h348/"
       ]
      },
      {
       "output_type": "stream",
       "stream": "stdout",
       "text": [
        "\n",
        "Scraping https://www.govtrack.us/data/congress/113/votes/2013/h349/"
       ]
      },
      {
       "output_type": "stream",
       "stream": "stdout",
       "text": [
        "\n",
        "Scraping https://www.govtrack.us/data/congress/113/votes/2013/h35/"
       ]
      },
      {
       "output_type": "stream",
       "stream": "stdout",
       "text": [
        "\n",
        "Scraping https://www.govtrack.us/data/congress/113/votes/2013/h350/"
       ]
      },
      {
       "output_type": "stream",
       "stream": "stdout",
       "text": [
        "\n",
        "Scraping https://www.govtrack.us/data/congress/113/votes/2013/h351/"
       ]
      },
      {
       "output_type": "stream",
       "stream": "stdout",
       "text": [
        "\n",
        "Scraping https://www.govtrack.us/data/congress/113/votes/2013/h352/"
       ]
      },
      {
       "output_type": "stream",
       "stream": "stdout",
       "text": [
        "\n",
        "Scraping https://www.govtrack.us/data/congress/113/votes/2013/h353/"
       ]
      },
      {
       "output_type": "stream",
       "stream": "stdout",
       "text": [
        "\n",
        "Scraping https://www.govtrack.us/data/congress/113/votes/2013/h354/"
       ]
      },
      {
       "output_type": "stream",
       "stream": "stdout",
       "text": [
        "\n",
        "Scraping https://www.govtrack.us/data/congress/113/votes/2013/h355/"
       ]
      },
      {
       "output_type": "stream",
       "stream": "stdout",
       "text": [
        "\n",
        "Scraping https://www.govtrack.us/data/congress/113/votes/2013/h356/"
       ]
      },
      {
       "output_type": "stream",
       "stream": "stdout",
       "text": [
        "\n",
        "Scraping https://www.govtrack.us/data/congress/113/votes/2013/h357/"
       ]
      },
      {
       "output_type": "stream",
       "stream": "stdout",
       "text": [
        "\n",
        "Scraping https://www.govtrack.us/data/congress/113/votes/2013/h358/"
       ]
      },
      {
       "output_type": "stream",
       "stream": "stdout",
       "text": [
        "\n",
        "Scraping https://www.govtrack.us/data/congress/113/votes/2013/h359/"
       ]
      },
      {
       "output_type": "stream",
       "stream": "stdout",
       "text": [
        "\n",
        "Scraping https://www.govtrack.us/data/congress/113/votes/2013/h36/"
       ]
      },
      {
       "output_type": "stream",
       "stream": "stdout",
       "text": [
        "\n",
        "Scraping https://www.govtrack.us/data/congress/113/votes/2013/h360/"
       ]
      },
      {
       "output_type": "stream",
       "stream": "stdout",
       "text": [
        "\n",
        "Scraping https://www.govtrack.us/data/congress/113/votes/2013/h361/"
       ]
      },
      {
       "output_type": "stream",
       "stream": "stdout",
       "text": [
        "\n",
        "Scraping https://www.govtrack.us/data/congress/113/votes/2013/h362/"
       ]
      },
      {
       "output_type": "stream",
       "stream": "stdout",
       "text": [
        "\n",
        "Scraping https://www.govtrack.us/data/congress/113/votes/2013/h363/"
       ]
      },
      {
       "output_type": "stream",
       "stream": "stdout",
       "text": [
        "\n",
        "Scraping https://www.govtrack.us/data/congress/113/votes/2013/h364/"
       ]
      },
      {
       "output_type": "stream",
       "stream": "stdout",
       "text": [
        "\n",
        "Scraping https://www.govtrack.us/data/congress/113/votes/2013/h365/"
       ]
      },
      {
       "output_type": "stream",
       "stream": "stdout",
       "text": [
        "\n",
        "Scraping https://www.govtrack.us/data/congress/113/votes/2013/h366/"
       ]
      },
      {
       "output_type": "stream",
       "stream": "stdout",
       "text": [
        "\n",
        "Scraping https://www.govtrack.us/data/congress/113/votes/2013/h367/"
       ]
      },
      {
       "output_type": "stream",
       "stream": "stdout",
       "text": [
        "\n",
        "Scraping https://www.govtrack.us/data/congress/113/votes/2013/h368/"
       ]
      },
      {
       "output_type": "stream",
       "stream": "stdout",
       "text": [
        "\n",
        "Scraping https://www.govtrack.us/data/congress/113/votes/2013/h369/"
       ]
      },
      {
       "output_type": "stream",
       "stream": "stdout",
       "text": [
        "\n",
        "Scraping https://www.govtrack.us/data/congress/113/votes/2013/h37/"
       ]
      },
      {
       "output_type": "stream",
       "stream": "stdout",
       "text": [
        "\n",
        "Scraping https://www.govtrack.us/data/congress/113/votes/2013/h370/"
       ]
      },
      {
       "output_type": "stream",
       "stream": "stdout",
       "text": [
        "\n",
        "Scraping https://www.govtrack.us/data/congress/113/votes/2013/h371/"
       ]
      },
      {
       "output_type": "stream",
       "stream": "stdout",
       "text": [
        "\n",
        "Scraping https://www.govtrack.us/data/congress/113/votes/2013/h372/"
       ]
      },
      {
       "output_type": "stream",
       "stream": "stdout",
       "text": [
        "\n",
        "Scraping https://www.govtrack.us/data/congress/113/votes/2013/h373/"
       ]
      },
      {
       "output_type": "stream",
       "stream": "stdout",
       "text": [
        "\n",
        "Scraping https://www.govtrack.us/data/congress/113/votes/2013/h374/"
       ]
      },
      {
       "output_type": "stream",
       "stream": "stdout",
       "text": [
        "\n",
        "Scraping https://www.govtrack.us/data/congress/113/votes/2013/h375/"
       ]
      },
      {
       "output_type": "stream",
       "stream": "stdout",
       "text": [
        "\n",
        "Scraping https://www.govtrack.us/data/congress/113/votes/2013/h376/"
       ]
      },
      {
       "output_type": "stream",
       "stream": "stdout",
       "text": [
        "\n",
        "Scraping https://www.govtrack.us/data/congress/113/votes/2013/h377/"
       ]
      },
      {
       "output_type": "stream",
       "stream": "stdout",
       "text": [
        "\n",
        "Scraping https://www.govtrack.us/data/congress/113/votes/2013/h378/"
       ]
      },
      {
       "output_type": "stream",
       "stream": "stdout",
       "text": [
        "\n",
        "Scraping https://www.govtrack.us/data/congress/113/votes/2013/h379/"
       ]
      },
      {
       "output_type": "stream",
       "stream": "stdout",
       "text": [
        "\n",
        "Scraping https://www.govtrack.us/data/congress/113/votes/2013/h38/"
       ]
      },
      {
       "output_type": "stream",
       "stream": "stdout",
       "text": [
        "\n",
        "Scraping https://www.govtrack.us/data/congress/113/votes/2013/h380/"
       ]
      },
      {
       "output_type": "stream",
       "stream": "stdout",
       "text": [
        "\n",
        "Scraping https://www.govtrack.us/data/congress/113/votes/2013/h381/"
       ]
      },
      {
       "output_type": "stream",
       "stream": "stdout",
       "text": [
        "\n",
        "Scraping https://www.govtrack.us/data/congress/113/votes/2013/h382/"
       ]
      },
      {
       "output_type": "stream",
       "stream": "stdout",
       "text": [
        "\n",
        "Scraping https://www.govtrack.us/data/congress/113/votes/2013/h383/"
       ]
      },
      {
       "output_type": "stream",
       "stream": "stdout",
       "text": [
        "\n",
        "Scraping https://www.govtrack.us/data/congress/113/votes/2013/h384/"
       ]
      },
      {
       "output_type": "stream",
       "stream": "stdout",
       "text": [
        "\n",
        "Scraping https://www.govtrack.us/data/congress/113/votes/2013/h385/"
       ]
      },
      {
       "output_type": "stream",
       "stream": "stdout",
       "text": [
        "\n",
        "Scraping https://www.govtrack.us/data/congress/113/votes/2013/h386/"
       ]
      },
      {
       "output_type": "stream",
       "stream": "stdout",
       "text": [
        "\n",
        "Scraping https://www.govtrack.us/data/congress/113/votes/2013/h387/"
       ]
      },
      {
       "output_type": "stream",
       "stream": "stdout",
       "text": [
        "\n",
        "Scraping https://www.govtrack.us/data/congress/113/votes/2013/h388/"
       ]
      },
      {
       "output_type": "stream",
       "stream": "stdout",
       "text": [
        "\n",
        "Scraping https://www.govtrack.us/data/congress/113/votes/2013/h389/"
       ]
      },
      {
       "output_type": "stream",
       "stream": "stdout",
       "text": [
        "\n",
        "Scraping https://www.govtrack.us/data/congress/113/votes/2013/h39/"
       ]
      },
      {
       "output_type": "stream",
       "stream": "stdout",
       "text": [
        "\n",
        "Scraping https://www.govtrack.us/data/congress/113/votes/2013/h390/"
       ]
      },
      {
       "output_type": "stream",
       "stream": "stdout",
       "text": [
        "\n",
        "Scraping https://www.govtrack.us/data/congress/113/votes/2013/h391/"
       ]
      },
      {
       "output_type": "stream",
       "stream": "stdout",
       "text": [
        "\n",
        "Scraping https://www.govtrack.us/data/congress/113/votes/2013/h392/"
       ]
      },
      {
       "output_type": "stream",
       "stream": "stdout",
       "text": [
        "\n",
        "Scraping https://www.govtrack.us/data/congress/113/votes/2013/h393/"
       ]
      },
      {
       "output_type": "stream",
       "stream": "stdout",
       "text": [
        "\n",
        "Scraping https://www.govtrack.us/data/congress/113/votes/2013/h394/"
       ]
      },
      {
       "output_type": "stream",
       "stream": "stdout",
       "text": [
        "\n",
        "Scraping https://www.govtrack.us/data/congress/113/votes/2013/h395/"
       ]
      },
      {
       "output_type": "stream",
       "stream": "stdout",
       "text": [
        "\n",
        "Scraping https://www.govtrack.us/data/congress/113/votes/2013/h396/"
       ]
      },
      {
       "output_type": "stream",
       "stream": "stdout",
       "text": [
        "\n",
        "Scraping https://www.govtrack.us/data/congress/113/votes/2013/h397/"
       ]
      },
      {
       "output_type": "stream",
       "stream": "stdout",
       "text": [
        "\n",
        "Scraping https://www.govtrack.us/data/congress/113/votes/2013/h398/"
       ]
      },
      {
       "output_type": "stream",
       "stream": "stdout",
       "text": [
        "\n",
        "Scraping https://www.govtrack.us/data/congress/113/votes/2013/h399/"
       ]
      },
      {
       "output_type": "stream",
       "stream": "stdout",
       "text": [
        "\n",
        "Scraping https://www.govtrack.us/data/congress/113/votes/2013/h4/"
       ]
      },
      {
       "output_type": "stream",
       "stream": "stdout",
       "text": [
        "\n",
        "Scraping https://www.govtrack.us/data/congress/113/votes/2013/h40/"
       ]
      },
      {
       "output_type": "stream",
       "stream": "stdout",
       "text": [
        "\n",
        "Scraping https://www.govtrack.us/data/congress/113/votes/2013/h400/"
       ]
      },
      {
       "output_type": "stream",
       "stream": "stdout",
       "text": [
        "\n",
        "Scraping https://www.govtrack.us/data/congress/113/votes/2013/h401/"
       ]
      },
      {
       "output_type": "stream",
       "stream": "stdout",
       "text": [
        "\n",
        "Scraping https://www.govtrack.us/data/congress/113/votes/2013/h402/"
       ]
      },
      {
       "output_type": "stream",
       "stream": "stdout",
       "text": [
        "\n",
        "Scraping https://www.govtrack.us/data/congress/113/votes/2013/h403/"
       ]
      },
      {
       "output_type": "stream",
       "stream": "stdout",
       "text": [
        "\n",
        "Scraping https://www.govtrack.us/data/congress/113/votes/2013/h404/"
       ]
      },
      {
       "output_type": "stream",
       "stream": "stdout",
       "text": [
        "\n",
        "Scraping https://www.govtrack.us/data/congress/113/votes/2013/h405/"
       ]
      },
      {
       "output_type": "stream",
       "stream": "stdout",
       "text": [
        "\n",
        "Scraping https://www.govtrack.us/data/congress/113/votes/2013/h406/"
       ]
      },
      {
       "output_type": "stream",
       "stream": "stdout",
       "text": [
        "\n",
        "Scraping https://www.govtrack.us/data/congress/113/votes/2013/h407/"
       ]
      },
      {
       "output_type": "stream",
       "stream": "stdout",
       "text": [
        "\n",
        "Scraping https://www.govtrack.us/data/congress/113/votes/2013/h408/"
       ]
      },
      {
       "output_type": "stream",
       "stream": "stdout",
       "text": [
        "\n",
        "Scraping https://www.govtrack.us/data/congress/113/votes/2013/h409/"
       ]
      },
      {
       "output_type": "stream",
       "stream": "stdout",
       "text": [
        "\n",
        "Scraping https://www.govtrack.us/data/congress/113/votes/2013/h41/"
       ]
      },
      {
       "output_type": "stream",
       "stream": "stdout",
       "text": [
        "\n",
        "Scraping https://www.govtrack.us/data/congress/113/votes/2013/h410/"
       ]
      },
      {
       "output_type": "stream",
       "stream": "stdout",
       "text": [
        "\n",
        "Scraping https://www.govtrack.us/data/congress/113/votes/2013/h411/"
       ]
      },
      {
       "output_type": "stream",
       "stream": "stdout",
       "text": [
        "\n",
        "Scraping https://www.govtrack.us/data/congress/113/votes/2013/h412/"
       ]
      },
      {
       "output_type": "stream",
       "stream": "stdout",
       "text": [
        "\n",
        "Scraping https://www.govtrack.us/data/congress/113/votes/2013/h413/"
       ]
      },
      {
       "output_type": "stream",
       "stream": "stdout",
       "text": [
        "\n",
        "Scraping https://www.govtrack.us/data/congress/113/votes/2013/h414/"
       ]
      },
      {
       "output_type": "stream",
       "stream": "stdout",
       "text": [
        "\n",
        "Scraping https://www.govtrack.us/data/congress/113/votes/2013/h415/"
       ]
      },
      {
       "output_type": "stream",
       "stream": "stdout",
       "text": [
        "\n",
        "Scraping https://www.govtrack.us/data/congress/113/votes/2013/h416/"
       ]
      },
      {
       "output_type": "stream",
       "stream": "stdout",
       "text": [
        "\n",
        "Scraping https://www.govtrack.us/data/congress/113/votes/2013/h417/"
       ]
      },
      {
       "output_type": "stream",
       "stream": "stdout",
       "text": [
        "\n",
        "Scraping https://www.govtrack.us/data/congress/113/votes/2013/h418/"
       ]
      },
      {
       "output_type": "stream",
       "stream": "stdout",
       "text": [
        "\n",
        "Scraping https://www.govtrack.us/data/congress/113/votes/2013/h419/"
       ]
      },
      {
       "output_type": "stream",
       "stream": "stdout",
       "text": [
        "\n",
        "Scraping https://www.govtrack.us/data/congress/113/votes/2013/h42/"
       ]
      },
      {
       "output_type": "stream",
       "stream": "stdout",
       "text": [
        "\n",
        "Scraping https://www.govtrack.us/data/congress/113/votes/2013/h420/"
       ]
      },
      {
       "output_type": "stream",
       "stream": "stdout",
       "text": [
        "\n",
        "Scraping https://www.govtrack.us/data/congress/113/votes/2013/h421/"
       ]
      },
      {
       "output_type": "stream",
       "stream": "stdout",
       "text": [
        "\n",
        "Scraping https://www.govtrack.us/data/congress/113/votes/2013/h422/"
       ]
      },
      {
       "output_type": "stream",
       "stream": "stdout",
       "text": [
        "\n",
        "Scraping https://www.govtrack.us/data/congress/113/votes/2013/h423/"
       ]
      },
      {
       "output_type": "stream",
       "stream": "stdout",
       "text": [
        "\n",
        "Scraping https://www.govtrack.us/data/congress/113/votes/2013/h424/"
       ]
      },
      {
       "output_type": "stream",
       "stream": "stdout",
       "text": [
        "\n",
        "Scraping https://www.govtrack.us/data/congress/113/votes/2013/h425/"
       ]
      },
      {
       "output_type": "stream",
       "stream": "stdout",
       "text": [
        "\n",
        "Scraping https://www.govtrack.us/data/congress/113/votes/2013/h426/"
       ]
      },
      {
       "output_type": "stream",
       "stream": "stdout",
       "text": [
        "\n",
        "Scraping https://www.govtrack.us/data/congress/113/votes/2013/h427/"
       ]
      },
      {
       "output_type": "stream",
       "stream": "stdout",
       "text": [
        "\n",
        "Scraping https://www.govtrack.us/data/congress/113/votes/2013/h428/"
       ]
      },
      {
       "output_type": "stream",
       "stream": "stdout",
       "text": [
        "\n",
        "Scraping https://www.govtrack.us/data/congress/113/votes/2013/h429/"
       ]
      },
      {
       "output_type": "stream",
       "stream": "stdout",
       "text": [
        "\n",
        "Scraping https://www.govtrack.us/data/congress/113/votes/2013/h43/"
       ]
      },
      {
       "output_type": "stream",
       "stream": "stdout",
       "text": [
        "\n",
        "Scraping https://www.govtrack.us/data/congress/113/votes/2013/h430/"
       ]
      },
      {
       "output_type": "stream",
       "stream": "stdout",
       "text": [
        "\n",
        "Scraping https://www.govtrack.us/data/congress/113/votes/2013/h431/"
       ]
      },
      {
       "output_type": "stream",
       "stream": "stdout",
       "text": [
        "\n",
        "Scraping https://www.govtrack.us/data/congress/113/votes/2013/h432/"
       ]
      },
      {
       "output_type": "stream",
       "stream": "stdout",
       "text": [
        "\n",
        "Scraping https://www.govtrack.us/data/congress/113/votes/2013/h433/"
       ]
      },
      {
       "output_type": "stream",
       "stream": "stdout",
       "text": [
        "\n",
        "Scraping https://www.govtrack.us/data/congress/113/votes/2013/h434/"
       ]
      },
      {
       "output_type": "stream",
       "stream": "stdout",
       "text": [
        "\n",
        "Scraping https://www.govtrack.us/data/congress/113/votes/2013/h435/"
       ]
      },
      {
       "output_type": "stream",
       "stream": "stdout",
       "text": [
        "\n",
        "Scraping https://www.govtrack.us/data/congress/113/votes/2013/h436/"
       ]
      },
      {
       "output_type": "stream",
       "stream": "stdout",
       "text": [
        "\n",
        "Scraping https://www.govtrack.us/data/congress/113/votes/2013/h437/"
       ]
      },
      {
       "output_type": "stream",
       "stream": "stdout",
       "text": [
        "\n",
        "Scraping https://www.govtrack.us/data/congress/113/votes/2013/h438/"
       ]
      },
      {
       "output_type": "stream",
       "stream": "stdout",
       "text": [
        "\n",
        "Scraping https://www.govtrack.us/data/congress/113/votes/2013/h439/"
       ]
      },
      {
       "output_type": "stream",
       "stream": "stdout",
       "text": [
        "\n",
        "Scraping https://www.govtrack.us/data/congress/113/votes/2013/h44/"
       ]
      },
      {
       "output_type": "stream",
       "stream": "stdout",
       "text": [
        "\n",
        "Scraping https://www.govtrack.us/data/congress/113/votes/2013/h440/"
       ]
      },
      {
       "output_type": "stream",
       "stream": "stdout",
       "text": [
        "\n",
        "Scraping https://www.govtrack.us/data/congress/113/votes/2013/h441/"
       ]
      },
      {
       "output_type": "stream",
       "stream": "stdout",
       "text": [
        "\n",
        "Scraping https://www.govtrack.us/data/congress/113/votes/2013/h442/"
       ]
      },
      {
       "output_type": "stream",
       "stream": "stdout",
       "text": [
        "\n",
        "Scraping https://www.govtrack.us/data/congress/113/votes/2013/h443/"
       ]
      },
      {
       "output_type": "stream",
       "stream": "stdout",
       "text": [
        "\n",
        "Scraping https://www.govtrack.us/data/congress/113/votes/2013/h444/"
       ]
      },
      {
       "output_type": "stream",
       "stream": "stdout",
       "text": [
        "\n",
        "Scraping https://www.govtrack.us/data/congress/113/votes/2013/h445/"
       ]
      },
      {
       "output_type": "stream",
       "stream": "stdout",
       "text": [
        "\n",
        "Scraping https://www.govtrack.us/data/congress/113/votes/2013/h446/"
       ]
      },
      {
       "output_type": "stream",
       "stream": "stdout",
       "text": [
        "\n",
        "Scraping https://www.govtrack.us/data/congress/113/votes/2013/h447/"
       ]
      },
      {
       "output_type": "stream",
       "stream": "stdout",
       "text": [
        "\n",
        "Scraping https://www.govtrack.us/data/congress/113/votes/2013/h448/"
       ]
      },
      {
       "output_type": "stream",
       "stream": "stdout",
       "text": [
        "\n",
        "Scraping https://www.govtrack.us/data/congress/113/votes/2013/h449/"
       ]
      },
      {
       "output_type": "stream",
       "stream": "stdout",
       "text": [
        "\n",
        "Scraping https://www.govtrack.us/data/congress/113/votes/2013/h45/"
       ]
      },
      {
       "output_type": "stream",
       "stream": "stdout",
       "text": [
        "\n",
        "Scraping https://www.govtrack.us/data/congress/113/votes/2013/h450/"
       ]
      },
      {
       "output_type": "stream",
       "stream": "stdout",
       "text": [
        "\n",
        "Scraping https://www.govtrack.us/data/congress/113/votes/2013/h451/"
       ]
      },
      {
       "output_type": "stream",
       "stream": "stdout",
       "text": [
        "\n",
        "Scraping https://www.govtrack.us/data/congress/113/votes/2013/h452/"
       ]
      },
      {
       "output_type": "stream",
       "stream": "stdout",
       "text": [
        "\n",
        "Scraping https://www.govtrack.us/data/congress/113/votes/2013/h453/"
       ]
      },
      {
       "output_type": "stream",
       "stream": "stdout",
       "text": [
        "\n",
        "Scraping https://www.govtrack.us/data/congress/113/votes/2013/h454/"
       ]
      },
      {
       "output_type": "stream",
       "stream": "stdout",
       "text": [
        "\n",
        "Scraping https://www.govtrack.us/data/congress/113/votes/2013/h455/"
       ]
      },
      {
       "output_type": "stream",
       "stream": "stdout",
       "text": [
        "\n",
        "Scraping https://www.govtrack.us/data/congress/113/votes/2013/h456/"
       ]
      },
      {
       "output_type": "stream",
       "stream": "stdout",
       "text": [
        "\n",
        "Scraping https://www.govtrack.us/data/congress/113/votes/2013/h457/"
       ]
      },
      {
       "output_type": "stream",
       "stream": "stdout",
       "text": [
        "\n",
        "Scraping https://www.govtrack.us/data/congress/113/votes/2013/h458/"
       ]
      },
      {
       "output_type": "stream",
       "stream": "stdout",
       "text": [
        "\n",
        "Scraping https://www.govtrack.us/data/congress/113/votes/2013/h459/"
       ]
      },
      {
       "output_type": "stream",
       "stream": "stdout",
       "text": [
        "\n",
        "Scraping https://www.govtrack.us/data/congress/113/votes/2013/h46/"
       ]
      },
      {
       "output_type": "stream",
       "stream": "stdout",
       "text": [
        "\n",
        "Scraping https://www.govtrack.us/data/congress/113/votes/2013/h460/"
       ]
      },
      {
       "output_type": "stream",
       "stream": "stdout",
       "text": [
        "\n",
        "Scraping https://www.govtrack.us/data/congress/113/votes/2013/h461/"
       ]
      },
      {
       "output_type": "stream",
       "stream": "stdout",
       "text": [
        "\n",
        "Scraping https://www.govtrack.us/data/congress/113/votes/2013/h462/"
       ]
      },
      {
       "output_type": "stream",
       "stream": "stdout",
       "text": [
        "\n",
        "Scraping https://www.govtrack.us/data/congress/113/votes/2013/h463/"
       ]
      },
      {
       "output_type": "stream",
       "stream": "stdout",
       "text": [
        "\n",
        "Scraping https://www.govtrack.us/data/congress/113/votes/2013/h464/"
       ]
      },
      {
       "output_type": "stream",
       "stream": "stdout",
       "text": [
        "\n",
        "Scraping https://www.govtrack.us/data/congress/113/votes/2013/h465/"
       ]
      },
      {
       "output_type": "stream",
       "stream": "stdout",
       "text": [
        "\n",
        "Scraping https://www.govtrack.us/data/congress/113/votes/2013/h466/"
       ]
      },
      {
       "output_type": "stream",
       "stream": "stdout",
       "text": [
        "\n",
        "Scraping https://www.govtrack.us/data/congress/113/votes/2013/h467/"
       ]
      },
      {
       "output_type": "stream",
       "stream": "stdout",
       "text": [
        "\n",
        "Scraping https://www.govtrack.us/data/congress/113/votes/2013/h468/"
       ]
      },
      {
       "output_type": "stream",
       "stream": "stdout",
       "text": [
        "\n",
        "Scraping https://www.govtrack.us/data/congress/113/votes/2013/h469/"
       ]
      },
      {
       "output_type": "stream",
       "stream": "stdout",
       "text": [
        "\n",
        "Scraping https://www.govtrack.us/data/congress/113/votes/2013/h47/"
       ]
      },
      {
       "output_type": "stream",
       "stream": "stdout",
       "text": [
        "\n",
        "Scraping https://www.govtrack.us/data/congress/113/votes/2013/h470/"
       ]
      },
      {
       "output_type": "stream",
       "stream": "stdout",
       "text": [
        "\n",
        "Scraping https://www.govtrack.us/data/congress/113/votes/2013/h471/"
       ]
      },
      {
       "output_type": "stream",
       "stream": "stdout",
       "text": [
        "\n",
        "Scraping https://www.govtrack.us/data/congress/113/votes/2013/h472/"
       ]
      },
      {
       "output_type": "stream",
       "stream": "stdout",
       "text": [
        "\n",
        "Scraping https://www.govtrack.us/data/congress/113/votes/2013/h473/"
       ]
      },
      {
       "output_type": "stream",
       "stream": "stdout",
       "text": [
        "\n",
        "Scraping https://www.govtrack.us/data/congress/113/votes/2013/h474/"
       ]
      },
      {
       "output_type": "stream",
       "stream": "stdout",
       "text": [
        "\n",
        "Scraping https://www.govtrack.us/data/congress/113/votes/2013/h475/"
       ]
      },
      {
       "output_type": "stream",
       "stream": "stdout",
       "text": [
        "\n",
        "Scraping https://www.govtrack.us/data/congress/113/votes/2013/h476/"
       ]
      },
      {
       "output_type": "stream",
       "stream": "stdout",
       "text": [
        "\n",
        "Scraping https://www.govtrack.us/data/congress/113/votes/2013/h477/"
       ]
      },
      {
       "output_type": "stream",
       "stream": "stdout",
       "text": [
        "\n",
        "Scraping https://www.govtrack.us/data/congress/113/votes/2013/h478/"
       ]
      },
      {
       "output_type": "stream",
       "stream": "stdout",
       "text": [
        "\n",
        "Scraping https://www.govtrack.us/data/congress/113/votes/2013/h479/"
       ]
      },
      {
       "output_type": "stream",
       "stream": "stdout",
       "text": [
        "\n",
        "Scraping https://www.govtrack.us/data/congress/113/votes/2013/h48/"
       ]
      },
      {
       "output_type": "stream",
       "stream": "stdout",
       "text": [
        "\n",
        "Scraping https://www.govtrack.us/data/congress/113/votes/2013/h480/"
       ]
      },
      {
       "output_type": "stream",
       "stream": "stdout",
       "text": [
        "\n",
        "Scraping https://www.govtrack.us/data/congress/113/votes/2013/h481/"
       ]
      },
      {
       "output_type": "stream",
       "stream": "stdout",
       "text": [
        "\n",
        "Scraping https://www.govtrack.us/data/congress/113/votes/2013/h482/"
       ]
      },
      {
       "output_type": "stream",
       "stream": "stdout",
       "text": [
        "\n",
        "Scraping https://www.govtrack.us/data/congress/113/votes/2013/h483/"
       ]
      },
      {
       "output_type": "stream",
       "stream": "stdout",
       "text": [
        "\n",
        "Scraping https://www.govtrack.us/data/congress/113/votes/2013/h484/"
       ]
      },
      {
       "output_type": "stream",
       "stream": "stdout",
       "text": [
        "\n",
        "Scraping https://www.govtrack.us/data/congress/113/votes/2013/h485/"
       ]
      },
      {
       "output_type": "stream",
       "stream": "stdout",
       "text": [
        "\n",
        "Scraping https://www.govtrack.us/data/congress/113/votes/2013/h486/"
       ]
      },
      {
       "output_type": "stream",
       "stream": "stdout",
       "text": [
        "\n",
        "Scraping https://www.govtrack.us/data/congress/113/votes/2013/h487/"
       ]
      },
      {
       "output_type": "stream",
       "stream": "stdout",
       "text": [
        "\n",
        "Scraping https://www.govtrack.us/data/congress/113/votes/2013/h488/"
       ]
      },
      {
       "output_type": "stream",
       "stream": "stdout",
       "text": [
        "\n",
        "Scraping https://www.govtrack.us/data/congress/113/votes/2013/h489/"
       ]
      },
      {
       "output_type": "stream",
       "stream": "stdout",
       "text": [
        "\n",
        "Scraping https://www.govtrack.us/data/congress/113/votes/2013/h49/"
       ]
      },
      {
       "output_type": "stream",
       "stream": "stdout",
       "text": [
        "\n",
        "Scraping https://www.govtrack.us/data/congress/113/votes/2013/h490/"
       ]
      },
      {
       "output_type": "stream",
       "stream": "stdout",
       "text": [
        "\n",
        "Scraping https://www.govtrack.us/data/congress/113/votes/2013/h491/"
       ]
      },
      {
       "output_type": "stream",
       "stream": "stdout",
       "text": [
        "\n",
        "Scraping https://www.govtrack.us/data/congress/113/votes/2013/h492/"
       ]
      },
      {
       "output_type": "stream",
       "stream": "stdout",
       "text": [
        "\n",
        "Scraping https://www.govtrack.us/data/congress/113/votes/2013/h493/"
       ]
      },
      {
       "output_type": "stream",
       "stream": "stdout",
       "text": [
        "\n",
        "Scraping https://www.govtrack.us/data/congress/113/votes/2013/h494/"
       ]
      },
      {
       "output_type": "stream",
       "stream": "stdout",
       "text": [
        "\n",
        "Scraping https://www.govtrack.us/data/congress/113/votes/2013/h495/"
       ]
      },
      {
       "output_type": "stream",
       "stream": "stdout",
       "text": [
        "\n",
        "Scraping https://www.govtrack.us/data/congress/113/votes/2013/h496/"
       ]
      },
      {
       "output_type": "stream",
       "stream": "stdout",
       "text": [
        "\n",
        "Scraping https://www.govtrack.us/data/congress/113/votes/2013/h497/"
       ]
      },
      {
       "output_type": "stream",
       "stream": "stdout",
       "text": [
        "\n",
        "Scraping https://www.govtrack.us/data/congress/113/votes/2013/h498/"
       ]
      },
      {
       "output_type": "stream",
       "stream": "stdout",
       "text": [
        "\n",
        "Scraping https://www.govtrack.us/data/congress/113/votes/2013/h499/"
       ]
      },
      {
       "output_type": "stream",
       "stream": "stdout",
       "text": [
        "\n",
        "Scraping https://www.govtrack.us/data/congress/113/votes/2013/h5/"
       ]
      },
      {
       "output_type": "stream",
       "stream": "stdout",
       "text": [
        "\n",
        "Scraping https://www.govtrack.us/data/congress/113/votes/2013/h50/"
       ]
      },
      {
       "output_type": "stream",
       "stream": "stdout",
       "text": [
        "\n",
        "Scraping https://www.govtrack.us/data/congress/113/votes/2013/h500/"
       ]
      },
      {
       "output_type": "stream",
       "stream": "stdout",
       "text": [
        "\n",
        "Scraping https://www.govtrack.us/data/congress/113/votes/2013/h501/"
       ]
      },
      {
       "output_type": "stream",
       "stream": "stdout",
       "text": [
        "\n",
        "Scraping https://www.govtrack.us/data/congress/113/votes/2013/h502/"
       ]
      },
      {
       "output_type": "stream",
       "stream": "stdout",
       "text": [
        "\n",
        "Scraping https://www.govtrack.us/data/congress/113/votes/2013/h503/"
       ]
      },
      {
       "output_type": "stream",
       "stream": "stdout",
       "text": [
        "\n",
        "Scraping https://www.govtrack.us/data/congress/113/votes/2013/h504/"
       ]
      },
      {
       "output_type": "stream",
       "stream": "stdout",
       "text": [
        "\n",
        "Scraping https://www.govtrack.us/data/congress/113/votes/2013/h505/"
       ]
      },
      {
       "output_type": "stream",
       "stream": "stdout",
       "text": [
        "\n",
        "Scraping https://www.govtrack.us/data/congress/113/votes/2013/h506/"
       ]
      },
      {
       "output_type": "stream",
       "stream": "stdout",
       "text": [
        "\n",
        "Scraping https://www.govtrack.us/data/congress/113/votes/2013/h507/"
       ]
      },
      {
       "output_type": "stream",
       "stream": "stdout",
       "text": [
        "\n",
        "Scraping https://www.govtrack.us/data/congress/113/votes/2013/h508/"
       ]
      },
      {
       "output_type": "stream",
       "stream": "stdout",
       "text": [
        "\n",
        "Scraping https://www.govtrack.us/data/congress/113/votes/2013/h509/"
       ]
      },
      {
       "output_type": "stream",
       "stream": "stdout",
       "text": [
        "\n",
        "Scraping https://www.govtrack.us/data/congress/113/votes/2013/h51/"
       ]
      },
      {
       "output_type": "stream",
       "stream": "stdout",
       "text": [
        "\n",
        "Scraping https://www.govtrack.us/data/congress/113/votes/2013/h510/"
       ]
      },
      {
       "output_type": "stream",
       "stream": "stdout",
       "text": [
        "\n",
        "Scraping https://www.govtrack.us/data/congress/113/votes/2013/h511/"
       ]
      },
      {
       "output_type": "stream",
       "stream": "stdout",
       "text": [
        "\n",
        "Scraping https://www.govtrack.us/data/congress/113/votes/2013/h512/"
       ]
      },
      {
       "output_type": "stream",
       "stream": "stdout",
       "text": [
        "\n",
        "Scraping https://www.govtrack.us/data/congress/113/votes/2013/h513/"
       ]
      },
      {
       "output_type": "stream",
       "stream": "stdout",
       "text": [
        "\n",
        "Scraping https://www.govtrack.us/data/congress/113/votes/2013/h514/"
       ]
      },
      {
       "output_type": "stream",
       "stream": "stdout",
       "text": [
        "\n",
        "Scraping https://www.govtrack.us/data/congress/113/votes/2013/h515/"
       ]
      },
      {
       "output_type": "stream",
       "stream": "stdout",
       "text": [
        "\n",
        "Scraping https://www.govtrack.us/data/congress/113/votes/2013/h516/"
       ]
      },
      {
       "output_type": "stream",
       "stream": "stdout",
       "text": [
        "\n",
        "Scraping https://www.govtrack.us/data/congress/113/votes/2013/h517/"
       ]
      },
      {
       "output_type": "stream",
       "stream": "stdout",
       "text": [
        "\n",
        "Scraping https://www.govtrack.us/data/congress/113/votes/2013/h518/"
       ]
      },
      {
       "output_type": "stream",
       "stream": "stdout",
       "text": [
        "\n",
        "Scraping https://www.govtrack.us/data/congress/113/votes/2013/h519/"
       ]
      },
      {
       "output_type": "stream",
       "stream": "stdout",
       "text": [
        "\n",
        "Scraping https://www.govtrack.us/data/congress/113/votes/2013/h52/"
       ]
      },
      {
       "output_type": "stream",
       "stream": "stdout",
       "text": [
        "\n",
        "Scraping https://www.govtrack.us/data/congress/113/votes/2013/h520/"
       ]
      },
      {
       "output_type": "stream",
       "stream": "stdout",
       "text": [
        "\n",
        "Scraping https://www.govtrack.us/data/congress/113/votes/2013/h521/"
       ]
      },
      {
       "output_type": "stream",
       "stream": "stdout",
       "text": [
        "\n",
        "Scraping https://www.govtrack.us/data/congress/113/votes/2013/h522/"
       ]
      },
      {
       "output_type": "stream",
       "stream": "stdout",
       "text": [
        "\n",
        "Scraping https://www.govtrack.us/data/congress/113/votes/2013/h523/"
       ]
      },
      {
       "output_type": "stream",
       "stream": "stdout",
       "text": [
        "\n",
        "Scraping https://www.govtrack.us/data/congress/113/votes/2013/h524/"
       ]
      },
      {
       "output_type": "stream",
       "stream": "stdout",
       "text": [
        "\n",
        "Scraping https://www.govtrack.us/data/congress/113/votes/2013/h525/"
       ]
      },
      {
       "output_type": "stream",
       "stream": "stdout",
       "text": [
        "\n",
        "Scraping https://www.govtrack.us/data/congress/113/votes/2013/h526/"
       ]
      },
      {
       "output_type": "stream",
       "stream": "stdout",
       "text": [
        "\n",
        "Scraping https://www.govtrack.us/data/congress/113/votes/2013/h527/"
       ]
      },
      {
       "output_type": "stream",
       "stream": "stdout",
       "text": [
        "\n",
        "Scraping https://www.govtrack.us/data/congress/113/votes/2013/h528/"
       ]
      },
      {
       "output_type": "stream",
       "stream": "stdout",
       "text": [
        "\n",
        "Scraping https://www.govtrack.us/data/congress/113/votes/2013/h529/"
       ]
      },
      {
       "output_type": "stream",
       "stream": "stdout",
       "text": [
        "\n",
        "Scraping https://www.govtrack.us/data/congress/113/votes/2013/h53/"
       ]
      },
      {
       "output_type": "stream",
       "stream": "stdout",
       "text": [
        "\n",
        "Scraping https://www.govtrack.us/data/congress/113/votes/2013/h530/"
       ]
      },
      {
       "output_type": "stream",
       "stream": "stdout",
       "text": [
        "\n",
        "Scraping https://www.govtrack.us/data/congress/113/votes/2013/h531/"
       ]
      },
      {
       "output_type": "stream",
       "stream": "stdout",
       "text": [
        "\n",
        "Scraping https://www.govtrack.us/data/congress/113/votes/2013/h532/"
       ]
      },
      {
       "output_type": "stream",
       "stream": "stdout",
       "text": [
        "\n",
        "Scraping https://www.govtrack.us/data/congress/113/votes/2013/h533/"
       ]
      },
      {
       "output_type": "stream",
       "stream": "stdout",
       "text": [
        "\n",
        "Scraping https://www.govtrack.us/data/congress/113/votes/2013/h534/"
       ]
      },
      {
       "output_type": "stream",
       "stream": "stdout",
       "text": [
        "\n",
        "Scraping https://www.govtrack.us/data/congress/113/votes/2013/h535/"
       ]
      },
      {
       "output_type": "stream",
       "stream": "stdout",
       "text": [
        "\n",
        "Scraping https://www.govtrack.us/data/congress/113/votes/2013/h536/"
       ]
      },
      {
       "output_type": "stream",
       "stream": "stdout",
       "text": [
        "\n",
        "Scraping https://www.govtrack.us/data/congress/113/votes/2013/h537/"
       ]
      },
      {
       "output_type": "stream",
       "stream": "stdout",
       "text": [
        "\n",
        "Scraping https://www.govtrack.us/data/congress/113/votes/2013/h538/"
       ]
      },
      {
       "output_type": "stream",
       "stream": "stdout",
       "text": [
        "\n",
        "Scraping https://www.govtrack.us/data/congress/113/votes/2013/h539/"
       ]
      },
      {
       "output_type": "stream",
       "stream": "stdout",
       "text": [
        "\n",
        "Scraping https://www.govtrack.us/data/congress/113/votes/2013/h54/"
       ]
      },
      {
       "output_type": "stream",
       "stream": "stdout",
       "text": [
        "\n",
        "Scraping https://www.govtrack.us/data/congress/113/votes/2013/h540/"
       ]
      },
      {
       "output_type": "stream",
       "stream": "stdout",
       "text": [
        "\n",
        "Scraping https://www.govtrack.us/data/congress/113/votes/2013/h541/"
       ]
      },
      {
       "output_type": "stream",
       "stream": "stdout",
       "text": [
        "\n",
        "Scraping https://www.govtrack.us/data/congress/113/votes/2013/h542/"
       ]
      },
      {
       "output_type": "stream",
       "stream": "stdout",
       "text": [
        "\n",
        "Scraping https://www.govtrack.us/data/congress/113/votes/2013/h543/"
       ]
      },
      {
       "output_type": "stream",
       "stream": "stdout",
       "text": [
        "\n",
        "Scraping https://www.govtrack.us/data/congress/113/votes/2013/h544/"
       ]
      },
      {
       "output_type": "stream",
       "stream": "stdout",
       "text": [
        "\n",
        "Scraping https://www.govtrack.us/data/congress/113/votes/2013/h545/"
       ]
      },
      {
       "output_type": "stream",
       "stream": "stdout",
       "text": [
        "\n",
        "Scraping https://www.govtrack.us/data/congress/113/votes/2013/h546/"
       ]
      },
      {
       "output_type": "stream",
       "stream": "stdout",
       "text": [
        "\n",
        "Scraping https://www.govtrack.us/data/congress/113/votes/2013/h547/"
       ]
      },
      {
       "output_type": "stream",
       "stream": "stdout",
       "text": [
        "\n",
        "Scraping https://www.govtrack.us/data/congress/113/votes/2013/h548/"
       ]
      },
      {
       "output_type": "stream",
       "stream": "stdout",
       "text": [
        "\n",
        "Scraping https://www.govtrack.us/data/congress/113/votes/2013/h549/"
       ]
      },
      {
       "output_type": "stream",
       "stream": "stdout",
       "text": [
        "\n",
        "Scraping https://www.govtrack.us/data/congress/113/votes/2013/h55/"
       ]
      },
      {
       "output_type": "stream",
       "stream": "stdout",
       "text": [
        "\n",
        "Scraping https://www.govtrack.us/data/congress/113/votes/2013/h550/"
       ]
      },
      {
       "output_type": "stream",
       "stream": "stdout",
       "text": [
        "\n",
        "Scraping https://www.govtrack.us/data/congress/113/votes/2013/h551/"
       ]
      },
      {
       "output_type": "stream",
       "stream": "stdout",
       "text": [
        "\n",
        "Scraping https://www.govtrack.us/data/congress/113/votes/2013/h552/"
       ]
      },
      {
       "output_type": "stream",
       "stream": "stdout",
       "text": [
        "\n",
        "Scraping https://www.govtrack.us/data/congress/113/votes/2013/h553/"
       ]
      },
      {
       "output_type": "stream",
       "stream": "stdout",
       "text": [
        "\n",
        "Scraping https://www.govtrack.us/data/congress/113/votes/2013/h554/"
       ]
      },
      {
       "output_type": "stream",
       "stream": "stdout",
       "text": [
        "\n",
        "Scraping https://www.govtrack.us/data/congress/113/votes/2013/h555/"
       ]
      },
      {
       "output_type": "stream",
       "stream": "stdout",
       "text": [
        "\n",
        "Scraping https://www.govtrack.us/data/congress/113/votes/2013/h556/"
       ]
      },
      {
       "output_type": "stream",
       "stream": "stdout",
       "text": [
        "\n",
        "Scraping https://www.govtrack.us/data/congress/113/votes/2013/h557/"
       ]
      },
      {
       "output_type": "stream",
       "stream": "stdout",
       "text": [
        "\n",
        "Scraping https://www.govtrack.us/data/congress/113/votes/2013/h558/"
       ]
      },
      {
       "output_type": "stream",
       "stream": "stdout",
       "text": [
        "\n",
        "Scraping https://www.govtrack.us/data/congress/113/votes/2013/h559/"
       ]
      },
      {
       "output_type": "stream",
       "stream": "stdout",
       "text": [
        "\n",
        "Scraping https://www.govtrack.us/data/congress/113/votes/2013/h56/"
       ]
      },
      {
       "output_type": "stream",
       "stream": "stdout",
       "text": [
        "\n",
        "Scraping https://www.govtrack.us/data/congress/113/votes/2013/h560/"
       ]
      },
      {
       "output_type": "stream",
       "stream": "stdout",
       "text": [
        "\n",
        "Scraping https://www.govtrack.us/data/congress/113/votes/2013/h561/"
       ]
      },
      {
       "output_type": "stream",
       "stream": "stdout",
       "text": [
        "\n",
        "Scraping https://www.govtrack.us/data/congress/113/votes/2013/h562/"
       ]
      },
      {
       "output_type": "stream",
       "stream": "stdout",
       "text": [
        "\n",
        "Scraping https://www.govtrack.us/data/congress/113/votes/2013/h563/"
       ]
      },
      {
       "output_type": "stream",
       "stream": "stdout",
       "text": [
        "\n",
        "Scraping https://www.govtrack.us/data/congress/113/votes/2013/h564/"
       ]
      },
      {
       "output_type": "stream",
       "stream": "stdout",
       "text": [
        "\n",
        "Scraping https://www.govtrack.us/data/congress/113/votes/2013/h565/"
       ]
      },
      {
       "output_type": "stream",
       "stream": "stdout",
       "text": [
        "\n",
        "Scraping https://www.govtrack.us/data/congress/113/votes/2013/h566/"
       ]
      },
      {
       "output_type": "stream",
       "stream": "stdout",
       "text": [
        "\n",
        "Scraping https://www.govtrack.us/data/congress/113/votes/2013/h567/"
       ]
      },
      {
       "output_type": "stream",
       "stream": "stdout",
       "text": [
        "\n",
        "Scraping https://www.govtrack.us/data/congress/113/votes/2013/h568/"
       ]
      },
      {
       "output_type": "stream",
       "stream": "stdout",
       "text": [
        "\n",
        "Scraping https://www.govtrack.us/data/congress/113/votes/2013/h569/"
       ]
      },
      {
       "output_type": "stream",
       "stream": "stdout",
       "text": [
        "\n",
        "Scraping https://www.govtrack.us/data/congress/113/votes/2013/h57/"
       ]
      },
      {
       "output_type": "stream",
       "stream": "stdout",
       "text": [
        "\n",
        "Scraping https://www.govtrack.us/data/congress/113/votes/2013/h570/"
       ]
      },
      {
       "output_type": "stream",
       "stream": "stdout",
       "text": [
        "\n",
        "Scraping https://www.govtrack.us/data/congress/113/votes/2013/h571/"
       ]
      },
      {
       "output_type": "stream",
       "stream": "stdout",
       "text": [
        "\n",
        "Scraping https://www.govtrack.us/data/congress/113/votes/2013/h572/"
       ]
      },
      {
       "output_type": "stream",
       "stream": "stdout",
       "text": [
        "\n",
        "Scraping https://www.govtrack.us/data/congress/113/votes/2013/h573/"
       ]
      },
      {
       "output_type": "stream",
       "stream": "stdout",
       "text": [
        "\n",
        "Scraping https://www.govtrack.us/data/congress/113/votes/2013/h574/"
       ]
      },
      {
       "output_type": "stream",
       "stream": "stdout",
       "text": [
        "\n",
        "Scraping https://www.govtrack.us/data/congress/113/votes/2013/h575/"
       ]
      },
      {
       "output_type": "stream",
       "stream": "stdout",
       "text": [
        "\n",
        "Scraping https://www.govtrack.us/data/congress/113/votes/2013/h576/"
       ]
      },
      {
       "output_type": "stream",
       "stream": "stdout",
       "text": [
        "\n",
        "Scraping https://www.govtrack.us/data/congress/113/votes/2013/h577/"
       ]
      },
      {
       "output_type": "stream",
       "stream": "stdout",
       "text": [
        "\n",
        "Scraping https://www.govtrack.us/data/congress/113/votes/2013/h578/"
       ]
      },
      {
       "output_type": "stream",
       "stream": "stdout",
       "text": [
        "\n",
        "Scraping https://www.govtrack.us/data/congress/113/votes/2013/h579/"
       ]
      },
      {
       "output_type": "stream",
       "stream": "stdout",
       "text": [
        "\n",
        "Scraping https://www.govtrack.us/data/congress/113/votes/2013/h58/"
       ]
      },
      {
       "output_type": "stream",
       "stream": "stdout",
       "text": [
        "\n",
        "Scraping https://www.govtrack.us/data/congress/113/votes/2013/h580/"
       ]
      },
      {
       "output_type": "stream",
       "stream": "stdout",
       "text": [
        "\n",
        "Scraping https://www.govtrack.us/data/congress/113/votes/2013/h581/"
       ]
      },
      {
       "output_type": "stream",
       "stream": "stdout",
       "text": [
        "\n",
        "Scraping https://www.govtrack.us/data/congress/113/votes/2013/h582/"
       ]
      },
      {
       "output_type": "stream",
       "stream": "stdout",
       "text": [
        "\n",
        "Scraping https://www.govtrack.us/data/congress/113/votes/2013/h583/"
       ]
      },
      {
       "output_type": "stream",
       "stream": "stdout",
       "text": [
        "\n",
        "Scraping https://www.govtrack.us/data/congress/113/votes/2013/h584/"
       ]
      },
      {
       "output_type": "stream",
       "stream": "stdout",
       "text": [
        "\n",
        "Scraping https://www.govtrack.us/data/congress/113/votes/2013/h585/"
       ]
      },
      {
       "output_type": "stream",
       "stream": "stdout",
       "text": [
        "\n",
        "Scraping https://www.govtrack.us/data/congress/113/votes/2013/h586/"
       ]
      },
      {
       "output_type": "stream",
       "stream": "stdout",
       "text": [
        "\n",
        "Scraping https://www.govtrack.us/data/congress/113/votes/2013/h587/"
       ]
      },
      {
       "output_type": "stream",
       "stream": "stdout",
       "text": [
        "\n",
        "Scraping https://www.govtrack.us/data/congress/113/votes/2013/h588/"
       ]
      },
      {
       "output_type": "stream",
       "stream": "stdout",
       "text": [
        "\n",
        "Scraping https://www.govtrack.us/data/congress/113/votes/2013/h589/"
       ]
      },
      {
       "output_type": "stream",
       "stream": "stdout",
       "text": [
        "\n",
        "Scraping https://www.govtrack.us/data/congress/113/votes/2013/h59/"
       ]
      },
      {
       "output_type": "stream",
       "stream": "stdout",
       "text": [
        "\n",
        "Scraping https://www.govtrack.us/data/congress/113/votes/2013/h590/"
       ]
      },
      {
       "output_type": "stream",
       "stream": "stdout",
       "text": [
        "\n",
        "Scraping https://www.govtrack.us/data/congress/113/votes/2013/h591/"
       ]
      },
      {
       "output_type": "stream",
       "stream": "stdout",
       "text": [
        "\n",
        "Scraping https://www.govtrack.us/data/congress/113/votes/2013/h592/"
       ]
      },
      {
       "output_type": "stream",
       "stream": "stdout",
       "text": [
        "\n",
        "Scraping https://www.govtrack.us/data/congress/113/votes/2013/h593/"
       ]
      },
      {
       "output_type": "stream",
       "stream": "stdout",
       "text": [
        "\n",
        "Scraping https://www.govtrack.us/data/congress/113/votes/2013/h594/"
       ]
      },
      {
       "output_type": "stream",
       "stream": "stdout",
       "text": [
        "\n",
        "Scraping https://www.govtrack.us/data/congress/113/votes/2013/h595/"
       ]
      },
      {
       "output_type": "stream",
       "stream": "stdout",
       "text": [
        "\n",
        "Scraping https://www.govtrack.us/data/congress/113/votes/2013/h596/"
       ]
      },
      {
       "output_type": "stream",
       "stream": "stdout",
       "text": [
        "\n",
        "Scraping https://www.govtrack.us/data/congress/113/votes/2013/h597/"
       ]
      },
      {
       "output_type": "stream",
       "stream": "stdout",
       "text": [
        "\n",
        "Scraping https://www.govtrack.us/data/congress/113/votes/2013/h598/"
       ]
      },
      {
       "output_type": "stream",
       "stream": "stdout",
       "text": [
        "\n",
        "Scraping https://www.govtrack.us/data/congress/113/votes/2013/h599/"
       ]
      },
      {
       "output_type": "stream",
       "stream": "stdout",
       "text": [
        "\n",
        "Scraping https://www.govtrack.us/data/congress/113/votes/2013/h6/"
       ]
      },
      {
       "output_type": "stream",
       "stream": "stdout",
       "text": [
        "\n",
        "Scraping https://www.govtrack.us/data/congress/113/votes/2013/h60/"
       ]
      },
      {
       "output_type": "stream",
       "stream": "stdout",
       "text": [
        "\n",
        "Scraping https://www.govtrack.us/data/congress/113/votes/2013/h600/"
       ]
      },
      {
       "output_type": "stream",
       "stream": "stdout",
       "text": [
        "\n",
        "Scraping https://www.govtrack.us/data/congress/113/votes/2013/h601/"
       ]
      },
      {
       "output_type": "stream",
       "stream": "stdout",
       "text": [
        "\n",
        "Scraping https://www.govtrack.us/data/congress/113/votes/2013/h602/"
       ]
      },
      {
       "output_type": "stream",
       "stream": "stdout",
       "text": [
        "\n",
        "Scraping https://www.govtrack.us/data/congress/113/votes/2013/h603/"
       ]
      },
      {
       "output_type": "stream",
       "stream": "stdout",
       "text": [
        "\n",
        "Scraping https://www.govtrack.us/data/congress/113/votes/2013/h604/"
       ]
      },
      {
       "output_type": "stream",
       "stream": "stdout",
       "text": [
        "\n",
        "Scraping https://www.govtrack.us/data/congress/113/votes/2013/h605/"
       ]
      },
      {
       "output_type": "stream",
       "stream": "stdout",
       "text": [
        "\n",
        "Scraping https://www.govtrack.us/data/congress/113/votes/2013/h606/"
       ]
      },
      {
       "output_type": "stream",
       "stream": "stdout",
       "text": [
        "\n",
        "Scraping https://www.govtrack.us/data/congress/113/votes/2013/h607/"
       ]
      },
      {
       "output_type": "stream",
       "stream": "stdout",
       "text": [
        "\n",
        "Scraping https://www.govtrack.us/data/congress/113/votes/2013/h608/"
       ]
      },
      {
       "output_type": "stream",
       "stream": "stdout",
       "text": [
        "\n",
        "Scraping https://www.govtrack.us/data/congress/113/votes/2013/h609/"
       ]
      },
      {
       "output_type": "stream",
       "stream": "stdout",
       "text": [
        "\n",
        "Scraping https://www.govtrack.us/data/congress/113/votes/2013/h61/"
       ]
      },
      {
       "output_type": "stream",
       "stream": "stdout",
       "text": [
        "\n",
        "Scraping https://www.govtrack.us/data/congress/113/votes/2013/h610/"
       ]
      },
      {
       "output_type": "stream",
       "stream": "stdout",
       "text": [
        "\n",
        "Scraping https://www.govtrack.us/data/congress/113/votes/2013/h611/"
       ]
      },
      {
       "output_type": "stream",
       "stream": "stdout",
       "text": [
        "\n",
        "Scraping https://www.govtrack.us/data/congress/113/votes/2013/h612/"
       ]
      },
      {
       "output_type": "stream",
       "stream": "stdout",
       "text": [
        "\n",
        "Scraping https://www.govtrack.us/data/congress/113/votes/2013/h613/"
       ]
      },
      {
       "output_type": "stream",
       "stream": "stdout",
       "text": [
        "\n",
        "Scraping https://www.govtrack.us/data/congress/113/votes/2013/h614/"
       ]
      },
      {
       "output_type": "stream",
       "stream": "stdout",
       "text": [
        "\n",
        "Scraping https://www.govtrack.us/data/congress/113/votes/2013/h615/"
       ]
      },
      {
       "output_type": "stream",
       "stream": "stdout",
       "text": [
        "\n",
        "Scraping https://www.govtrack.us/data/congress/113/votes/2013/h616/"
       ]
      },
      {
       "output_type": "stream",
       "stream": "stdout",
       "text": [
        "\n",
        "Scraping https://www.govtrack.us/data/congress/113/votes/2013/h617/"
       ]
      },
      {
       "output_type": "stream",
       "stream": "stdout",
       "text": [
        "\n",
        "Scraping https://www.govtrack.us/data/congress/113/votes/2013/h618/"
       ]
      },
      {
       "output_type": "stream",
       "stream": "stdout",
       "text": [
        "\n",
        "Scraping https://www.govtrack.us/data/congress/113/votes/2013/h619/"
       ]
      },
      {
       "output_type": "stream",
       "stream": "stdout",
       "text": [
        "\n",
        "Scraping https://www.govtrack.us/data/congress/113/votes/2013/h62/"
       ]
      },
      {
       "output_type": "stream",
       "stream": "stdout",
       "text": [
        "\n",
        "Scraping https://www.govtrack.us/data/congress/113/votes/2013/h620/"
       ]
      },
      {
       "output_type": "stream",
       "stream": "stdout",
       "text": [
        "\n",
        "Scraping https://www.govtrack.us/data/congress/113/votes/2013/h621/"
       ]
      },
      {
       "output_type": "stream",
       "stream": "stdout",
       "text": [
        "\n",
        "Scraping https://www.govtrack.us/data/congress/113/votes/2013/h622/"
       ]
      },
      {
       "output_type": "stream",
       "stream": "stdout",
       "text": [
        "\n",
        "Scraping https://www.govtrack.us/data/congress/113/votes/2013/h623/"
       ]
      },
      {
       "output_type": "stream",
       "stream": "stdout",
       "text": [
        "\n",
        "Scraping https://www.govtrack.us/data/congress/113/votes/2013/h624/"
       ]
      },
      {
       "output_type": "stream",
       "stream": "stdout",
       "text": [
        "\n",
        "Scraping https://www.govtrack.us/data/congress/113/votes/2013/h625/"
       ]
      },
      {
       "output_type": "stream",
       "stream": "stdout",
       "text": [
        "\n",
        "Scraping https://www.govtrack.us/data/congress/113/votes/2013/h626/"
       ]
      },
      {
       "output_type": "stream",
       "stream": "stdout",
       "text": [
        "\n",
        "Scraping https://www.govtrack.us/data/congress/113/votes/2013/h627/"
       ]
      },
      {
       "output_type": "stream",
       "stream": "stdout",
       "text": [
        "\n",
        "Scraping https://www.govtrack.us/data/congress/113/votes/2013/h628/"
       ]
      },
      {
       "output_type": "stream",
       "stream": "stdout",
       "text": [
        "\n",
        "Scraping https://www.govtrack.us/data/congress/113/votes/2013/h629/"
       ]
      },
      {
       "output_type": "stream",
       "stream": "stdout",
       "text": [
        "\n",
        "Scraping https://www.govtrack.us/data/congress/113/votes/2013/h63/"
       ]
      },
      {
       "output_type": "stream",
       "stream": "stdout",
       "text": [
        "\n",
        "Scraping https://www.govtrack.us/data/congress/113/votes/2013/h630/"
       ]
      },
      {
       "output_type": "stream",
       "stream": "stdout",
       "text": [
        "\n",
        "Scraping https://www.govtrack.us/data/congress/113/votes/2013/h631/"
       ]
      },
      {
       "output_type": "stream",
       "stream": "stdout",
       "text": [
        "\n",
        "Scraping https://www.govtrack.us/data/congress/113/votes/2013/h632/"
       ]
      },
      {
       "output_type": "stream",
       "stream": "stdout",
       "text": [
        "\n",
        "Scraping https://www.govtrack.us/data/congress/113/votes/2013/h633/"
       ]
      },
      {
       "output_type": "stream",
       "stream": "stdout",
       "text": [
        "\n",
        "Scraping https://www.govtrack.us/data/congress/113/votes/2013/h634/"
       ]
      },
      {
       "output_type": "stream",
       "stream": "stdout",
       "text": [
        "\n",
        "Scraping https://www.govtrack.us/data/congress/113/votes/2013/h635/"
       ]
      },
      {
       "output_type": "stream",
       "stream": "stdout",
       "text": [
        "\n",
        "Scraping https://www.govtrack.us/data/congress/113/votes/2013/h636/"
       ]
      },
      {
       "output_type": "stream",
       "stream": "stdout",
       "text": [
        "\n",
        "Scraping https://www.govtrack.us/data/congress/113/votes/2013/h637/"
       ]
      },
      {
       "output_type": "stream",
       "stream": "stdout",
       "text": [
        "\n",
        "Scraping https://www.govtrack.us/data/congress/113/votes/2013/h638/"
       ]
      },
      {
       "output_type": "stream",
       "stream": "stdout",
       "text": [
        "\n",
        "Scraping https://www.govtrack.us/data/congress/113/votes/2013/h639/"
       ]
      },
      {
       "output_type": "stream",
       "stream": "stdout",
       "text": [
        "\n",
        "Scraping https://www.govtrack.us/data/congress/113/votes/2013/h64/"
       ]
      },
      {
       "output_type": "stream",
       "stream": "stdout",
       "text": [
        "\n",
        "Scraping https://www.govtrack.us/data/congress/113/votes/2013/h640/"
       ]
      },
      {
       "output_type": "stream",
       "stream": "stdout",
       "text": [
        "\n",
        "Scraping https://www.govtrack.us/data/congress/113/votes/2013/h641/"
       ]
      },
      {
       "output_type": "stream",
       "stream": "stdout",
       "text": [
        "\n",
        "Scraping https://www.govtrack.us/data/congress/113/votes/2013/h65/"
       ]
      },
      {
       "output_type": "stream",
       "stream": "stdout",
       "text": [
        "\n",
        "Scraping https://www.govtrack.us/data/congress/113/votes/2013/h66/"
       ]
      },
      {
       "output_type": "stream",
       "stream": "stdout",
       "text": [
        "\n",
        "Scraping https://www.govtrack.us/data/congress/113/votes/2013/h67/"
       ]
      },
      {
       "output_type": "stream",
       "stream": "stdout",
       "text": [
        "\n",
        "Scraping https://www.govtrack.us/data/congress/113/votes/2013/h68/"
       ]
      },
      {
       "output_type": "stream",
       "stream": "stdout",
       "text": [
        "\n",
        "Scraping https://www.govtrack.us/data/congress/113/votes/2013/h69/"
       ]
      },
      {
       "output_type": "stream",
       "stream": "stdout",
       "text": [
        "\n",
        "Scraping https://www.govtrack.us/data/congress/113/votes/2013/h7/"
       ]
      },
      {
       "output_type": "stream",
       "stream": "stdout",
       "text": [
        "\n",
        "Scraping https://www.govtrack.us/data/congress/113/votes/2013/h70/"
       ]
      },
      {
       "output_type": "stream",
       "stream": "stdout",
       "text": [
        "\n",
        "Scraping https://www.govtrack.us/data/congress/113/votes/2013/h71/"
       ]
      },
      {
       "output_type": "stream",
       "stream": "stdout",
       "text": [
        "\n",
        "Scraping https://www.govtrack.us/data/congress/113/votes/2013/h72/"
       ]
      },
      {
       "output_type": "stream",
       "stream": "stdout",
       "text": [
        "\n",
        "Scraping https://www.govtrack.us/data/congress/113/votes/2013/h73/"
       ]
      },
      {
       "output_type": "stream",
       "stream": "stdout",
       "text": [
        "\n",
        "Scraping https://www.govtrack.us/data/congress/113/votes/2013/h74/"
       ]
      },
      {
       "output_type": "stream",
       "stream": "stdout",
       "text": [
        "\n",
        "Scraping https://www.govtrack.us/data/congress/113/votes/2013/h75/"
       ]
      },
      {
       "output_type": "stream",
       "stream": "stdout",
       "text": [
        "\n",
        "Scraping https://www.govtrack.us/data/congress/113/votes/2013/h76/"
       ]
      },
      {
       "output_type": "stream",
       "stream": "stdout",
       "text": [
        "\n",
        "Scraping https://www.govtrack.us/data/congress/113/votes/2013/h77/"
       ]
      },
      {
       "output_type": "stream",
       "stream": "stdout",
       "text": [
        "\n",
        "Scraping https://www.govtrack.us/data/congress/113/votes/2013/h78/"
       ]
      },
      {
       "output_type": "stream",
       "stream": "stdout",
       "text": [
        "\n",
        "Scraping https://www.govtrack.us/data/congress/113/votes/2013/h79/"
       ]
      },
      {
       "output_type": "stream",
       "stream": "stdout",
       "text": [
        "\n",
        "Scraping https://www.govtrack.us/data/congress/113/votes/2013/h8/"
       ]
      },
      {
       "output_type": "stream",
       "stream": "stdout",
       "text": [
        "\n",
        "Scraping https://www.govtrack.us/data/congress/113/votes/2013/h80/"
       ]
      },
      {
       "output_type": "stream",
       "stream": "stdout",
       "text": [
        "\n",
        "Scraping https://www.govtrack.us/data/congress/113/votes/2013/h81/"
       ]
      },
      {
       "output_type": "stream",
       "stream": "stdout",
       "text": [
        "\n",
        "Scraping https://www.govtrack.us/data/congress/113/votes/2013/h82/"
       ]
      },
      {
       "output_type": "stream",
       "stream": "stdout",
       "text": [
        "\n",
        "Scraping https://www.govtrack.us/data/congress/113/votes/2013/h83/"
       ]
      },
      {
       "output_type": "stream",
       "stream": "stdout",
       "text": [
        "\n",
        "Scraping https://www.govtrack.us/data/congress/113/votes/2013/h84/"
       ]
      },
      {
       "output_type": "stream",
       "stream": "stdout",
       "text": [
        "\n",
        "Scraping https://www.govtrack.us/data/congress/113/votes/2013/h85/"
       ]
      },
      {
       "output_type": "stream",
       "stream": "stdout",
       "text": [
        "\n",
        "Scraping https://www.govtrack.us/data/congress/113/votes/2013/h86/"
       ]
      },
      {
       "output_type": "stream",
       "stream": "stdout",
       "text": [
        "\n",
        "Scraping https://www.govtrack.us/data/congress/113/votes/2013/h87/"
       ]
      },
      {
       "output_type": "stream",
       "stream": "stdout",
       "text": [
        "\n",
        "Scraping https://www.govtrack.us/data/congress/113/votes/2013/h88/"
       ]
      },
      {
       "output_type": "stream",
       "stream": "stdout",
       "text": [
        "\n",
        "Scraping https://www.govtrack.us/data/congress/113/votes/2013/h89/"
       ]
      },
      {
       "output_type": "stream",
       "stream": "stdout",
       "text": [
        "\n",
        "Scraping https://www.govtrack.us/data/congress/113/votes/2013/h9/"
       ]
      },
      {
       "output_type": "stream",
       "stream": "stdout",
       "text": [
        "\n",
        "Scraping https://www.govtrack.us/data/congress/113/votes/2013/h90/"
       ]
      },
      {
       "output_type": "stream",
       "stream": "stdout",
       "text": [
        "\n",
        "Scraping https://www.govtrack.us/data/congress/113/votes/2013/h91/"
       ]
      },
      {
       "output_type": "stream",
       "stream": "stdout",
       "text": [
        "\n",
        "Scraping https://www.govtrack.us/data/congress/113/votes/2013/h92/"
       ]
      },
      {
       "output_type": "stream",
       "stream": "stdout",
       "text": [
        "\n",
        "Scraping https://www.govtrack.us/data/congress/113/votes/2013/h93/"
       ]
      },
      {
       "output_type": "stream",
       "stream": "stdout",
       "text": [
        "\n",
        "Scraping https://www.govtrack.us/data/congress/113/votes/2013/h94/"
       ]
      },
      {
       "output_type": "stream",
       "stream": "stdout",
       "text": [
        "\n",
        "Scraping https://www.govtrack.us/data/congress/113/votes/2013/h95/"
       ]
      },
      {
       "output_type": "stream",
       "stream": "stdout",
       "text": [
        "\n",
        "Scraping https://www.govtrack.us/data/congress/113/votes/2013/h96/"
       ]
      },
      {
       "output_type": "stream",
       "stream": "stdout",
       "text": [
        "\n",
        "Scraping https://www.govtrack.us/data/congress/113/votes/2013/h97/"
       ]
      },
      {
       "output_type": "stream",
       "stream": "stdout",
       "text": [
        "\n",
        "Scraping https://www.govtrack.us/data/congress/113/votes/2013/h98/"
       ]
      },
      {
       "output_type": "stream",
       "stream": "stdout",
       "text": [
        "\n",
        "Scraping https://www.govtrack.us/data/congress/113/votes/2013/h99/"
       ]
      },
      {
       "output_type": "stream",
       "stream": "stdout",
       "text": [
        "\n",
        "Scraping https://www.govtrack.us/data/congress/113/votes/2013/s1/"
       ]
      },
      {
       "output_type": "stream",
       "stream": "stdout",
       "text": [
        "\n",
        "Scraping https://www.govtrack.us/data/congress/113/votes/2013/s10/"
       ]
      },
      {
       "output_type": "stream",
       "stream": "stdout",
       "text": [
        "\n",
        "Scraping https://www.govtrack.us/data/congress/113/votes/2013/s100/"
       ]
      },
      {
       "output_type": "stream",
       "stream": "stdout",
       "text": [
        "\n",
        "Scraping https://www.govtrack.us/data/congress/113/votes/2013/s101/"
       ]
      },
      {
       "output_type": "stream",
       "stream": "stdout",
       "text": [
        "\n",
        "Scraping https://www.govtrack.us/data/congress/113/votes/2013/s102/"
       ]
      },
      {
       "output_type": "stream",
       "stream": "stdout",
       "text": [
        "\n",
        "Scraping https://www.govtrack.us/data/congress/113/votes/2013/s103/"
       ]
      },
      {
       "output_type": "stream",
       "stream": "stdout",
       "text": [
        "\n",
        "Scraping https://www.govtrack.us/data/congress/113/votes/2013/s104/"
       ]
      },
      {
       "output_type": "stream",
       "stream": "stdout",
       "text": [
        "\n",
        "Scraping https://www.govtrack.us/data/congress/113/votes/2013/s105/"
       ]
      },
      {
       "output_type": "stream",
       "stream": "stdout",
       "text": [
        "\n",
        "Scraping https://www.govtrack.us/data/congress/113/votes/2013/s106/"
       ]
      },
      {
       "output_type": "stream",
       "stream": "stdout",
       "text": [
        "\n",
        "Scraping https://www.govtrack.us/data/congress/113/votes/2013/s107/"
       ]
      },
      {
       "output_type": "stream",
       "stream": "stdout",
       "text": [
        "\n",
        "Scraping https://www.govtrack.us/data/congress/113/votes/2013/s108/"
       ]
      },
      {
       "output_type": "stream",
       "stream": "stdout",
       "text": [
        "\n",
        "Scraping https://www.govtrack.us/data/congress/113/votes/2013/s109/"
       ]
      },
      {
       "output_type": "stream",
       "stream": "stdout",
       "text": [
        "\n",
        "Scraping https://www.govtrack.us/data/congress/113/votes/2013/s11/"
       ]
      },
      {
       "output_type": "stream",
       "stream": "stdout",
       "text": [
        "\n",
        "Scraping https://www.govtrack.us/data/congress/113/votes/2013/s110/"
       ]
      },
      {
       "output_type": "stream",
       "stream": "stdout",
       "text": [
        "\n",
        "Scraping https://www.govtrack.us/data/congress/113/votes/2013/s111/"
       ]
      },
      {
       "output_type": "stream",
       "stream": "stdout",
       "text": [
        "\n",
        "Scraping https://www.govtrack.us/data/congress/113/votes/2013/s112/"
       ]
      },
      {
       "output_type": "stream",
       "stream": "stdout",
       "text": [
        "\n",
        "Scraping https://www.govtrack.us/data/congress/113/votes/2013/s113/"
       ]
      },
      {
       "output_type": "stream",
       "stream": "stdout",
       "text": [
        "\n",
        "Scraping https://www.govtrack.us/data/congress/113/votes/2013/s114/"
       ]
      },
      {
       "output_type": "stream",
       "stream": "stdout",
       "text": [
        "\n",
        "Scraping https://www.govtrack.us/data/congress/113/votes/2013/s115/"
       ]
      },
      {
       "output_type": "stream",
       "stream": "stdout",
       "text": [
        "\n",
        "Scraping https://www.govtrack.us/data/congress/113/votes/2013/s116/"
       ]
      },
      {
       "output_type": "stream",
       "stream": "stdout",
       "text": [
        "\n",
        "Scraping https://www.govtrack.us/data/congress/113/votes/2013/s117/"
       ]
      },
      {
       "output_type": "stream",
       "stream": "stdout",
       "text": [
        "\n",
        "Scraping https://www.govtrack.us/data/congress/113/votes/2013/s118/"
       ]
      },
      {
       "output_type": "stream",
       "stream": "stdout",
       "text": [
        "\n",
        "Scraping https://www.govtrack.us/data/congress/113/votes/2013/s119/"
       ]
      },
      {
       "output_type": "stream",
       "stream": "stdout",
       "text": [
        "\n",
        "Scraping https://www.govtrack.us/data/congress/113/votes/2013/s12/"
       ]
      },
      {
       "output_type": "stream",
       "stream": "stdout",
       "text": [
        "\n",
        "Scraping https://www.govtrack.us/data/congress/113/votes/2013/s120/"
       ]
      },
      {
       "output_type": "stream",
       "stream": "stdout",
       "text": [
        "\n",
        "Scraping https://www.govtrack.us/data/congress/113/votes/2013/s121/"
       ]
      },
      {
       "output_type": "stream",
       "stream": "stdout",
       "text": [
        "\n",
        "Scraping https://www.govtrack.us/data/congress/113/votes/2013/s122/"
       ]
      },
      {
       "output_type": "stream",
       "stream": "stdout",
       "text": [
        "\n",
        "Scraping https://www.govtrack.us/data/congress/113/votes/2013/s123/"
       ]
      },
      {
       "output_type": "stream",
       "stream": "stdout",
       "text": [
        "\n",
        "Scraping https://www.govtrack.us/data/congress/113/votes/2013/s124/"
       ]
      },
      {
       "output_type": "stream",
       "stream": "stdout",
       "text": [
        "\n",
        "Scraping https://www.govtrack.us/data/congress/113/votes/2013/s125/"
       ]
      },
      {
       "output_type": "stream",
       "stream": "stdout",
       "text": [
        "\n",
        "Scraping https://www.govtrack.us/data/congress/113/votes/2013/s126/"
       ]
      },
      {
       "output_type": "stream",
       "stream": "stdout",
       "text": [
        "\n",
        "Scraping https://www.govtrack.us/data/congress/113/votes/2013/s127/"
       ]
      },
      {
       "output_type": "stream",
       "stream": "stdout",
       "text": [
        "\n",
        "Scraping https://www.govtrack.us/data/congress/113/votes/2013/s128/"
       ]
      },
      {
       "output_type": "stream",
       "stream": "stdout",
       "text": [
        "\n",
        "Scraping https://www.govtrack.us/data/congress/113/votes/2013/s129/"
       ]
      },
      {
       "output_type": "stream",
       "stream": "stdout",
       "text": [
        "\n",
        "Scraping https://www.govtrack.us/data/congress/113/votes/2013/s13/"
       ]
      },
      {
       "output_type": "stream",
       "stream": "stdout",
       "text": [
        "\n",
        "Scraping https://www.govtrack.us/data/congress/113/votes/2013/s130/"
       ]
      },
      {
       "output_type": "stream",
       "stream": "stdout",
       "text": [
        "\n",
        "Scraping https://www.govtrack.us/data/congress/113/votes/2013/s131/"
       ]
      },
      {
       "output_type": "stream",
       "stream": "stdout",
       "text": [
        "\n",
        "Scraping https://www.govtrack.us/data/congress/113/votes/2013/s132/"
       ]
      },
      {
       "output_type": "stream",
       "stream": "stdout",
       "text": [
        "\n",
        "Scraping https://www.govtrack.us/data/congress/113/votes/2013/s133/"
       ]
      },
      {
       "output_type": "stream",
       "stream": "stdout",
       "text": [
        "\n",
        "Scraping https://www.govtrack.us/data/congress/113/votes/2013/s134/"
       ]
      },
      {
       "output_type": "stream",
       "stream": "stdout",
       "text": [
        "\n",
        "Scraping https://www.govtrack.us/data/congress/113/votes/2013/s135/"
       ]
      },
      {
       "output_type": "stream",
       "stream": "stdout",
       "text": [
        "\n",
        "Scraping https://www.govtrack.us/data/congress/113/votes/2013/s136/"
       ]
      },
      {
       "output_type": "stream",
       "stream": "stdout",
       "text": [
        "\n",
        "Scraping https://www.govtrack.us/data/congress/113/votes/2013/s137/"
       ]
      },
      {
       "output_type": "stream",
       "stream": "stdout",
       "text": [
        "\n",
        "Scraping https://www.govtrack.us/data/congress/113/votes/2013/s138/"
       ]
      },
      {
       "output_type": "stream",
       "stream": "stdout",
       "text": [
        "\n",
        "Scraping https://www.govtrack.us/data/congress/113/votes/2013/s139/"
       ]
      },
      {
       "output_type": "stream",
       "stream": "stdout",
       "text": [
        "\n",
        "Scraping https://www.govtrack.us/data/congress/113/votes/2013/s14/"
       ]
      },
      {
       "output_type": "stream",
       "stream": "stdout",
       "text": [
        "\n",
        "Scraping https://www.govtrack.us/data/congress/113/votes/2013/s140/"
       ]
      },
      {
       "output_type": "stream",
       "stream": "stdout",
       "text": [
        "\n",
        "Scraping https://www.govtrack.us/data/congress/113/votes/2013/s141/"
       ]
      },
      {
       "output_type": "stream",
       "stream": "stdout",
       "text": [
        "\n",
        "Scraping https://www.govtrack.us/data/congress/113/votes/2013/s142/"
       ]
      },
      {
       "output_type": "stream",
       "stream": "stdout",
       "text": [
        "\n",
        "Scraping https://www.govtrack.us/data/congress/113/votes/2013/s143/"
       ]
      },
      {
       "output_type": "stream",
       "stream": "stdout",
       "text": [
        "\n",
        "Scraping https://www.govtrack.us/data/congress/113/votes/2013/s144/"
       ]
      },
      {
       "output_type": "stream",
       "stream": "stdout",
       "text": [
        "\n",
        "Scraping https://www.govtrack.us/data/congress/113/votes/2013/s145/"
       ]
      },
      {
       "output_type": "stream",
       "stream": "stdout",
       "text": [
        "\n",
        "Scraping https://www.govtrack.us/data/congress/113/votes/2013/s146/"
       ]
      },
      {
       "output_type": "stream",
       "stream": "stdout",
       "text": [
        "\n",
        "Scraping https://www.govtrack.us/data/congress/113/votes/2013/s147/"
       ]
      },
      {
       "output_type": "stream",
       "stream": "stdout",
       "text": [
        "\n",
        "Scraping https://www.govtrack.us/data/congress/113/votes/2013/s148/"
       ]
      },
      {
       "output_type": "stream",
       "stream": "stdout",
       "text": [
        "\n",
        "Scraping https://www.govtrack.us/data/congress/113/votes/2013/s149/"
       ]
      },
      {
       "output_type": "stream",
       "stream": "stdout",
       "text": [
        "\n",
        "Scraping https://www.govtrack.us/data/congress/113/votes/2013/s15/"
       ]
      },
      {
       "output_type": "stream",
       "stream": "stdout",
       "text": [
        "\n",
        "Scraping https://www.govtrack.us/data/congress/113/votes/2013/s150/"
       ]
      },
      {
       "output_type": "stream",
       "stream": "stdout",
       "text": [
        "\n",
        "Scraping https://www.govtrack.us/data/congress/113/votes/2013/s151/"
       ]
      },
      {
       "output_type": "stream",
       "stream": "stdout",
       "text": [
        "\n",
        "Scraping https://www.govtrack.us/data/congress/113/votes/2013/s152/"
       ]
      },
      {
       "output_type": "stream",
       "stream": "stdout",
       "text": [
        "\n",
        "Scraping https://www.govtrack.us/data/congress/113/votes/2013/s153/"
       ]
      },
      {
       "output_type": "stream",
       "stream": "stdout",
       "text": [
        "\n",
        "Scraping https://www.govtrack.us/data/congress/113/votes/2013/s154/"
       ]
      },
      {
       "output_type": "stream",
       "stream": "stdout",
       "text": [
        "\n",
        "Scraping https://www.govtrack.us/data/congress/113/votes/2013/s155/"
       ]
      },
      {
       "output_type": "stream",
       "stream": "stdout",
       "text": [
        "\n",
        "Scraping https://www.govtrack.us/data/congress/113/votes/2013/s156/"
       ]
      },
      {
       "output_type": "stream",
       "stream": "stdout",
       "text": [
        "\n",
        "Scraping https://www.govtrack.us/data/congress/113/votes/2013/s157/"
       ]
      },
      {
       "output_type": "stream",
       "stream": "stdout",
       "text": [
        "\n",
        "Scraping https://www.govtrack.us/data/congress/113/votes/2013/s158/"
       ]
      },
      {
       "output_type": "stream",
       "stream": "stdout",
       "text": [
        "\n",
        "Scraping https://www.govtrack.us/data/congress/113/votes/2013/s159/"
       ]
      },
      {
       "output_type": "stream",
       "stream": "stdout",
       "text": [
        "\n",
        "Scraping https://www.govtrack.us/data/congress/113/votes/2013/s16/"
       ]
      },
      {
       "output_type": "stream",
       "stream": "stdout",
       "text": [
        "\n",
        "Scraping https://www.govtrack.us/data/congress/113/votes/2013/s160/"
       ]
      },
      {
       "output_type": "stream",
       "stream": "stdout",
       "text": [
        "\n",
        "Scraping https://www.govtrack.us/data/congress/113/votes/2013/s161/"
       ]
      },
      {
       "output_type": "stream",
       "stream": "stdout",
       "text": [
        "\n",
        "Scraping https://www.govtrack.us/data/congress/113/votes/2013/s162/"
       ]
      },
      {
       "output_type": "stream",
       "stream": "stdout",
       "text": [
        "\n",
        "Scraping https://www.govtrack.us/data/congress/113/votes/2013/s163/"
       ]
      },
      {
       "output_type": "stream",
       "stream": "stdout",
       "text": [
        "\n",
        "Scraping https://www.govtrack.us/data/congress/113/votes/2013/s164/"
       ]
      },
      {
       "output_type": "stream",
       "stream": "stdout",
       "text": [
        "\n",
        "Scraping https://www.govtrack.us/data/congress/113/votes/2013/s165/"
       ]
      },
      {
       "output_type": "stream",
       "stream": "stdout",
       "text": [
        "\n",
        "Scraping https://www.govtrack.us/data/congress/113/votes/2013/s166/"
       ]
      },
      {
       "output_type": "stream",
       "stream": "stdout",
       "text": [
        "\n",
        "Scraping https://www.govtrack.us/data/congress/113/votes/2013/s167/"
       ]
      },
      {
       "output_type": "stream",
       "stream": "stdout",
       "text": [
        "\n",
        "Scraping https://www.govtrack.us/data/congress/113/votes/2013/s168/"
       ]
      },
      {
       "output_type": "stream",
       "stream": "stdout",
       "text": [
        "\n",
        "Scraping https://www.govtrack.us/data/congress/113/votes/2013/s169/"
       ]
      },
      {
       "output_type": "stream",
       "stream": "stdout",
       "text": [
        "\n",
        "Scraping https://www.govtrack.us/data/congress/113/votes/2013/s17/"
       ]
      },
      {
       "output_type": "stream",
       "stream": "stdout",
       "text": [
        "\n",
        "Scraping https://www.govtrack.us/data/congress/113/votes/2013/s170/"
       ]
      },
      {
       "output_type": "stream",
       "stream": "stdout",
       "text": [
        "\n",
        "Scraping https://www.govtrack.us/data/congress/113/votes/2013/s171/"
       ]
      },
      {
       "output_type": "stream",
       "stream": "stdout",
       "text": [
        "\n",
        "Scraping https://www.govtrack.us/data/congress/113/votes/2013/s172/"
       ]
      },
      {
       "output_type": "stream",
       "stream": "stdout",
       "text": [
        "\n",
        "Scraping https://www.govtrack.us/data/congress/113/votes/2013/s173/"
       ]
      },
      {
       "output_type": "stream",
       "stream": "stdout",
       "text": [
        "\n",
        "Scraping https://www.govtrack.us/data/congress/113/votes/2013/s174/"
       ]
      },
      {
       "output_type": "stream",
       "stream": "stdout",
       "text": [
        "\n",
        "Scraping https://www.govtrack.us/data/congress/113/votes/2013/s175/"
       ]
      },
      {
       "output_type": "stream",
       "stream": "stdout",
       "text": [
        "\n",
        "Scraping https://www.govtrack.us/data/congress/113/votes/2013/s176/"
       ]
      },
      {
       "output_type": "stream",
       "stream": "stdout",
       "text": [
        "\n",
        "Scraping https://www.govtrack.us/data/congress/113/votes/2013/s177/"
       ]
      },
      {
       "output_type": "stream",
       "stream": "stdout",
       "text": [
        "\n",
        "Scraping https://www.govtrack.us/data/congress/113/votes/2013/s178/"
       ]
      },
      {
       "output_type": "stream",
       "stream": "stdout",
       "text": [
        "\n",
        "Scraping https://www.govtrack.us/data/congress/113/votes/2013/s179/"
       ]
      },
      {
       "output_type": "stream",
       "stream": "stdout",
       "text": [
        "\n",
        "Scraping https://www.govtrack.us/data/congress/113/votes/2013/s18/"
       ]
      },
      {
       "output_type": "stream",
       "stream": "stdout",
       "text": [
        "\n",
        "Scraping https://www.govtrack.us/data/congress/113/votes/2013/s180/"
       ]
      },
      {
       "output_type": "stream",
       "stream": "stdout",
       "text": [
        "\n",
        "Scraping https://www.govtrack.us/data/congress/113/votes/2013/s181/"
       ]
      },
      {
       "output_type": "stream",
       "stream": "stdout",
       "text": [
        "\n",
        "Scraping https://www.govtrack.us/data/congress/113/votes/2013/s182/"
       ]
      },
      {
       "output_type": "stream",
       "stream": "stdout",
       "text": [
        "\n",
        "Scraping https://www.govtrack.us/data/congress/113/votes/2013/s183/"
       ]
      },
      {
       "output_type": "stream",
       "stream": "stdout",
       "text": [
        "\n",
        "Scraping https://www.govtrack.us/data/congress/113/votes/2013/s184/"
       ]
      },
      {
       "output_type": "stream",
       "stream": "stdout",
       "text": [
        "\n",
        "Scraping https://www.govtrack.us/data/congress/113/votes/2013/s185/"
       ]
      },
      {
       "output_type": "stream",
       "stream": "stdout",
       "text": [
        "\n",
        "Scraping https://www.govtrack.us/data/congress/113/votes/2013/s186/"
       ]
      },
      {
       "output_type": "stream",
       "stream": "stdout",
       "text": [
        "\n",
        "Scraping https://www.govtrack.us/data/congress/113/votes/2013/s187/"
       ]
      },
      {
       "output_type": "stream",
       "stream": "stdout",
       "text": [
        "\n",
        "Scraping https://www.govtrack.us/data/congress/113/votes/2013/s188/"
       ]
      },
      {
       "output_type": "stream",
       "stream": "stdout",
       "text": [
        "\n",
        "Scraping https://www.govtrack.us/data/congress/113/votes/2013/s189/"
       ]
      },
      {
       "output_type": "stream",
       "stream": "stdout",
       "text": [
        "\n",
        "Scraping https://www.govtrack.us/data/congress/113/votes/2013/s19/"
       ]
      },
      {
       "output_type": "stream",
       "stream": "stdout",
       "text": [
        "\n",
        "Scraping https://www.govtrack.us/data/congress/113/votes/2013/s190/"
       ]
      },
      {
       "output_type": "stream",
       "stream": "stdout",
       "text": [
        "\n",
        "Scraping https://www.govtrack.us/data/congress/113/votes/2013/s191/"
       ]
      },
      {
       "output_type": "stream",
       "stream": "stdout",
       "text": [
        "\n",
        "Scraping https://www.govtrack.us/data/congress/113/votes/2013/s192/"
       ]
      },
      {
       "output_type": "stream",
       "stream": "stdout",
       "text": [
        "\n",
        "Scraping https://www.govtrack.us/data/congress/113/votes/2013/s193/"
       ]
      },
      {
       "output_type": "stream",
       "stream": "stdout",
       "text": [
        "\n",
        "Scraping https://www.govtrack.us/data/congress/113/votes/2013/s194/"
       ]
      },
      {
       "output_type": "stream",
       "stream": "stdout",
       "text": [
        "\n",
        "Scraping https://www.govtrack.us/data/congress/113/votes/2013/s195/"
       ]
      },
      {
       "output_type": "stream",
       "stream": "stdout",
       "text": [
        "\n",
        "Scraping https://www.govtrack.us/data/congress/113/votes/2013/s196/"
       ]
      },
      {
       "output_type": "stream",
       "stream": "stdout",
       "text": [
        "\n",
        "Scraping https://www.govtrack.us/data/congress/113/votes/2013/s197/"
       ]
      },
      {
       "output_type": "stream",
       "stream": "stdout",
       "text": [
        "\n",
        "Scraping https://www.govtrack.us/data/congress/113/votes/2013/s198/"
       ]
      },
      {
       "output_type": "stream",
       "stream": "stdout",
       "text": [
        "\n",
        "Scraping https://www.govtrack.us/data/congress/113/votes/2013/s199/"
       ]
      },
      {
       "output_type": "stream",
       "stream": "stdout",
       "text": [
        "\n",
        "Scraping https://www.govtrack.us/data/congress/113/votes/2013/s2/"
       ]
      },
      {
       "output_type": "stream",
       "stream": "stdout",
       "text": [
        "\n",
        "Scraping https://www.govtrack.us/data/congress/113/votes/2013/s20/"
       ]
      },
      {
       "output_type": "stream",
       "stream": "stdout",
       "text": [
        "\n",
        "Scraping https://www.govtrack.us/data/congress/113/votes/2013/s200/"
       ]
      },
      {
       "output_type": "stream",
       "stream": "stdout",
       "text": [
        "\n",
        "Scraping https://www.govtrack.us/data/congress/113/votes/2013/s201/"
       ]
      },
      {
       "output_type": "stream",
       "stream": "stdout",
       "text": [
        "\n",
        "Scraping https://www.govtrack.us/data/congress/113/votes/2013/s202/"
       ]
      },
      {
       "output_type": "stream",
       "stream": "stdout",
       "text": [
        "\n",
        "Scraping https://www.govtrack.us/data/congress/113/votes/2013/s203/"
       ]
      },
      {
       "output_type": "stream",
       "stream": "stdout",
       "text": [
        "\n",
        "Scraping https://www.govtrack.us/data/congress/113/votes/2013/s204/"
       ]
      },
      {
       "output_type": "stream",
       "stream": "stdout",
       "text": [
        "\n",
        "Scraping https://www.govtrack.us/data/congress/113/votes/2013/s205/"
       ]
      },
      {
       "output_type": "stream",
       "stream": "stdout",
       "text": [
        "\n",
        "Scraping https://www.govtrack.us/data/congress/113/votes/2013/s206/"
       ]
      },
      {
       "output_type": "stream",
       "stream": "stdout",
       "text": [
        "\n",
        "Scraping https://www.govtrack.us/data/congress/113/votes/2013/s207/"
       ]
      },
      {
       "output_type": "stream",
       "stream": "stdout",
       "text": [
        "\n",
        "Scraping https://www.govtrack.us/data/congress/113/votes/2013/s208/"
       ]
      },
      {
       "output_type": "stream",
       "stream": "stdout",
       "text": [
        "\n",
        "Scraping https://www.govtrack.us/data/congress/113/votes/2013/s209/"
       ]
      },
      {
       "output_type": "stream",
       "stream": "stdout",
       "text": [
        "\n",
        "Scraping https://www.govtrack.us/data/congress/113/votes/2013/s21/"
       ]
      },
      {
       "output_type": "stream",
       "stream": "stdout",
       "text": [
        "\n",
        "Scraping https://www.govtrack.us/data/congress/113/votes/2013/s210/"
       ]
      },
      {
       "output_type": "stream",
       "stream": "stdout",
       "text": [
        "\n",
        "Scraping https://www.govtrack.us/data/congress/113/votes/2013/s211/"
       ]
      },
      {
       "output_type": "stream",
       "stream": "stdout",
       "text": [
        "\n",
        "Scraping https://www.govtrack.us/data/congress/113/votes/2013/s212/"
       ]
      },
      {
       "output_type": "stream",
       "stream": "stdout",
       "text": [
        "\n",
        "Scraping https://www.govtrack.us/data/congress/113/votes/2013/s213/"
       ]
      },
      {
       "output_type": "stream",
       "stream": "stdout",
       "text": [
        "\n",
        "Scraping https://www.govtrack.us/data/congress/113/votes/2013/s214/"
       ]
      },
      {
       "output_type": "stream",
       "stream": "stdout",
       "text": [
        "\n",
        "Scraping https://www.govtrack.us/data/congress/113/votes/2013/s215/"
       ]
      },
      {
       "output_type": "stream",
       "stream": "stdout",
       "text": [
        "\n",
        "Scraping https://www.govtrack.us/data/congress/113/votes/2013/s216/"
       ]
      },
      {
       "output_type": "stream",
       "stream": "stdout",
       "text": [
        "\n",
        "Scraping https://www.govtrack.us/data/congress/113/votes/2013/s217/"
       ]
      },
      {
       "output_type": "stream",
       "stream": "stdout",
       "text": [
        "\n",
        "Scraping https://www.govtrack.us/data/congress/113/votes/2013/s218/"
       ]
      },
      {
       "output_type": "stream",
       "stream": "stdout",
       "text": [
        "\n",
        "Scraping https://www.govtrack.us/data/congress/113/votes/2013/s219/"
       ]
      },
      {
       "output_type": "stream",
       "stream": "stdout",
       "text": [
        "\n",
        "Scraping https://www.govtrack.us/data/congress/113/votes/2013/s22/"
       ]
      },
      {
       "output_type": "stream",
       "stream": "stdout",
       "text": [
        "\n",
        "Scraping https://www.govtrack.us/data/congress/113/votes/2013/s220/"
       ]
      },
      {
       "output_type": "stream",
       "stream": "stdout",
       "text": [
        "\n",
        "Scraping https://www.govtrack.us/data/congress/113/votes/2013/s221/"
       ]
      },
      {
       "output_type": "stream",
       "stream": "stdout",
       "text": [
        "\n",
        "Scraping https://www.govtrack.us/data/congress/113/votes/2013/s222/"
       ]
      },
      {
       "output_type": "stream",
       "stream": "stdout",
       "text": [
        "\n",
        "Scraping https://www.govtrack.us/data/congress/113/votes/2013/s223/"
       ]
      },
      {
       "output_type": "stream",
       "stream": "stdout",
       "text": [
        "\n",
        "Scraping https://www.govtrack.us/data/congress/113/votes/2013/s224/"
       ]
      },
      {
       "output_type": "stream",
       "stream": "stdout",
       "text": [
        "\n",
        "Scraping https://www.govtrack.us/data/congress/113/votes/2013/s225/"
       ]
      },
      {
       "output_type": "stream",
       "stream": "stdout",
       "text": [
        "\n",
        "Scraping https://www.govtrack.us/data/congress/113/votes/2013/s226/"
       ]
      },
      {
       "output_type": "stream",
       "stream": "stdout",
       "text": [
        "\n",
        "Scraping https://www.govtrack.us/data/congress/113/votes/2013/s227/"
       ]
      },
      {
       "output_type": "stream",
       "stream": "stdout",
       "text": [
        "\n",
        "Scraping https://www.govtrack.us/data/congress/113/votes/2013/s228/"
       ]
      },
      {
       "output_type": "stream",
       "stream": "stdout",
       "text": [
        "\n",
        "Scraping https://www.govtrack.us/data/congress/113/votes/2013/s229/"
       ]
      },
      {
       "output_type": "stream",
       "stream": "stdout",
       "text": [
        "\n",
        "Scraping https://www.govtrack.us/data/congress/113/votes/2013/s23/"
       ]
      },
      {
       "output_type": "stream",
       "stream": "stdout",
       "text": [
        "\n",
        "Scraping https://www.govtrack.us/data/congress/113/votes/2013/s230/"
       ]
      },
      {
       "output_type": "stream",
       "stream": "stdout",
       "text": [
        "\n",
        "Scraping https://www.govtrack.us/data/congress/113/votes/2013/s231/"
       ]
      },
      {
       "output_type": "stream",
       "stream": "stdout",
       "text": [
        "\n",
        "Scraping https://www.govtrack.us/data/congress/113/votes/2013/s232/"
       ]
      },
      {
       "output_type": "stream",
       "stream": "stdout",
       "text": [
        "\n",
        "Scraping https://www.govtrack.us/data/congress/113/votes/2013/s233/"
       ]
      },
      {
       "output_type": "stream",
       "stream": "stdout",
       "text": [
        "\n",
        "Scraping https://www.govtrack.us/data/congress/113/votes/2013/s234/"
       ]
      },
      {
       "output_type": "stream",
       "stream": "stdout",
       "text": [
        "\n",
        "Scraping https://www.govtrack.us/data/congress/113/votes/2013/s235/"
       ]
      },
      {
       "output_type": "stream",
       "stream": "stdout",
       "text": [
        "\n",
        "Scraping https://www.govtrack.us/data/congress/113/votes/2013/s236/"
       ]
      },
      {
       "output_type": "stream",
       "stream": "stdout",
       "text": [
        "\n",
        "Scraping https://www.govtrack.us/data/congress/113/votes/2013/s237/"
       ]
      },
      {
       "output_type": "stream",
       "stream": "stdout",
       "text": [
        "\n",
        "Scraping https://www.govtrack.us/data/congress/113/votes/2013/s238/"
       ]
      },
      {
       "output_type": "stream",
       "stream": "stdout",
       "text": [
        "\n",
        "Scraping https://www.govtrack.us/data/congress/113/votes/2013/s239/"
       ]
      },
      {
       "output_type": "stream",
       "stream": "stdout",
       "text": [
        "\n",
        "Scraping https://www.govtrack.us/data/congress/113/votes/2013/s24/"
       ]
      },
      {
       "output_type": "stream",
       "stream": "stdout",
       "text": [
        "\n",
        "Scraping https://www.govtrack.us/data/congress/113/votes/2013/s240/"
       ]
      },
      {
       "output_type": "stream",
       "stream": "stdout",
       "text": [
        "\n",
        "Scraping https://www.govtrack.us/data/congress/113/votes/2013/s241/"
       ]
      },
      {
       "output_type": "stream",
       "stream": "stdout",
       "text": [
        "\n",
        "Scraping https://www.govtrack.us/data/congress/113/votes/2013/s242/"
       ]
      },
      {
       "output_type": "stream",
       "stream": "stdout",
       "text": [
        "\n",
        "Scraping https://www.govtrack.us/data/congress/113/votes/2013/s243/"
       ]
      },
      {
       "output_type": "stream",
       "stream": "stdout",
       "text": [
        "\n",
        "Scraping https://www.govtrack.us/data/congress/113/votes/2013/s244/"
       ]
      },
      {
       "output_type": "stream",
       "stream": "stdout",
       "text": [
        "\n",
        "Scraping https://www.govtrack.us/data/congress/113/votes/2013/s245/"
       ]
      },
      {
       "output_type": "stream",
       "stream": "stdout",
       "text": [
        "\n",
        "Scraping https://www.govtrack.us/data/congress/113/votes/2013/s246/"
       ]
      },
      {
       "output_type": "stream",
       "stream": "stdout",
       "text": [
        "\n",
        "Scraping https://www.govtrack.us/data/congress/113/votes/2013/s247/"
       ]
      },
      {
       "output_type": "stream",
       "stream": "stdout",
       "text": [
        "\n",
        "Scraping https://www.govtrack.us/data/congress/113/votes/2013/s248/"
       ]
      },
      {
       "output_type": "stream",
       "stream": "stdout",
       "text": [
        "\n",
        "Scraping https://www.govtrack.us/data/congress/113/votes/2013/s249/"
       ]
      },
      {
       "output_type": "stream",
       "stream": "stdout",
       "text": [
        "\n",
        "Scraping https://www.govtrack.us/data/congress/113/votes/2013/s25/"
       ]
      },
      {
       "output_type": "stream",
       "stream": "stdout",
       "text": [
        "\n",
        "Scraping https://www.govtrack.us/data/congress/113/votes/2013/s250/"
       ]
      },
      {
       "output_type": "stream",
       "stream": "stdout",
       "text": [
        "\n",
        "Scraping https://www.govtrack.us/data/congress/113/votes/2013/s251/"
       ]
      },
      {
       "output_type": "stream",
       "stream": "stdout",
       "text": [
        "\n",
        "Scraping https://www.govtrack.us/data/congress/113/votes/2013/s252/"
       ]
      },
      {
       "output_type": "stream",
       "stream": "stdout",
       "text": [
        "\n",
        "Scraping https://www.govtrack.us/data/congress/113/votes/2013/s253/"
       ]
      },
      {
       "output_type": "stream",
       "stream": "stdout",
       "text": [
        "\n",
        "Scraping https://www.govtrack.us/data/congress/113/votes/2013/s254/"
       ]
      },
      {
       "output_type": "stream",
       "stream": "stdout",
       "text": [
        "\n",
        "Scraping https://www.govtrack.us/data/congress/113/votes/2013/s255/"
       ]
      },
      {
       "output_type": "stream",
       "stream": "stdout",
       "text": [
        "\n",
        "Scraping https://www.govtrack.us/data/congress/113/votes/2013/s256/"
       ]
      },
      {
       "output_type": "stream",
       "stream": "stdout",
       "text": [
        "\n",
        "Scraping https://www.govtrack.us/data/congress/113/votes/2013/s257/"
       ]
      },
      {
       "output_type": "stream",
       "stream": "stdout",
       "text": [
        "\n",
        "Scraping https://www.govtrack.us/data/congress/113/votes/2013/s258/"
       ]
      },
      {
       "output_type": "stream",
       "stream": "stdout",
       "text": [
        "\n",
        "Scraping https://www.govtrack.us/data/congress/113/votes/2013/s259/"
       ]
      },
      {
       "output_type": "stream",
       "stream": "stdout",
       "text": [
        "\n",
        "Scraping https://www.govtrack.us/data/congress/113/votes/2013/s26/"
       ]
      },
      {
       "output_type": "stream",
       "stream": "stdout",
       "text": [
        "\n",
        "Scraping https://www.govtrack.us/data/congress/113/votes/2013/s260/"
       ]
      },
      {
       "output_type": "stream",
       "stream": "stdout",
       "text": [
        "\n",
        "Scraping https://www.govtrack.us/data/congress/113/votes/2013/s261/"
       ]
      },
      {
       "output_type": "stream",
       "stream": "stdout",
       "text": [
        "\n",
        "Scraping https://www.govtrack.us/data/congress/113/votes/2013/s262/"
       ]
      },
      {
       "output_type": "stream",
       "stream": "stdout",
       "text": [
        "\n",
        "Scraping https://www.govtrack.us/data/congress/113/votes/2013/s263/"
       ]
      },
      {
       "output_type": "stream",
       "stream": "stdout",
       "text": [
        "\n",
        "Scraping https://www.govtrack.us/data/congress/113/votes/2013/s264/"
       ]
      },
      {
       "output_type": "stream",
       "stream": "stdout",
       "text": [
        "\n",
        "Scraping https://www.govtrack.us/data/congress/113/votes/2013/s265/"
       ]
      },
      {
       "output_type": "stream",
       "stream": "stdout",
       "text": [
        "\n",
        "Scraping https://www.govtrack.us/data/congress/113/votes/2013/s266/"
       ]
      },
      {
       "output_type": "stream",
       "stream": "stdout",
       "text": [
        "\n",
        "Scraping https://www.govtrack.us/data/congress/113/votes/2013/s267/"
       ]
      },
      {
       "output_type": "stream",
       "stream": "stdout",
       "text": [
        "\n",
        "Scraping https://www.govtrack.us/data/congress/113/votes/2013/s268/"
       ]
      },
      {
       "output_type": "stream",
       "stream": "stdout",
       "text": [
        "\n",
        "Scraping https://www.govtrack.us/data/congress/113/votes/2013/s269/"
       ]
      },
      {
       "output_type": "stream",
       "stream": "stdout",
       "text": [
        "\n",
        "Scraping https://www.govtrack.us/data/congress/113/votes/2013/s27/"
       ]
      },
      {
       "output_type": "stream",
       "stream": "stdout",
       "text": [
        "\n",
        "Scraping https://www.govtrack.us/data/congress/113/votes/2013/s270/"
       ]
      },
      {
       "output_type": "stream",
       "stream": "stdout",
       "text": [
        "\n",
        "Scraping https://www.govtrack.us/data/congress/113/votes/2013/s271/"
       ]
      },
      {
       "output_type": "stream",
       "stream": "stdout",
       "text": [
        "\n",
        "Scraping https://www.govtrack.us/data/congress/113/votes/2013/s272/"
       ]
      },
      {
       "output_type": "stream",
       "stream": "stdout",
       "text": [
        "\n",
        "Scraping https://www.govtrack.us/data/congress/113/votes/2013/s273/"
       ]
      },
      {
       "output_type": "stream",
       "stream": "stdout",
       "text": [
        "\n",
        "Scraping https://www.govtrack.us/data/congress/113/votes/2013/s274/"
       ]
      },
      {
       "output_type": "stream",
       "stream": "stdout",
       "text": [
        "\n",
        "Scraping https://www.govtrack.us/data/congress/113/votes/2013/s275/"
       ]
      },
      {
       "output_type": "stream",
       "stream": "stdout",
       "text": [
        "\n",
        "Scraping https://www.govtrack.us/data/congress/113/votes/2013/s276/"
       ]
      },
      {
       "output_type": "stream",
       "stream": "stdout",
       "text": [
        "\n",
        "Scraping https://www.govtrack.us/data/congress/113/votes/2013/s277/"
       ]
      },
      {
       "output_type": "stream",
       "stream": "stdout",
       "text": [
        "\n",
        "Scraping https://www.govtrack.us/data/congress/113/votes/2013/s278/"
       ]
      },
      {
       "output_type": "stream",
       "stream": "stdout",
       "text": [
        "\n",
        "Scraping https://www.govtrack.us/data/congress/113/votes/2013/s279/"
       ]
      },
      {
       "output_type": "stream",
       "stream": "stdout",
       "text": [
        "\n",
        "Scraping https://www.govtrack.us/data/congress/113/votes/2013/s28/"
       ]
      },
      {
       "output_type": "stream",
       "stream": "stdout",
       "text": [
        "\n",
        "Scraping https://www.govtrack.us/data/congress/113/votes/2013/s280/"
       ]
      },
      {
       "output_type": "stream",
       "stream": "stdout",
       "text": [
        "\n",
        "Scraping https://www.govtrack.us/data/congress/113/votes/2013/s281/"
       ]
      },
      {
       "output_type": "stream",
       "stream": "stdout",
       "text": [
        "\n",
        "Scraping https://www.govtrack.us/data/congress/113/votes/2013/s282/"
       ]
      },
      {
       "output_type": "stream",
       "stream": "stdout",
       "text": [
        "\n",
        "Scraping https://www.govtrack.us/data/congress/113/votes/2013/s283/"
       ]
      },
      {
       "output_type": "stream",
       "stream": "stdout",
       "text": [
        "\n",
        "Scraping https://www.govtrack.us/data/congress/113/votes/2013/s284/"
       ]
      },
      {
       "output_type": "stream",
       "stream": "stdout",
       "text": [
        "\n",
        "Scraping https://www.govtrack.us/data/congress/113/votes/2013/s285/"
       ]
      },
      {
       "output_type": "stream",
       "stream": "stdout",
       "text": [
        "\n",
        "Scraping https://www.govtrack.us/data/congress/113/votes/2013/s286/"
       ]
      },
      {
       "output_type": "stream",
       "stream": "stdout",
       "text": [
        "\n",
        "Scraping https://www.govtrack.us/data/congress/113/votes/2013/s287/"
       ]
      },
      {
       "output_type": "stream",
       "stream": "stdout",
       "text": [
        "\n",
        "Scraping https://www.govtrack.us/data/congress/113/votes/2013/s288/"
       ]
      },
      {
       "output_type": "stream",
       "stream": "stdout",
       "text": [
        "\n",
        "Scraping https://www.govtrack.us/data/congress/113/votes/2013/s289/"
       ]
      },
      {
       "output_type": "stream",
       "stream": "stdout",
       "text": [
        "\n",
        "Scraping https://www.govtrack.us/data/congress/113/votes/2013/s29/"
       ]
      },
      {
       "output_type": "stream",
       "stream": "stdout",
       "text": [
        "\n",
        "Scraping https://www.govtrack.us/data/congress/113/votes/2013/s290/"
       ]
      },
      {
       "output_type": "stream",
       "stream": "stdout",
       "text": [
        "\n",
        "Scraping https://www.govtrack.us/data/congress/113/votes/2013/s291/"
       ]
      },
      {
       "output_type": "stream",
       "stream": "stdout",
       "text": [
        "\n",
        "Scraping https://www.govtrack.us/data/congress/113/votes/2013/s3/"
       ]
      },
      {
       "output_type": "stream",
       "stream": "stdout",
       "text": [
        "\n",
        "Scraping https://www.govtrack.us/data/congress/113/votes/2013/s30/"
       ]
      },
      {
       "output_type": "stream",
       "stream": "stdout",
       "text": [
        "\n",
        "Scraping https://www.govtrack.us/data/congress/113/votes/2013/s31/"
       ]
      },
      {
       "output_type": "stream",
       "stream": "stdout",
       "text": [
        "\n",
        "Scraping https://www.govtrack.us/data/congress/113/votes/2013/s32/"
       ]
      },
      {
       "output_type": "stream",
       "stream": "stdout",
       "text": [
        "\n",
        "Scraping https://www.govtrack.us/data/congress/113/votes/2013/s33/"
       ]
      },
      {
       "output_type": "stream",
       "stream": "stdout",
       "text": [
        "\n",
        "Scraping https://www.govtrack.us/data/congress/113/votes/2013/s34/"
       ]
      },
      {
       "output_type": "stream",
       "stream": "stdout",
       "text": [
        "\n",
        "Scraping https://www.govtrack.us/data/congress/113/votes/2013/s35/"
       ]
      },
      {
       "output_type": "stream",
       "stream": "stdout",
       "text": [
        "\n",
        "Scraping https://www.govtrack.us/data/congress/113/votes/2013/s36/"
       ]
      },
      {
       "output_type": "stream",
       "stream": "stdout",
       "text": [
        "\n",
        "Scraping https://www.govtrack.us/data/congress/113/votes/2013/s37/"
       ]
      },
      {
       "output_type": "stream",
       "stream": "stdout",
       "text": [
        "\n",
        "Scraping https://www.govtrack.us/data/congress/113/votes/2013/s38/"
       ]
      },
      {
       "output_type": "stream",
       "stream": "stdout",
       "text": [
        "\n",
        "Scraping https://www.govtrack.us/data/congress/113/votes/2013/s39/"
       ]
      },
      {
       "output_type": "stream",
       "stream": "stdout",
       "text": [
        "\n",
        "Scraping https://www.govtrack.us/data/congress/113/votes/2013/s4/"
       ]
      },
      {
       "output_type": "stream",
       "stream": "stdout",
       "text": [
        "\n",
        "Scraping https://www.govtrack.us/data/congress/113/votes/2013/s40/"
       ]
      },
      {
       "output_type": "stream",
       "stream": "stdout",
       "text": [
        "\n",
        "Scraping https://www.govtrack.us/data/congress/113/votes/2013/s41/"
       ]
      },
      {
       "output_type": "stream",
       "stream": "stdout",
       "text": [
        "\n",
        "Scraping https://www.govtrack.us/data/congress/113/votes/2013/s42/"
       ]
      },
      {
       "output_type": "stream",
       "stream": "stdout",
       "text": [
        "\n",
        "Scraping https://www.govtrack.us/data/congress/113/votes/2013/s43/"
       ]
      },
      {
       "output_type": "stream",
       "stream": "stdout",
       "text": [
        "\n",
        "Scraping https://www.govtrack.us/data/congress/113/votes/2013/s44/"
       ]
      },
      {
       "output_type": "stream",
       "stream": "stdout",
       "text": [
        "\n",
        "Scraping https://www.govtrack.us/data/congress/113/votes/2013/s45/"
       ]
      },
      {
       "output_type": "stream",
       "stream": "stdout",
       "text": [
        "\n",
        "Scraping https://www.govtrack.us/data/congress/113/votes/2013/s46/"
       ]
      },
      {
       "output_type": "stream",
       "stream": "stdout",
       "text": [
        "\n",
        "Scraping https://www.govtrack.us/data/congress/113/votes/2013/s47/"
       ]
      },
      {
       "output_type": "stream",
       "stream": "stdout",
       "text": [
        "\n",
        "Scraping https://www.govtrack.us/data/congress/113/votes/2013/s48/"
       ]
      },
      {
       "output_type": "stream",
       "stream": "stdout",
       "text": [
        "\n",
        "Scraping https://www.govtrack.us/data/congress/113/votes/2013/s49/"
       ]
      },
      {
       "output_type": "stream",
       "stream": "stdout",
       "text": [
        "\n",
        "Scraping https://www.govtrack.us/data/congress/113/votes/2013/s5/"
       ]
      },
      {
       "output_type": "stream",
       "stream": "stdout",
       "text": [
        "\n",
        "Scraping https://www.govtrack.us/data/congress/113/votes/2013/s50/"
       ]
      },
      {
       "output_type": "stream",
       "stream": "stdout",
       "text": [
        "\n",
        "Scraping https://www.govtrack.us/data/congress/113/votes/2013/s51/"
       ]
      },
      {
       "output_type": "stream",
       "stream": "stdout",
       "text": [
        "\n",
        "Scraping https://www.govtrack.us/data/congress/113/votes/2013/s52/"
       ]
      },
      {
       "output_type": "stream",
       "stream": "stdout",
       "text": [
        "\n",
        "Scraping https://www.govtrack.us/data/congress/113/votes/2013/s53/"
       ]
      },
      {
       "output_type": "stream",
       "stream": "stdout",
       "text": [
        "\n",
        "Scraping https://www.govtrack.us/data/congress/113/votes/2013/s54/"
       ]
      },
      {
       "output_type": "stream",
       "stream": "stdout",
       "text": [
        "\n",
        "Scraping https://www.govtrack.us/data/congress/113/votes/2013/s55/"
       ]
      },
      {
       "output_type": "stream",
       "stream": "stdout",
       "text": [
        "\n",
        "Scraping https://www.govtrack.us/data/congress/113/votes/2013/s56/"
       ]
      },
      {
       "output_type": "stream",
       "stream": "stdout",
       "text": [
        "\n",
        "Scraping https://www.govtrack.us/data/congress/113/votes/2013/s57/"
       ]
      },
      {
       "output_type": "stream",
       "stream": "stdout",
       "text": [
        "\n",
        "Scraping https://www.govtrack.us/data/congress/113/votes/2013/s58/"
       ]
      },
      {
       "output_type": "stream",
       "stream": "stdout",
       "text": [
        "\n",
        "Scraping https://www.govtrack.us/data/congress/113/votes/2013/s59/"
       ]
      },
      {
       "output_type": "stream",
       "stream": "stdout",
       "text": [
        "\n",
        "Scraping https://www.govtrack.us/data/congress/113/votes/2013/s6/"
       ]
      },
      {
       "output_type": "stream",
       "stream": "stdout",
       "text": [
        "\n",
        "Scraping https://www.govtrack.us/data/congress/113/votes/2013/s60/"
       ]
      },
      {
       "output_type": "stream",
       "stream": "stdout",
       "text": [
        "\n",
        "Scraping https://www.govtrack.us/data/congress/113/votes/2013/s61/"
       ]
      },
      {
       "output_type": "stream",
       "stream": "stdout",
       "text": [
        "\n",
        "Scraping https://www.govtrack.us/data/congress/113/votes/2013/s62/"
       ]
      },
      {
       "output_type": "stream",
       "stream": "stdout",
       "text": [
        "\n",
        "Scraping https://www.govtrack.us/data/congress/113/votes/2013/s63/"
       ]
      },
      {
       "output_type": "stream",
       "stream": "stdout",
       "text": [
        "\n",
        "Scraping https://www.govtrack.us/data/congress/113/votes/2013/s64/"
       ]
      },
      {
       "output_type": "stream",
       "stream": "stdout",
       "text": [
        "\n",
        "Scraping https://www.govtrack.us/data/congress/113/votes/2013/s65/"
       ]
      },
      {
       "output_type": "stream",
       "stream": "stdout",
       "text": [
        "\n",
        "Scraping https://www.govtrack.us/data/congress/113/votes/2013/s66/"
       ]
      },
      {
       "output_type": "stream",
       "stream": "stdout",
       "text": [
        "\n",
        "Scraping https://www.govtrack.us/data/congress/113/votes/2013/s67/"
       ]
      },
      {
       "output_type": "stream",
       "stream": "stdout",
       "text": [
        "\n",
        "Scraping https://www.govtrack.us/data/congress/113/votes/2013/s68/"
       ]
      },
      {
       "output_type": "stream",
       "stream": "stdout",
       "text": [
        "\n",
        "Scraping https://www.govtrack.us/data/congress/113/votes/2013/s69/"
       ]
      },
      {
       "output_type": "stream",
       "stream": "stdout",
       "text": [
        "\n",
        "Scraping https://www.govtrack.us/data/congress/113/votes/2013/s7/"
       ]
      },
      {
       "output_type": "stream",
       "stream": "stdout",
       "text": [
        "\n",
        "Scraping https://www.govtrack.us/data/congress/113/votes/2013/s70/"
       ]
      },
      {
       "output_type": "stream",
       "stream": "stdout",
       "text": [
        "\n",
        "Scraping https://www.govtrack.us/data/congress/113/votes/2013/s71/"
       ]
      },
      {
       "output_type": "stream",
       "stream": "stdout",
       "text": [
        "\n",
        "Scraping https://www.govtrack.us/data/congress/113/votes/2013/s72/"
       ]
      },
      {
       "output_type": "stream",
       "stream": "stdout",
       "text": [
        "\n",
        "Scraping https://www.govtrack.us/data/congress/113/votes/2013/s73/"
       ]
      },
      {
       "output_type": "stream",
       "stream": "stdout",
       "text": [
        "\n",
        "Scraping https://www.govtrack.us/data/congress/113/votes/2013/s74/"
       ]
      },
      {
       "output_type": "stream",
       "stream": "stdout",
       "text": [
        "\n",
        "Scraping https://www.govtrack.us/data/congress/113/votes/2013/s75/"
       ]
      },
      {
       "output_type": "stream",
       "stream": "stdout",
       "text": [
        "\n",
        "Scraping https://www.govtrack.us/data/congress/113/votes/2013/s76/"
       ]
      },
      {
       "output_type": "stream",
       "stream": "stdout",
       "text": [
        "\n",
        "Scraping https://www.govtrack.us/data/congress/113/votes/2013/s77/"
       ]
      },
      {
       "output_type": "stream",
       "stream": "stdout",
       "text": [
        "\n",
        "Scraping https://www.govtrack.us/data/congress/113/votes/2013/s78/"
       ]
      },
      {
       "output_type": "stream",
       "stream": "stdout",
       "text": [
        "\n",
        "Scraping https://www.govtrack.us/data/congress/113/votes/2013/s79/"
       ]
      },
      {
       "output_type": "stream",
       "stream": "stdout",
       "text": [
        "\n",
        "Scraping https://www.govtrack.us/data/congress/113/votes/2013/s8/"
       ]
      },
      {
       "output_type": "stream",
       "stream": "stdout",
       "text": [
        "\n",
        "Scraping https://www.govtrack.us/data/congress/113/votes/2013/s80/"
       ]
      },
      {
       "output_type": "stream",
       "stream": "stdout",
       "text": [
        "\n",
        "Scraping https://www.govtrack.us/data/congress/113/votes/2013/s81/"
       ]
      },
      {
       "output_type": "stream",
       "stream": "stdout",
       "text": [
        "\n",
        "Scraping https://www.govtrack.us/data/congress/113/votes/2013/s82/"
       ]
      },
      {
       "output_type": "stream",
       "stream": "stdout",
       "text": [
        "\n",
        "Scraping https://www.govtrack.us/data/congress/113/votes/2013/s83/"
       ]
      },
      {
       "output_type": "stream",
       "stream": "stdout",
       "text": [
        "\n",
        "Scraping https://www.govtrack.us/data/congress/113/votes/2013/s84/"
       ]
      },
      {
       "output_type": "stream",
       "stream": "stdout",
       "text": [
        "\n",
        "Scraping https://www.govtrack.us/data/congress/113/votes/2013/s85/"
       ]
      },
      {
       "output_type": "stream",
       "stream": "stdout",
       "text": [
        "\n",
        "Scraping https://www.govtrack.us/data/congress/113/votes/2013/s86/"
       ]
      },
      {
       "output_type": "stream",
       "stream": "stdout",
       "text": [
        "\n",
        "Scraping https://www.govtrack.us/data/congress/113/votes/2013/s87/"
       ]
      },
      {
       "output_type": "stream",
       "stream": "stdout",
       "text": [
        "\n",
        "Scraping https://www.govtrack.us/data/congress/113/votes/2013/s88/"
       ]
      },
      {
       "output_type": "stream",
       "stream": "stdout",
       "text": [
        "\n",
        "Scraping https://www.govtrack.us/data/congress/113/votes/2013/s89/"
       ]
      },
      {
       "output_type": "stream",
       "stream": "stdout",
       "text": [
        "\n",
        "Scraping https://www.govtrack.us/data/congress/113/votes/2013/s9/"
       ]
      },
      {
       "output_type": "stream",
       "stream": "stdout",
       "text": [
        "\n",
        "Scraping https://www.govtrack.us/data/congress/113/votes/2013/s90/"
       ]
      },
      {
       "output_type": "stream",
       "stream": "stdout",
       "text": [
        "\n",
        "Scraping https://www.govtrack.us/data/congress/113/votes/2013/s91/"
       ]
      },
      {
       "output_type": "stream",
       "stream": "stdout",
       "text": [
        "\n",
        "Scraping https://www.govtrack.us/data/congress/113/votes/2013/s92/"
       ]
      },
      {
       "output_type": "stream",
       "stream": "stdout",
       "text": [
        "\n",
        "Scraping https://www.govtrack.us/data/congress/113/votes/2013/s93/"
       ]
      },
      {
       "output_type": "stream",
       "stream": "stdout",
       "text": [
        "\n",
        "Scraping https://www.govtrack.us/data/congress/113/votes/2013/s94/"
       ]
      },
      {
       "output_type": "stream",
       "stream": "stdout",
       "text": [
        "\n",
        "Scraping https://www.govtrack.us/data/congress/113/votes/2013/s95/"
       ]
      },
      {
       "output_type": "stream",
       "stream": "stdout",
       "text": [
        "\n",
        "Scraping https://www.govtrack.us/data/congress/113/votes/2013/s96/"
       ]
      },
      {
       "output_type": "stream",
       "stream": "stdout",
       "text": [
        "\n",
        "Scraping https://www.govtrack.us/data/congress/113/votes/2013/s97/"
       ]
      },
      {
       "output_type": "stream",
       "stream": "stdout",
       "text": [
        "\n",
        "Scraping https://www.govtrack.us/data/congress/113/votes/2013/s98/"
       ]
      },
      {
       "output_type": "stream",
       "stream": "stdout",
       "text": [
        "\n",
        "Scraping https://www.govtrack.us/data/congress/113/votes/2013/s99/"
       ]
      },
      {
       "output_type": "stream",
       "stream": "stdout",
       "text": [
        "\n",
        "Scraping https://www.govtrack.us/data/congress/113/votes/2014/"
       ]
      },
      {
       "output_type": "stream",
       "stream": "stdout",
       "text": [
        "\n",
        "Scraping https://www.govtrack.us/data/congress/113/votes/2014/h1/"
       ]
      },
      {
       "output_type": "stream",
       "stream": "stdout",
       "text": [
        "\n",
        "Scraping https://www.govtrack.us/data/congress/113/votes/2014/h10/"
       ]
      },
      {
       "output_type": "stream",
       "stream": "stdout",
       "text": [
        "\n",
        "Scraping https://www.govtrack.us/data/congress/113/votes/2014/h100/"
       ]
      },
      {
       "output_type": "stream",
       "stream": "stdout",
       "text": [
        "\n",
        "Scraping https://www.govtrack.us/data/congress/113/votes/2014/h101/"
       ]
      },
      {
       "output_type": "stream",
       "stream": "stdout",
       "text": [
        "\n",
        "Scraping https://www.govtrack.us/data/congress/113/votes/2014/h102/"
       ]
      },
      {
       "output_type": "stream",
       "stream": "stdout",
       "text": [
        "\n",
        "Scraping https://www.govtrack.us/data/congress/113/votes/2014/h103/"
       ]
      },
      {
       "output_type": "stream",
       "stream": "stdout",
       "text": [
        "\n",
        "Scraping https://www.govtrack.us/data/congress/113/votes/2014/h104/"
       ]
      },
      {
       "output_type": "stream",
       "stream": "stdout",
       "text": [
        "\n",
        "Scraping https://www.govtrack.us/data/congress/113/votes/2014/h105/"
       ]
      },
      {
       "output_type": "stream",
       "stream": "stdout",
       "text": [
        "\n",
        "Scraping https://www.govtrack.us/data/congress/113/votes/2014/h106/"
       ]
      },
      {
       "output_type": "stream",
       "stream": "stdout",
       "text": [
        "\n",
        "Scraping https://www.govtrack.us/data/congress/113/votes/2014/h107/"
       ]
      },
      {
       "output_type": "stream",
       "stream": "stdout",
       "text": [
        "\n",
        "Scraping https://www.govtrack.us/data/congress/113/votes/2014/h108/"
       ]
      },
      {
       "output_type": "stream",
       "stream": "stdout",
       "text": [
        "\n",
        "Scraping https://www.govtrack.us/data/congress/113/votes/2014/h109/"
       ]
      },
      {
       "output_type": "stream",
       "stream": "stdout",
       "text": [
        "\n",
        "Scraping https://www.govtrack.us/data/congress/113/votes/2014/h11/"
       ]
      },
      {
       "output_type": "stream",
       "stream": "stdout",
       "text": [
        "\n",
        "Scraping https://www.govtrack.us/data/congress/113/votes/2014/h110/"
       ]
      },
      {
       "output_type": "stream",
       "stream": "stdout",
       "text": [
        "\n",
        "Scraping https://www.govtrack.us/data/congress/113/votes/2014/h111/"
       ]
      },
      {
       "output_type": "stream",
       "stream": "stdout",
       "text": [
        "\n",
        "Scraping https://www.govtrack.us/data/congress/113/votes/2014/h112/"
       ]
      },
      {
       "output_type": "stream",
       "stream": "stdout",
       "text": [
        "\n",
        "Scraping https://www.govtrack.us/data/congress/113/votes/2014/h113/"
       ]
      },
      {
       "output_type": "stream",
       "stream": "stdout",
       "text": [
        "\n",
        "Scraping https://www.govtrack.us/data/congress/113/votes/2014/h114/"
       ]
      },
      {
       "output_type": "stream",
       "stream": "stdout",
       "text": [
        "\n",
        "Scraping https://www.govtrack.us/data/congress/113/votes/2014/h115/"
       ]
      },
      {
       "output_type": "stream",
       "stream": "stdout",
       "text": [
        "\n",
        "Scraping https://www.govtrack.us/data/congress/113/votes/2014/h116/"
       ]
      },
      {
       "output_type": "stream",
       "stream": "stdout",
       "text": [
        "\n",
        "Scraping https://www.govtrack.us/data/congress/113/votes/2014/h117/"
       ]
      },
      {
       "output_type": "stream",
       "stream": "stdout",
       "text": [
        "\n",
        "Scraping https://www.govtrack.us/data/congress/113/votes/2014/h118/"
       ]
      },
      {
       "output_type": "stream",
       "stream": "stdout",
       "text": [
        "\n",
        "Scraping https://www.govtrack.us/data/congress/113/votes/2014/h119/"
       ]
      },
      {
       "output_type": "stream",
       "stream": "stdout",
       "text": [
        "\n",
        "Scraping https://www.govtrack.us/data/congress/113/votes/2014/h12/"
       ]
      },
      {
       "output_type": "stream",
       "stream": "stdout",
       "text": [
        "\n",
        "Scraping https://www.govtrack.us/data/congress/113/votes/2014/h120/"
       ]
      },
      {
       "output_type": "stream",
       "stream": "stdout",
       "text": [
        "\n",
        "Scraping https://www.govtrack.us/data/congress/113/votes/2014/h121/"
       ]
      },
      {
       "output_type": "stream",
       "stream": "stdout",
       "text": [
        "\n",
        "Scraping https://www.govtrack.us/data/congress/113/votes/2014/h122/"
       ]
      },
      {
       "output_type": "stream",
       "stream": "stdout",
       "text": [
        "\n",
        "Scraping https://www.govtrack.us/data/congress/113/votes/2014/h123/"
       ]
      },
      {
       "output_type": "stream",
       "stream": "stdout",
       "text": [
        "\n",
        "Scraping https://www.govtrack.us/data/congress/113/votes/2014/h124/"
       ]
      },
      {
       "output_type": "stream",
       "stream": "stdout",
       "text": [
        "\n",
        "Scraping https://www.govtrack.us/data/congress/113/votes/2014/h125/"
       ]
      },
      {
       "output_type": "stream",
       "stream": "stdout",
       "text": [
        "\n",
        "Scraping https://www.govtrack.us/data/congress/113/votes/2014/h126/"
       ]
      },
      {
       "output_type": "stream",
       "stream": "stdout",
       "text": [
        "\n",
        "Scraping https://www.govtrack.us/data/congress/113/votes/2014/h127/"
       ]
      },
      {
       "output_type": "stream",
       "stream": "stdout",
       "text": [
        "\n",
        "Scraping https://www.govtrack.us/data/congress/113/votes/2014/h128/"
       ]
      },
      {
       "output_type": "stream",
       "stream": "stdout",
       "text": [
        "\n",
        "Scraping https://www.govtrack.us/data/congress/113/votes/2014/h129/"
       ]
      },
      {
       "output_type": "stream",
       "stream": "stdout",
       "text": [
        "\n",
        "Scraping https://www.govtrack.us/data/congress/113/votes/2014/h13/"
       ]
      },
      {
       "output_type": "stream",
       "stream": "stdout",
       "text": [
        "\n",
        "Scraping https://www.govtrack.us/data/congress/113/votes/2014/h130/"
       ]
      },
      {
       "output_type": "stream",
       "stream": "stdout",
       "text": [
        "\n",
        "Scraping https://www.govtrack.us/data/congress/113/votes/2014/h131/"
       ]
      },
      {
       "output_type": "stream",
       "stream": "stdout",
       "text": [
        "\n",
        "Scraping https://www.govtrack.us/data/congress/113/votes/2014/h132/"
       ]
      },
      {
       "output_type": "stream",
       "stream": "stdout",
       "text": [
        "\n",
        "Scraping https://www.govtrack.us/data/congress/113/votes/2014/h133/"
       ]
      },
      {
       "output_type": "stream",
       "stream": "stdout",
       "text": [
        "\n",
        "Scraping https://www.govtrack.us/data/congress/113/votes/2014/h134/"
       ]
      },
      {
       "output_type": "stream",
       "stream": "stdout",
       "text": [
        "\n",
        "Scraping https://www.govtrack.us/data/congress/113/votes/2014/h135/"
       ]
      },
      {
       "output_type": "stream",
       "stream": "stdout",
       "text": [
        "\n",
        "Scraping https://www.govtrack.us/data/congress/113/votes/2014/h136/"
       ]
      },
      {
       "output_type": "stream",
       "stream": "stdout",
       "text": [
        "\n",
        "Scraping https://www.govtrack.us/data/congress/113/votes/2014/h137/"
       ]
      },
      {
       "output_type": "stream",
       "stream": "stdout",
       "text": [
        "\n",
        "Scraping https://www.govtrack.us/data/congress/113/votes/2014/h138/"
       ]
      },
      {
       "output_type": "stream",
       "stream": "stdout",
       "text": [
        "\n",
        "Scraping https://www.govtrack.us/data/congress/113/votes/2014/h139/"
       ]
      },
      {
       "output_type": "stream",
       "stream": "stdout",
       "text": [
        "\n",
        "Scraping https://www.govtrack.us/data/congress/113/votes/2014/h14/"
       ]
      },
      {
       "output_type": "stream",
       "stream": "stdout",
       "text": [
        "\n",
        "Scraping https://www.govtrack.us/data/congress/113/votes/2014/h140/"
       ]
      },
      {
       "output_type": "stream",
       "stream": "stdout",
       "text": [
        "\n",
        "Scraping https://www.govtrack.us/data/congress/113/votes/2014/h141/"
       ]
      },
      {
       "output_type": "stream",
       "stream": "stdout",
       "text": [
        "\n",
        "Scraping https://www.govtrack.us/data/congress/113/votes/2014/h142/"
       ]
      },
      {
       "output_type": "stream",
       "stream": "stdout",
       "text": [
        "\n",
        "Scraping https://www.govtrack.us/data/congress/113/votes/2014/h143/"
       ]
      },
      {
       "output_type": "stream",
       "stream": "stdout",
       "text": [
        "\n",
        "Scraping https://www.govtrack.us/data/congress/113/votes/2014/h144/"
       ]
      },
      {
       "output_type": "stream",
       "stream": "stdout",
       "text": [
        "\n",
        "Scraping https://www.govtrack.us/data/congress/113/votes/2014/h145/"
       ]
      },
      {
       "output_type": "stream",
       "stream": "stdout",
       "text": [
        "\n",
        "Scraping https://www.govtrack.us/data/congress/113/votes/2014/h146/"
       ]
      },
      {
       "output_type": "stream",
       "stream": "stdout",
       "text": [
        "\n",
        "Scraping https://www.govtrack.us/data/congress/113/votes/2014/h147/"
       ]
      },
      {
       "output_type": "stream",
       "stream": "stdout",
       "text": [
        "\n",
        "Scraping https://www.govtrack.us/data/congress/113/votes/2014/h148/"
       ]
      },
      {
       "output_type": "stream",
       "stream": "stdout",
       "text": [
        "\n",
        "Scraping https://www.govtrack.us/data/congress/113/votes/2014/h149/"
       ]
      },
      {
       "output_type": "stream",
       "stream": "stdout",
       "text": [
        "\n",
        "Scraping https://www.govtrack.us/data/congress/113/votes/2014/h15/"
       ]
      },
      {
       "output_type": "stream",
       "stream": "stdout",
       "text": [
        "\n",
        "Scraping https://www.govtrack.us/data/congress/113/votes/2014/h150/"
       ]
      },
      {
       "output_type": "stream",
       "stream": "stdout",
       "text": [
        "\n",
        "Scraping https://www.govtrack.us/data/congress/113/votes/2014/h151/"
       ]
      },
      {
       "output_type": "stream",
       "stream": "stdout",
       "text": [
        "\n",
        "Scraping https://www.govtrack.us/data/congress/113/votes/2014/h152/"
       ]
      },
      {
       "output_type": "stream",
       "stream": "stdout",
       "text": [
        "\n",
        "Scraping https://www.govtrack.us/data/congress/113/votes/2014/h153/"
       ]
      },
      {
       "output_type": "stream",
       "stream": "stdout",
       "text": [
        "\n",
        "Scraping https://www.govtrack.us/data/congress/113/votes/2014/h154/"
       ]
      },
      {
       "output_type": "stream",
       "stream": "stdout",
       "text": [
        "\n",
        "Scraping https://www.govtrack.us/data/congress/113/votes/2014/h155/"
       ]
      },
      {
       "output_type": "stream",
       "stream": "stdout",
       "text": [
        "\n",
        "Scraping https://www.govtrack.us/data/congress/113/votes/2014/h156/"
       ]
      },
      {
       "output_type": "stream",
       "stream": "stdout",
       "text": [
        "\n",
        "Scraping https://www.govtrack.us/data/congress/113/votes/2014/h157/"
       ]
      },
      {
       "output_type": "stream",
       "stream": "stdout",
       "text": [
        "\n",
        "Scraping https://www.govtrack.us/data/congress/113/votes/2014/h158/"
       ]
      },
      {
       "output_type": "stream",
       "stream": "stdout",
       "text": [
        "\n",
        "Scraping https://www.govtrack.us/data/congress/113/votes/2014/h159/"
       ]
      },
      {
       "output_type": "stream",
       "stream": "stdout",
       "text": [
        "\n",
        "Scraping https://www.govtrack.us/data/congress/113/votes/2014/h16/"
       ]
      },
      {
       "output_type": "stream",
       "stream": "stdout",
       "text": [
        "\n",
        "Scraping https://www.govtrack.us/data/congress/113/votes/2014/h160/"
       ]
      },
      {
       "output_type": "stream",
       "stream": "stdout",
       "text": [
        "\n",
        "Scraping https://www.govtrack.us/data/congress/113/votes/2014/h161/"
       ]
      },
      {
       "output_type": "stream",
       "stream": "stdout",
       "text": [
        "\n",
        "Scraping https://www.govtrack.us/data/congress/113/votes/2014/h162/"
       ]
      },
      {
       "output_type": "stream",
       "stream": "stdout",
       "text": [
        "\n",
        "Scraping https://www.govtrack.us/data/congress/113/votes/2014/h163/"
       ]
      },
      {
       "output_type": "stream",
       "stream": "stdout",
       "text": [
        "\n",
        "Scraping https://www.govtrack.us/data/congress/113/votes/2014/h164/"
       ]
      },
      {
       "output_type": "stream",
       "stream": "stdout",
       "text": [
        "\n",
        "Scraping https://www.govtrack.us/data/congress/113/votes/2014/h165/"
       ]
      },
      {
       "output_type": "stream",
       "stream": "stdout",
       "text": [
        "\n",
        "Scraping https://www.govtrack.us/data/congress/113/votes/2014/h166/"
       ]
      },
      {
       "output_type": "stream",
       "stream": "stdout",
       "text": [
        "\n",
        "Scraping https://www.govtrack.us/data/congress/113/votes/2014/h167/"
       ]
      },
      {
       "output_type": "stream",
       "stream": "stdout",
       "text": [
        "\n",
        "Scraping https://www.govtrack.us/data/congress/113/votes/2014/h168/"
       ]
      },
      {
       "output_type": "stream",
       "stream": "stdout",
       "text": [
        "\n",
        "Scraping https://www.govtrack.us/data/congress/113/votes/2014/h169/"
       ]
      },
      {
       "output_type": "stream",
       "stream": "stdout",
       "text": [
        "\n",
        "Scraping https://www.govtrack.us/data/congress/113/votes/2014/h17/"
       ]
      },
      {
       "output_type": "stream",
       "stream": "stdout",
       "text": [
        "\n",
        "Scraping https://www.govtrack.us/data/congress/113/votes/2014/h170/"
       ]
      },
      {
       "output_type": "stream",
       "stream": "stdout",
       "text": [
        "\n",
        "Scraping https://www.govtrack.us/data/congress/113/votes/2014/h171/"
       ]
      },
      {
       "output_type": "stream",
       "stream": "stdout",
       "text": [
        "\n",
        "Scraping https://www.govtrack.us/data/congress/113/votes/2014/h172/"
       ]
      },
      {
       "output_type": "stream",
       "stream": "stdout",
       "text": [
        "\n",
        "Scraping https://www.govtrack.us/data/congress/113/votes/2014/h173/"
       ]
      },
      {
       "output_type": "stream",
       "stream": "stdout",
       "text": [
        "\n",
        "Scraping https://www.govtrack.us/data/congress/113/votes/2014/h174/"
       ]
      },
      {
       "output_type": "stream",
       "stream": "stdout",
       "text": [
        "\n",
        "Scraping https://www.govtrack.us/data/congress/113/votes/2014/h175/"
       ]
      },
      {
       "output_type": "stream",
       "stream": "stdout",
       "text": [
        "\n",
        "Scraping https://www.govtrack.us/data/congress/113/votes/2014/h176/"
       ]
      },
      {
       "output_type": "stream",
       "stream": "stdout",
       "text": [
        "\n",
        "Scraping https://www.govtrack.us/data/congress/113/votes/2014/h177/"
       ]
      },
      {
       "output_type": "stream",
       "stream": "stdout",
       "text": [
        "\n",
        "Scraping https://www.govtrack.us/data/congress/113/votes/2014/h178/"
       ]
      },
      {
       "output_type": "stream",
       "stream": "stdout",
       "text": [
        "\n",
        "Scraping https://www.govtrack.us/data/congress/113/votes/2014/h179/"
       ]
      },
      {
       "output_type": "stream",
       "stream": "stdout",
       "text": [
        "\n",
        "Scraping https://www.govtrack.us/data/congress/113/votes/2014/h18/"
       ]
      },
      {
       "output_type": "stream",
       "stream": "stdout",
       "text": [
        "\n",
        "Scraping https://www.govtrack.us/data/congress/113/votes/2014/h180/"
       ]
      },
      {
       "output_type": "stream",
       "stream": "stdout",
       "text": [
        "\n",
        "Scraping https://www.govtrack.us/data/congress/113/votes/2014/h181/"
       ]
      },
      {
       "output_type": "stream",
       "stream": "stdout",
       "text": [
        "\n",
        "Scraping https://www.govtrack.us/data/congress/113/votes/2014/h182/"
       ]
      },
      {
       "output_type": "stream",
       "stream": "stdout",
       "text": [
        "\n",
        "Scraping https://www.govtrack.us/data/congress/113/votes/2014/h183/"
       ]
      },
      {
       "output_type": "stream",
       "stream": "stdout",
       "text": [
        "\n",
        "Scraping https://www.govtrack.us/data/congress/113/votes/2014/h184/"
       ]
      },
      {
       "output_type": "stream",
       "stream": "stdout",
       "text": [
        "\n",
        "Scraping https://www.govtrack.us/data/congress/113/votes/2014/h185/"
       ]
      },
      {
       "output_type": "stream",
       "stream": "stdout",
       "text": [
        "\n",
        "Scraping https://www.govtrack.us/data/congress/113/votes/2014/h186/"
       ]
      },
      {
       "output_type": "stream",
       "stream": "stdout",
       "text": [
        "\n",
        "Scraping https://www.govtrack.us/data/congress/113/votes/2014/h187/"
       ]
      },
      {
       "output_type": "stream",
       "stream": "stdout",
       "text": [
        "\n",
        "Scraping https://www.govtrack.us/data/congress/113/votes/2014/h188/"
       ]
      },
      {
       "output_type": "stream",
       "stream": "stdout",
       "text": [
        "\n",
        "Scraping https://www.govtrack.us/data/congress/113/votes/2014/h189/"
       ]
      },
      {
       "output_type": "stream",
       "stream": "stdout",
       "text": [
        "\n",
        "Scraping https://www.govtrack.us/data/congress/113/votes/2014/h19/"
       ]
      },
      {
       "output_type": "stream",
       "stream": "stdout",
       "text": [
        "\n",
        "Scraping https://www.govtrack.us/data/congress/113/votes/2014/h190/"
       ]
      },
      {
       "output_type": "stream",
       "stream": "stdout",
       "text": [
        "\n",
        "Scraping https://www.govtrack.us/data/congress/113/votes/2014/h191/"
       ]
      },
      {
       "output_type": "stream",
       "stream": "stdout",
       "text": [
        "\n",
        "Scraping https://www.govtrack.us/data/congress/113/votes/2014/h192/"
       ]
      },
      {
       "output_type": "stream",
       "stream": "stdout",
       "text": [
        "\n",
        "Scraping https://www.govtrack.us/data/congress/113/votes/2014/h193/"
       ]
      },
      {
       "output_type": "stream",
       "stream": "stdout",
       "text": [
        "\n",
        "Scraping https://www.govtrack.us/data/congress/113/votes/2014/h194/"
       ]
      },
      {
       "output_type": "stream",
       "stream": "stdout",
       "text": [
        "\n",
        "Scraping https://www.govtrack.us/data/congress/113/votes/2014/h195/"
       ]
      },
      {
       "output_type": "stream",
       "stream": "stdout",
       "text": [
        "\n",
        "Scraping https://www.govtrack.us/data/congress/113/votes/2014/h196/"
       ]
      },
      {
       "output_type": "stream",
       "stream": "stdout",
       "text": [
        "\n",
        "Scraping https://www.govtrack.us/data/congress/113/votes/2014/h197/"
       ]
      },
      {
       "output_type": "stream",
       "stream": "stdout",
       "text": [
        "\n",
        "Scraping https://www.govtrack.us/data/congress/113/votes/2014/h198/"
       ]
      },
      {
       "output_type": "stream",
       "stream": "stdout",
       "text": [
        "\n",
        "Scraping https://www.govtrack.us/data/congress/113/votes/2014/h199/"
       ]
      },
      {
       "output_type": "stream",
       "stream": "stdout",
       "text": [
        "\n",
        "Scraping https://www.govtrack.us/data/congress/113/votes/2014/h2/"
       ]
      },
      {
       "output_type": "stream",
       "stream": "stdout",
       "text": [
        "\n",
        "Scraping https://www.govtrack.us/data/congress/113/votes/2014/h20/"
       ]
      },
      {
       "output_type": "stream",
       "stream": "stdout",
       "text": [
        "\n",
        "Scraping https://www.govtrack.us/data/congress/113/votes/2014/h200/"
       ]
      },
      {
       "output_type": "stream",
       "stream": "stdout",
       "text": [
        "\n",
        "Scraping https://www.govtrack.us/data/congress/113/votes/2014/h201/"
       ]
      },
      {
       "output_type": "stream",
       "stream": "stdout",
       "text": [
        "\n",
        "Scraping https://www.govtrack.us/data/congress/113/votes/2014/h202/"
       ]
      },
      {
       "output_type": "stream",
       "stream": "stdout",
       "text": [
        "\n",
        "Scraping https://www.govtrack.us/data/congress/113/votes/2014/h203/"
       ]
      },
      {
       "output_type": "stream",
       "stream": "stdout",
       "text": [
        "\n",
        "Scraping https://www.govtrack.us/data/congress/113/votes/2014/h204/"
       ]
      },
      {
       "output_type": "stream",
       "stream": "stdout",
       "text": [
        "\n",
        "Scraping https://www.govtrack.us/data/congress/113/votes/2014/h205/"
       ]
      },
      {
       "output_type": "stream",
       "stream": "stdout",
       "text": [
        "\n",
        "Scraping https://www.govtrack.us/data/congress/113/votes/2014/h206/"
       ]
      },
      {
       "output_type": "stream",
       "stream": "stdout",
       "text": [
        "\n",
        "Scraping https://www.govtrack.us/data/congress/113/votes/2014/h207/"
       ]
      },
      {
       "output_type": "stream",
       "stream": "stdout",
       "text": [
        "\n",
        "Scraping https://www.govtrack.us/data/congress/113/votes/2014/h208/"
       ]
      },
      {
       "output_type": "stream",
       "stream": "stdout",
       "text": [
        "\n",
        "Scraping https://www.govtrack.us/data/congress/113/votes/2014/h209/"
       ]
      },
      {
       "output_type": "stream",
       "stream": "stdout",
       "text": [
        "\n",
        "Scraping https://www.govtrack.us/data/congress/113/votes/2014/h21/"
       ]
      },
      {
       "output_type": "stream",
       "stream": "stdout",
       "text": [
        "\n",
        "Scraping https://www.govtrack.us/data/congress/113/votes/2014/h210/"
       ]
      },
      {
       "output_type": "stream",
       "stream": "stdout",
       "text": [
        "\n",
        "Scraping https://www.govtrack.us/data/congress/113/votes/2014/h211/"
       ]
      },
      {
       "output_type": "stream",
       "stream": "stdout",
       "text": [
        "\n",
        "Scraping https://www.govtrack.us/data/congress/113/votes/2014/h212/"
       ]
      },
      {
       "output_type": "stream",
       "stream": "stdout",
       "text": [
        "\n",
        "Scraping https://www.govtrack.us/data/congress/113/votes/2014/h213/"
       ]
      },
      {
       "output_type": "stream",
       "stream": "stdout",
       "text": [
        "\n",
        "Scraping https://www.govtrack.us/data/congress/113/votes/2014/h214/"
       ]
      },
      {
       "output_type": "stream",
       "stream": "stdout",
       "text": [
        "\n",
        "Scraping https://www.govtrack.us/data/congress/113/votes/2014/h215/"
       ]
      },
      {
       "output_type": "stream",
       "stream": "stdout",
       "text": [
        "\n",
        "Scraping https://www.govtrack.us/data/congress/113/votes/2014/h216/"
       ]
      },
      {
       "output_type": "stream",
       "stream": "stdout",
       "text": [
        "\n",
        "Scraping https://www.govtrack.us/data/congress/113/votes/2014/h217/"
       ]
      },
      {
       "output_type": "stream",
       "stream": "stdout",
       "text": [
        "\n",
        "Scraping https://www.govtrack.us/data/congress/113/votes/2014/h218/"
       ]
      },
      {
       "output_type": "stream",
       "stream": "stdout",
       "text": [
        "\n",
        "Scraping https://www.govtrack.us/data/congress/113/votes/2014/h219/"
       ]
      },
      {
       "output_type": "stream",
       "stream": "stdout",
       "text": [
        "\n",
        "Scraping https://www.govtrack.us/data/congress/113/votes/2014/h22/"
       ]
      },
      {
       "output_type": "stream",
       "stream": "stdout",
       "text": [
        "\n",
        "Scraping https://www.govtrack.us/data/congress/113/votes/2014/h220/"
       ]
      },
      {
       "output_type": "stream",
       "stream": "stdout",
       "text": [
        "\n",
        "Scraping https://www.govtrack.us/data/congress/113/votes/2014/h221/"
       ]
      },
      {
       "output_type": "stream",
       "stream": "stdout",
       "text": [
        "\n",
        "Scraping https://www.govtrack.us/data/congress/113/votes/2014/h222/"
       ]
      },
      {
       "output_type": "stream",
       "stream": "stdout",
       "text": [
        "\n",
        "Scraping https://www.govtrack.us/data/congress/113/votes/2014/h223/"
       ]
      },
      {
       "output_type": "stream",
       "stream": "stdout",
       "text": [
        "\n",
        "Scraping https://www.govtrack.us/data/congress/113/votes/2014/h224/"
       ]
      },
      {
       "output_type": "stream",
       "stream": "stdout",
       "text": [
        "\n",
        "Scraping https://www.govtrack.us/data/congress/113/votes/2014/h225/"
       ]
      },
      {
       "output_type": "stream",
       "stream": "stdout",
       "text": [
        "\n",
        "Scraping https://www.govtrack.us/data/congress/113/votes/2014/h226/"
       ]
      },
      {
       "output_type": "stream",
       "stream": "stdout",
       "text": [
        "\n",
        "Scraping https://www.govtrack.us/data/congress/113/votes/2014/h227/"
       ]
      },
      {
       "output_type": "stream",
       "stream": "stdout",
       "text": [
        "\n",
        "Scraping https://www.govtrack.us/data/congress/113/votes/2014/h228/"
       ]
      },
      {
       "output_type": "stream",
       "stream": "stdout",
       "text": [
        "\n",
        "Scraping https://www.govtrack.us/data/congress/113/votes/2014/h229/"
       ]
      },
      {
       "output_type": "stream",
       "stream": "stdout",
       "text": [
        "\n",
        "Scraping https://www.govtrack.us/data/congress/113/votes/2014/h23/"
       ]
      },
      {
       "output_type": "stream",
       "stream": "stdout",
       "text": [
        "\n",
        "Scraping https://www.govtrack.us/data/congress/113/votes/2014/h230/"
       ]
      },
      {
       "output_type": "stream",
       "stream": "stdout",
       "text": [
        "\n",
        "Scraping https://www.govtrack.us/data/congress/113/votes/2014/h231/"
       ]
      },
      {
       "output_type": "stream",
       "stream": "stdout",
       "text": [
        "\n",
        "Scraping https://www.govtrack.us/data/congress/113/votes/2014/h232/"
       ]
      },
      {
       "output_type": "stream",
       "stream": "stdout",
       "text": [
        "\n",
        "Scraping https://www.govtrack.us/data/congress/113/votes/2014/h233/"
       ]
      },
      {
       "output_type": "stream",
       "stream": "stdout",
       "text": [
        "\n",
        "Scraping https://www.govtrack.us/data/congress/113/votes/2014/h234/"
       ]
      },
      {
       "output_type": "stream",
       "stream": "stdout",
       "text": [
        "\n",
        "Scraping https://www.govtrack.us/data/congress/113/votes/2014/h235/"
       ]
      },
      {
       "output_type": "stream",
       "stream": "stdout",
       "text": [
        "\n",
        "Scraping https://www.govtrack.us/data/congress/113/votes/2014/h236/"
       ]
      },
      {
       "output_type": "stream",
       "stream": "stdout",
       "text": [
        "\n",
        "Scraping https://www.govtrack.us/data/congress/113/votes/2014/h237/"
       ]
      },
      {
       "output_type": "stream",
       "stream": "stdout",
       "text": [
        "\n",
        "Scraping https://www.govtrack.us/data/congress/113/votes/2014/h238/"
       ]
      },
      {
       "output_type": "stream",
       "stream": "stdout",
       "text": [
        "\n",
        "Scraping https://www.govtrack.us/data/congress/113/votes/2014/h239/"
       ]
      },
      {
       "output_type": "stream",
       "stream": "stdout",
       "text": [
        "\n",
        "Scraping https://www.govtrack.us/data/congress/113/votes/2014/h24/"
       ]
      },
      {
       "output_type": "stream",
       "stream": "stdout",
       "text": [
        "\n",
        "Scraping https://www.govtrack.us/data/congress/113/votes/2014/h240/"
       ]
      },
      {
       "output_type": "stream",
       "stream": "stdout",
       "text": [
        "\n",
        "Scraping https://www.govtrack.us/data/congress/113/votes/2014/h241/"
       ]
      },
      {
       "output_type": "stream",
       "stream": "stdout",
       "text": [
        "\n",
        "Scraping https://www.govtrack.us/data/congress/113/votes/2014/h242/"
       ]
      },
      {
       "output_type": "stream",
       "stream": "stdout",
       "text": [
        "\n",
        "Scraping https://www.govtrack.us/data/congress/113/votes/2014/h243/"
       ]
      },
      {
       "output_type": "stream",
       "stream": "stdout",
       "text": [
        "\n",
        "Scraping https://www.govtrack.us/data/congress/113/votes/2014/h244/"
       ]
      },
      {
       "output_type": "stream",
       "stream": "stdout",
       "text": [
        "\n",
        "Scraping https://www.govtrack.us/data/congress/113/votes/2014/h245/"
       ]
      },
      {
       "output_type": "stream",
       "stream": "stdout",
       "text": [
        "\n",
        "Scraping https://www.govtrack.us/data/congress/113/votes/2014/h246/"
       ]
      },
      {
       "output_type": "stream",
       "stream": "stdout",
       "text": [
        "\n",
        "Scraping https://www.govtrack.us/data/congress/113/votes/2014/h247/"
       ]
      },
      {
       "output_type": "stream",
       "stream": "stdout",
       "text": [
        "\n",
        "Scraping https://www.govtrack.us/data/congress/113/votes/2014/h248/"
       ]
      },
      {
       "output_type": "stream",
       "stream": "stdout",
       "text": [
        "\n",
        "Scraping https://www.govtrack.us/data/congress/113/votes/2014/h249/"
       ]
      },
      {
       "output_type": "stream",
       "stream": "stdout",
       "text": [
        "\n",
        "Scraping https://www.govtrack.us/data/congress/113/votes/2014/h25/"
       ]
      },
      {
       "output_type": "stream",
       "stream": "stdout",
       "text": [
        "\n",
        "Scraping https://www.govtrack.us/data/congress/113/votes/2014/h250/"
       ]
      },
      {
       "output_type": "stream",
       "stream": "stdout",
       "text": [
        "\n",
        "Scraping https://www.govtrack.us/data/congress/113/votes/2014/h251/"
       ]
      },
      {
       "output_type": "stream",
       "stream": "stdout",
       "text": [
        "\n",
        "Scraping https://www.govtrack.us/data/congress/113/votes/2014/h252/"
       ]
      },
      {
       "output_type": "stream",
       "stream": "stdout",
       "text": [
        "\n",
        "Scraping https://www.govtrack.us/data/congress/113/votes/2014/h253/"
       ]
      },
      {
       "output_type": "stream",
       "stream": "stdout",
       "text": [
        "\n",
        "Scraping https://www.govtrack.us/data/congress/113/votes/2014/h254/"
       ]
      },
      {
       "output_type": "stream",
       "stream": "stdout",
       "text": [
        "\n",
        "Scraping https://www.govtrack.us/data/congress/113/votes/2014/h255/"
       ]
      },
      {
       "output_type": "stream",
       "stream": "stdout",
       "text": [
        "\n",
        "Scraping https://www.govtrack.us/data/congress/113/votes/2014/h256/"
       ]
      },
      {
       "output_type": "stream",
       "stream": "stdout",
       "text": [
        "\n",
        "Scraping https://www.govtrack.us/data/congress/113/votes/2014/h257/"
       ]
      },
      {
       "output_type": "stream",
       "stream": "stdout",
       "text": [
        "\n",
        "Scraping https://www.govtrack.us/data/congress/113/votes/2014/h258/"
       ]
      },
      {
       "output_type": "stream",
       "stream": "stdout",
       "text": [
        "\n",
        "Scraping https://www.govtrack.us/data/congress/113/votes/2014/h259/"
       ]
      },
      {
       "output_type": "stream",
       "stream": "stdout",
       "text": [
        "\n",
        "Scraping https://www.govtrack.us/data/congress/113/votes/2014/h26/"
       ]
      },
      {
       "output_type": "stream",
       "stream": "stdout",
       "text": [
        "\n",
        "Scraping https://www.govtrack.us/data/congress/113/votes/2014/h260/"
       ]
      },
      {
       "output_type": "stream",
       "stream": "stdout",
       "text": [
        "\n",
        "Scraping https://www.govtrack.us/data/congress/113/votes/2014/h261/"
       ]
      },
      {
       "output_type": "stream",
       "stream": "stdout",
       "text": [
        "\n",
        "Scraping https://www.govtrack.us/data/congress/113/votes/2014/h262/"
       ]
      },
      {
       "output_type": "stream",
       "stream": "stdout",
       "text": [
        "\n",
        "Scraping https://www.govtrack.us/data/congress/113/votes/2014/h263/"
       ]
      },
      {
       "output_type": "stream",
       "stream": "stdout",
       "text": [
        "\n",
        "Scraping https://www.govtrack.us/data/congress/113/votes/2014/h264/"
       ]
      },
      {
       "output_type": "stream",
       "stream": "stdout",
       "text": [
        "\n",
        "Scraping https://www.govtrack.us/data/congress/113/votes/2014/h265/"
       ]
      },
      {
       "output_type": "stream",
       "stream": "stdout",
       "text": [
        "\n",
        "Scraping https://www.govtrack.us/data/congress/113/votes/2014/h266/"
       ]
      },
      {
       "output_type": "stream",
       "stream": "stdout",
       "text": [
        "\n",
        "Scraping https://www.govtrack.us/data/congress/113/votes/2014/h267/"
       ]
      },
      {
       "output_type": "stream",
       "stream": "stdout",
       "text": [
        "\n",
        "Scraping https://www.govtrack.us/data/congress/113/votes/2014/h268/"
       ]
      },
      {
       "output_type": "stream",
       "stream": "stdout",
       "text": [
        "\n",
        "Scraping https://www.govtrack.us/data/congress/113/votes/2014/h269/"
       ]
      },
      {
       "output_type": "stream",
       "stream": "stdout",
       "text": [
        "\n",
        "Scraping https://www.govtrack.us/data/congress/113/votes/2014/h27/"
       ]
      },
      {
       "output_type": "stream",
       "stream": "stdout",
       "text": [
        "\n",
        "Scraping https://www.govtrack.us/data/congress/113/votes/2014/h270/"
       ]
      },
      {
       "output_type": "stream",
       "stream": "stdout",
       "text": [
        "\n",
        "Scraping https://www.govtrack.us/data/congress/113/votes/2014/h271/"
       ]
      },
      {
       "output_type": "stream",
       "stream": "stdout",
       "text": [
        "\n",
        "Scraping https://www.govtrack.us/data/congress/113/votes/2014/h272/"
       ]
      },
      {
       "output_type": "stream",
       "stream": "stdout",
       "text": [
        "\n",
        "Scraping https://www.govtrack.us/data/congress/113/votes/2014/h273/"
       ]
      },
      {
       "output_type": "stream",
       "stream": "stdout",
       "text": [
        "\n",
        "Scraping https://www.govtrack.us/data/congress/113/votes/2014/h274/"
       ]
      },
      {
       "output_type": "stream",
       "stream": "stdout",
       "text": [
        "\n",
        "Scraping https://www.govtrack.us/data/congress/113/votes/2014/h276/"
       ]
      },
      {
       "output_type": "stream",
       "stream": "stdout",
       "text": [
        "\n",
        "Scraping https://www.govtrack.us/data/congress/113/votes/2014/h277/"
       ]
      },
      {
       "output_type": "stream",
       "stream": "stdout",
       "text": [
        "\n",
        "Scraping https://www.govtrack.us/data/congress/113/votes/2014/h278/"
       ]
      },
      {
       "output_type": "stream",
       "stream": "stdout",
       "text": [
        "\n",
        "Scraping https://www.govtrack.us/data/congress/113/votes/2014/h279/"
       ]
      },
      {
       "output_type": "stream",
       "stream": "stdout",
       "text": [
        "\n",
        "Scraping https://www.govtrack.us/data/congress/113/votes/2014/h28/"
       ]
      },
      {
       "output_type": "stream",
       "stream": "stdout",
       "text": [
        "\n",
        "Scraping https://www.govtrack.us/data/congress/113/votes/2014/h280/"
       ]
      },
      {
       "output_type": "stream",
       "stream": "stdout",
       "text": [
        "\n",
        "Scraping https://www.govtrack.us/data/congress/113/votes/2014/h281/"
       ]
      },
      {
       "output_type": "stream",
       "stream": "stdout",
       "text": [
        "\n",
        "Scraping https://www.govtrack.us/data/congress/113/votes/2014/h282/"
       ]
      },
      {
       "output_type": "stream",
       "stream": "stdout",
       "text": [
        "\n",
        "Scraping https://www.govtrack.us/data/congress/113/votes/2014/h283/"
       ]
      },
      {
       "output_type": "stream",
       "stream": "stdout",
       "text": [
        "\n",
        "Scraping https://www.govtrack.us/data/congress/113/votes/2014/h284/"
       ]
      },
      {
       "output_type": "stream",
       "stream": "stdout",
       "text": [
        "\n",
        "Scraping https://www.govtrack.us/data/congress/113/votes/2014/h285/"
       ]
      },
      {
       "output_type": "stream",
       "stream": "stdout",
       "text": [
        "\n",
        "Scraping https://www.govtrack.us/data/congress/113/votes/2014/h286/"
       ]
      },
      {
       "output_type": "stream",
       "stream": "stdout",
       "text": [
        "\n",
        "Scraping https://www.govtrack.us/data/congress/113/votes/2014/h287/"
       ]
      },
      {
       "output_type": "stream",
       "stream": "stdout",
       "text": [
        "\n",
        "Scraping https://www.govtrack.us/data/congress/113/votes/2014/h288/"
       ]
      },
      {
       "output_type": "stream",
       "stream": "stdout",
       "text": [
        "\n",
        "Scraping https://www.govtrack.us/data/congress/113/votes/2014/h289/"
       ]
      },
      {
       "output_type": "stream",
       "stream": "stdout",
       "text": [
        "\n",
        "Scraping https://www.govtrack.us/data/congress/113/votes/2014/h29/"
       ]
      },
      {
       "output_type": "stream",
       "stream": "stdout",
       "text": [
        "\n",
        "Scraping https://www.govtrack.us/data/congress/113/votes/2014/h290/"
       ]
      },
      {
       "output_type": "stream",
       "stream": "stdout",
       "text": [
        "\n",
        "Scraping https://www.govtrack.us/data/congress/113/votes/2014/h291/"
       ]
      },
      {
       "output_type": "stream",
       "stream": "stdout",
       "text": [
        "\n",
        "Scraping https://www.govtrack.us/data/congress/113/votes/2014/h292/"
       ]
      },
      {
       "output_type": "stream",
       "stream": "stdout",
       "text": [
        "\n",
        "Scraping https://www.govtrack.us/data/congress/113/votes/2014/h293/"
       ]
      },
      {
       "output_type": "stream",
       "stream": "stdout",
       "text": [
        "\n",
        "Scraping https://www.govtrack.us/data/congress/113/votes/2014/h294/"
       ]
      },
      {
       "output_type": "stream",
       "stream": "stdout",
       "text": [
        "\n",
        "Scraping https://www.govtrack.us/data/congress/113/votes/2014/h295/"
       ]
      },
      {
       "output_type": "stream",
       "stream": "stdout",
       "text": [
        "\n",
        "Scraping https://www.govtrack.us/data/congress/113/votes/2014/h296/"
       ]
      },
      {
       "output_type": "stream",
       "stream": "stdout",
       "text": [
        "\n",
        "Scraping https://www.govtrack.us/data/congress/113/votes/2014/h297/"
       ]
      },
      {
       "output_type": "stream",
       "stream": "stdout",
       "text": [
        "\n",
        "Scraping https://www.govtrack.us/data/congress/113/votes/2014/h298/"
       ]
      },
      {
       "output_type": "stream",
       "stream": "stdout",
       "text": [
        "\n",
        "Scraping https://www.govtrack.us/data/congress/113/votes/2014/h299/"
       ]
      },
      {
       "output_type": "stream",
       "stream": "stdout",
       "text": [
        "\n",
        "Scraping https://www.govtrack.us/data/congress/113/votes/2014/h3/"
       ]
      },
      {
       "output_type": "stream",
       "stream": "stdout",
       "text": [
        "\n",
        "Scraping https://www.govtrack.us/data/congress/113/votes/2014/h30/"
       ]
      },
      {
       "output_type": "stream",
       "stream": "stdout",
       "text": [
        "\n",
        "Scraping https://www.govtrack.us/data/congress/113/votes/2014/h300/"
       ]
      },
      {
       "output_type": "stream",
       "stream": "stdout",
       "text": [
        "\n",
        "Scraping https://www.govtrack.us/data/congress/113/votes/2014/h301/"
       ]
      },
      {
       "output_type": "stream",
       "stream": "stdout",
       "text": [
        "\n",
        "Scraping https://www.govtrack.us/data/congress/113/votes/2014/h302/"
       ]
      },
      {
       "output_type": "stream",
       "stream": "stdout",
       "text": [
        "\n",
        "Scraping https://www.govtrack.us/data/congress/113/votes/2014/h303/"
       ]
      },
      {
       "output_type": "stream",
       "stream": "stdout",
       "text": [
        "\n",
        "Scraping https://www.govtrack.us/data/congress/113/votes/2014/h304/"
       ]
      },
      {
       "output_type": "stream",
       "stream": "stdout",
       "text": [
        "\n",
        "Scraping https://www.govtrack.us/data/congress/113/votes/2014/h305/"
       ]
      },
      {
       "output_type": "stream",
       "stream": "stdout",
       "text": [
        "\n",
        "Scraping https://www.govtrack.us/data/congress/113/votes/2014/h306/"
       ]
      },
      {
       "output_type": "stream",
       "stream": "stdout",
       "text": [
        "\n",
        "Scraping https://www.govtrack.us/data/congress/113/votes/2014/h307/"
       ]
      },
      {
       "output_type": "stream",
       "stream": "stdout",
       "text": [
        "\n",
        "Scraping https://www.govtrack.us/data/congress/113/votes/2014/h308/"
       ]
      },
      {
       "output_type": "stream",
       "stream": "stdout",
       "text": [
        "\n",
        "Scraping https://www.govtrack.us/data/congress/113/votes/2014/h309/"
       ]
      },
      {
       "output_type": "stream",
       "stream": "stdout",
       "text": [
        "\n",
        "Scraping https://www.govtrack.us/data/congress/113/votes/2014/h31/"
       ]
      },
      {
       "output_type": "stream",
       "stream": "stdout",
       "text": [
        "\n",
        "Scraping https://www.govtrack.us/data/congress/113/votes/2014/h310/"
       ]
      },
      {
       "output_type": "stream",
       "stream": "stdout",
       "text": [
        "\n",
        "Scraping https://www.govtrack.us/data/congress/113/votes/2014/h311/"
       ]
      },
      {
       "output_type": "stream",
       "stream": "stdout",
       "text": [
        "\n",
        "Scraping https://www.govtrack.us/data/congress/113/votes/2014/h312/"
       ]
      },
      {
       "output_type": "stream",
       "stream": "stdout",
       "text": [
        "\n",
        "Scraping https://www.govtrack.us/data/congress/113/votes/2014/h313/"
       ]
      },
      {
       "output_type": "stream",
       "stream": "stdout",
       "text": [
        "\n",
        "Scraping https://www.govtrack.us/data/congress/113/votes/2014/h314/"
       ]
      },
      {
       "output_type": "stream",
       "stream": "stdout",
       "text": [
        "\n",
        "Scraping https://www.govtrack.us/data/congress/113/votes/2014/h315/"
       ]
      },
      {
       "output_type": "stream",
       "stream": "stdout",
       "text": [
        "\n",
        "Scraping https://www.govtrack.us/data/congress/113/votes/2014/h316/"
       ]
      },
      {
       "output_type": "stream",
       "stream": "stdout",
       "text": [
        "\n",
        "Scraping https://www.govtrack.us/data/congress/113/votes/2014/h317/"
       ]
      },
      {
       "output_type": "stream",
       "stream": "stdout",
       "text": [
        "\n",
        "Scraping https://www.govtrack.us/data/congress/113/votes/2014/h318/"
       ]
      },
      {
       "output_type": "stream",
       "stream": "stdout",
       "text": [
        "\n",
        "Scraping https://www.govtrack.us/data/congress/113/votes/2014/h319/"
       ]
      },
      {
       "output_type": "stream",
       "stream": "stdout",
       "text": [
        "\n",
        "Scraping https://www.govtrack.us/data/congress/113/votes/2014/h32/"
       ]
      },
      {
       "output_type": "stream",
       "stream": "stdout",
       "text": [
        "\n",
        "Scraping https://www.govtrack.us/data/congress/113/votes/2014/h320/"
       ]
      },
      {
       "output_type": "stream",
       "stream": "stdout",
       "text": [
        "\n",
        "Scraping https://www.govtrack.us/data/congress/113/votes/2014/h321/"
       ]
      },
      {
       "output_type": "stream",
       "stream": "stdout",
       "text": [
        "\n",
        "Scraping https://www.govtrack.us/data/congress/113/votes/2014/h322/"
       ]
      },
      {
       "output_type": "stream",
       "stream": "stdout",
       "text": [
        "\n",
        "Scraping https://www.govtrack.us/data/congress/113/votes/2014/h323/"
       ]
      },
      {
       "output_type": "stream",
       "stream": "stdout",
       "text": [
        "\n",
        "Scraping https://www.govtrack.us/data/congress/113/votes/2014/h324/"
       ]
      },
      {
       "output_type": "stream",
       "stream": "stdout",
       "text": [
        "\n",
        "Scraping https://www.govtrack.us/data/congress/113/votes/2014/h325/"
       ]
      },
      {
       "output_type": "stream",
       "stream": "stdout",
       "text": [
        "\n",
        "Scraping https://www.govtrack.us/data/congress/113/votes/2014/h326/"
       ]
      },
      {
       "output_type": "stream",
       "stream": "stdout",
       "text": [
        "\n",
        "Scraping https://www.govtrack.us/data/congress/113/votes/2014/h327/"
       ]
      },
      {
       "output_type": "stream",
       "stream": "stdout",
       "text": [
        "\n",
        "Scraping https://www.govtrack.us/data/congress/113/votes/2014/h328/"
       ]
      },
      {
       "output_type": "stream",
       "stream": "stdout",
       "text": [
        "\n",
        "Scraping https://www.govtrack.us/data/congress/113/votes/2014/h329/"
       ]
      },
      {
       "output_type": "stream",
       "stream": "stdout",
       "text": [
        "\n",
        "Scraping https://www.govtrack.us/data/congress/113/votes/2014/h33/"
       ]
      },
      {
       "output_type": "stream",
       "stream": "stdout",
       "text": [
        "\n",
        "Scraping https://www.govtrack.us/data/congress/113/votes/2014/h330/"
       ]
      },
      {
       "output_type": "stream",
       "stream": "stdout",
       "text": [
        "\n",
        "Scraping https://www.govtrack.us/data/congress/113/votes/2014/h331/"
       ]
      },
      {
       "output_type": "stream",
       "stream": "stdout",
       "text": [
        "\n",
        "Scraping https://www.govtrack.us/data/congress/113/votes/2014/h332/"
       ]
      },
      {
       "output_type": "stream",
       "stream": "stdout",
       "text": [
        "\n",
        "Scraping https://www.govtrack.us/data/congress/113/votes/2014/h333/"
       ]
      },
      {
       "output_type": "stream",
       "stream": "stdout",
       "text": [
        "\n",
        "Scraping https://www.govtrack.us/data/congress/113/votes/2014/h334/"
       ]
      },
      {
       "output_type": "stream",
       "stream": "stdout",
       "text": [
        "\n",
        "Scraping https://www.govtrack.us/data/congress/113/votes/2014/h335/"
       ]
      },
      {
       "output_type": "stream",
       "stream": "stdout",
       "text": [
        "\n",
        "Scraping https://www.govtrack.us/data/congress/113/votes/2014/h336/"
       ]
      },
      {
       "output_type": "stream",
       "stream": "stdout",
       "text": [
        "\n",
        "Scraping https://www.govtrack.us/data/congress/113/votes/2014/h337/"
       ]
      },
      {
       "output_type": "stream",
       "stream": "stdout",
       "text": [
        "\n",
        "Scraping https://www.govtrack.us/data/congress/113/votes/2014/h338/"
       ]
      },
      {
       "output_type": "stream",
       "stream": "stdout",
       "text": [
        "\n",
        "Scraping https://www.govtrack.us/data/congress/113/votes/2014/h339/"
       ]
      },
      {
       "output_type": "stream",
       "stream": "stdout",
       "text": [
        "\n",
        "Scraping https://www.govtrack.us/data/congress/113/votes/2014/h34/"
       ]
      },
      {
       "output_type": "stream",
       "stream": "stdout",
       "text": [
        "\n",
        "Scraping https://www.govtrack.us/data/congress/113/votes/2014/h340/"
       ]
      },
      {
       "output_type": "stream",
       "stream": "stdout",
       "text": [
        "\n",
        "Scraping https://www.govtrack.us/data/congress/113/votes/2014/h341/"
       ]
      },
      {
       "output_type": "stream",
       "stream": "stdout",
       "text": [
        "\n",
        "Scraping https://www.govtrack.us/data/congress/113/votes/2014/h342/"
       ]
      },
      {
       "output_type": "stream",
       "stream": "stdout",
       "text": [
        "\n",
        "Scraping https://www.govtrack.us/data/congress/113/votes/2014/h343/"
       ]
      },
      {
       "output_type": "stream",
       "stream": "stdout",
       "text": [
        "\n",
        "Scraping https://www.govtrack.us/data/congress/113/votes/2014/h344/"
       ]
      },
      {
       "output_type": "stream",
       "stream": "stdout",
       "text": [
        "\n",
        "Scraping https://www.govtrack.us/data/congress/113/votes/2014/h345/"
       ]
      },
      {
       "output_type": "stream",
       "stream": "stdout",
       "text": [
        "\n",
        "Scraping https://www.govtrack.us/data/congress/113/votes/2014/h346/"
       ]
      },
      {
       "output_type": "stream",
       "stream": "stdout",
       "text": [
        "\n",
        "Scraping https://www.govtrack.us/data/congress/113/votes/2014/h347/"
       ]
      },
      {
       "output_type": "stream",
       "stream": "stdout",
       "text": [
        "\n",
        "Scraping https://www.govtrack.us/data/congress/113/votes/2014/h348/"
       ]
      },
      {
       "output_type": "stream",
       "stream": "stdout",
       "text": [
        "\n",
        "Scraping https://www.govtrack.us/data/congress/113/votes/2014/h349/"
       ]
      },
      {
       "output_type": "stream",
       "stream": "stdout",
       "text": [
        "\n",
        "Scraping https://www.govtrack.us/data/congress/113/votes/2014/h35/"
       ]
      },
      {
       "output_type": "stream",
       "stream": "stdout",
       "text": [
        "\n",
        "Scraping https://www.govtrack.us/data/congress/113/votes/2014/h350/"
       ]
      },
      {
       "output_type": "stream",
       "stream": "stdout",
       "text": [
        "\n",
        "Scraping https://www.govtrack.us/data/congress/113/votes/2014/h351/"
       ]
      },
      {
       "output_type": "stream",
       "stream": "stdout",
       "text": [
        "\n",
        "Scraping https://www.govtrack.us/data/congress/113/votes/2014/h352/"
       ]
      },
      {
       "output_type": "stream",
       "stream": "stdout",
       "text": [
        "\n",
        "Scraping https://www.govtrack.us/data/congress/113/votes/2014/h353/"
       ]
      },
      {
       "output_type": "stream",
       "stream": "stdout",
       "text": [
        "\n",
        "Scraping https://www.govtrack.us/data/congress/113/votes/2014/h354/"
       ]
      },
      {
       "output_type": "stream",
       "stream": "stdout",
       "text": [
        "\n",
        "Scraping https://www.govtrack.us/data/congress/113/votes/2014/h355/"
       ]
      },
      {
       "output_type": "stream",
       "stream": "stdout",
       "text": [
        "\n",
        "Scraping https://www.govtrack.us/data/congress/113/votes/2014/h356/"
       ]
      },
      {
       "output_type": "stream",
       "stream": "stdout",
       "text": [
        "\n",
        "Scraping https://www.govtrack.us/data/congress/113/votes/2014/h357/"
       ]
      },
      {
       "output_type": "stream",
       "stream": "stdout",
       "text": [
        "\n",
        "Scraping https://www.govtrack.us/data/congress/113/votes/2014/h358/"
       ]
      },
      {
       "output_type": "stream",
       "stream": "stdout",
       "text": [
        "\n",
        "Scraping https://www.govtrack.us/data/congress/113/votes/2014/h359/"
       ]
      },
      {
       "output_type": "stream",
       "stream": "stdout",
       "text": [
        "\n",
        "Scraping https://www.govtrack.us/data/congress/113/votes/2014/h36/"
       ]
      },
      {
       "output_type": "stream",
       "stream": "stdout",
       "text": [
        "\n",
        "Scraping https://www.govtrack.us/data/congress/113/votes/2014/h360/"
       ]
      },
      {
       "output_type": "stream",
       "stream": "stdout",
       "text": [
        "\n",
        "Scraping https://www.govtrack.us/data/congress/113/votes/2014/h361/"
       ]
      },
      {
       "output_type": "stream",
       "stream": "stdout",
       "text": [
        "\n",
        "Scraping https://www.govtrack.us/data/congress/113/votes/2014/h362/"
       ]
      },
      {
       "output_type": "stream",
       "stream": "stdout",
       "text": [
        "\n",
        "Scraping https://www.govtrack.us/data/congress/113/votes/2014/h363/"
       ]
      },
      {
       "output_type": "stream",
       "stream": "stdout",
       "text": [
        "\n",
        "Scraping https://www.govtrack.us/data/congress/113/votes/2014/h364/"
       ]
      },
      {
       "output_type": "stream",
       "stream": "stdout",
       "text": [
        "\n",
        "Scraping https://www.govtrack.us/data/congress/113/votes/2014/h365/"
       ]
      },
      {
       "output_type": "stream",
       "stream": "stdout",
       "text": [
        "\n",
        "Scraping https://www.govtrack.us/data/congress/113/votes/2014/h366/"
       ]
      },
      {
       "output_type": "stream",
       "stream": "stdout",
       "text": [
        "\n",
        "Scraping https://www.govtrack.us/data/congress/113/votes/2014/h367/"
       ]
      },
      {
       "output_type": "stream",
       "stream": "stdout",
       "text": [
        "\n",
        "Scraping https://www.govtrack.us/data/congress/113/votes/2014/h368/"
       ]
      },
      {
       "output_type": "stream",
       "stream": "stdout",
       "text": [
        "\n",
        "Scraping https://www.govtrack.us/data/congress/113/votes/2014/h369/"
       ]
      },
      {
       "output_type": "stream",
       "stream": "stdout",
       "text": [
        "\n",
        "Scraping https://www.govtrack.us/data/congress/113/votes/2014/h37/"
       ]
      },
      {
       "output_type": "stream",
       "stream": "stdout",
       "text": [
        "\n",
        "Scraping https://www.govtrack.us/data/congress/113/votes/2014/h370/"
       ]
      },
      {
       "output_type": "stream",
       "stream": "stdout",
       "text": [
        "\n",
        "Scraping https://www.govtrack.us/data/congress/113/votes/2014/h371/"
       ]
      },
      {
       "output_type": "stream",
       "stream": "stdout",
       "text": [
        "\n",
        "Scraping https://www.govtrack.us/data/congress/113/votes/2014/h372/"
       ]
      },
      {
       "output_type": "stream",
       "stream": "stdout",
       "text": [
        "\n",
        "Scraping https://www.govtrack.us/data/congress/113/votes/2014/h373/"
       ]
      },
      {
       "output_type": "stream",
       "stream": "stdout",
       "text": [
        "\n",
        "Scraping https://www.govtrack.us/data/congress/113/votes/2014/h374/"
       ]
      },
      {
       "output_type": "stream",
       "stream": "stdout",
       "text": [
        "\n",
        "Scraping https://www.govtrack.us/data/congress/113/votes/2014/h375/"
       ]
      },
      {
       "output_type": "stream",
       "stream": "stdout",
       "text": [
        "\n",
        "Scraping https://www.govtrack.us/data/congress/113/votes/2014/h376/"
       ]
      },
      {
       "output_type": "stream",
       "stream": "stdout",
       "text": [
        "\n",
        "Scraping https://www.govtrack.us/data/congress/113/votes/2014/h377/"
       ]
      },
      {
       "output_type": "stream",
       "stream": "stdout",
       "text": [
        "\n",
        "Scraping https://www.govtrack.us/data/congress/113/votes/2014/h378/"
       ]
      },
      {
       "output_type": "stream",
       "stream": "stdout",
       "text": [
        "\n",
        "Scraping https://www.govtrack.us/data/congress/113/votes/2014/h379/"
       ]
      },
      {
       "output_type": "stream",
       "stream": "stdout",
       "text": [
        "\n",
        "Scraping https://www.govtrack.us/data/congress/113/votes/2014/h38/"
       ]
      },
      {
       "output_type": "stream",
       "stream": "stdout",
       "text": [
        "\n",
        "Scraping https://www.govtrack.us/data/congress/113/votes/2014/h380/"
       ]
      },
      {
       "output_type": "stream",
       "stream": "stdout",
       "text": [
        "\n",
        "Scraping https://www.govtrack.us/data/congress/113/votes/2014/h381/"
       ]
      },
      {
       "output_type": "stream",
       "stream": "stdout",
       "text": [
        "\n",
        "Scraping https://www.govtrack.us/data/congress/113/votes/2014/h382/"
       ]
      },
      {
       "output_type": "stream",
       "stream": "stdout",
       "text": [
        "\n",
        "Scraping https://www.govtrack.us/data/congress/113/votes/2014/h383/"
       ]
      },
      {
       "output_type": "stream",
       "stream": "stdout",
       "text": [
        "\n",
        "Scraping https://www.govtrack.us/data/congress/113/votes/2014/h384/"
       ]
      },
      {
       "output_type": "stream",
       "stream": "stdout",
       "text": [
        "\n",
        "Scraping https://www.govtrack.us/data/congress/113/votes/2014/h385/"
       ]
      },
      {
       "output_type": "stream",
       "stream": "stdout",
       "text": [
        "\n",
        "Scraping https://www.govtrack.us/data/congress/113/votes/2014/h386/"
       ]
      },
      {
       "output_type": "stream",
       "stream": "stdout",
       "text": [
        "\n",
        "Scraping https://www.govtrack.us/data/congress/113/votes/2014/h387/"
       ]
      },
      {
       "output_type": "stream",
       "stream": "stdout",
       "text": [
        "\n",
        "Scraping https://www.govtrack.us/data/congress/113/votes/2014/h388/"
       ]
      },
      {
       "output_type": "stream",
       "stream": "stdout",
       "text": [
        "\n",
        "Scraping https://www.govtrack.us/data/congress/113/votes/2014/h389/"
       ]
      },
      {
       "output_type": "stream",
       "stream": "stdout",
       "text": [
        "\n",
        "Scraping https://www.govtrack.us/data/congress/113/votes/2014/h39/"
       ]
      },
      {
       "output_type": "stream",
       "stream": "stdout",
       "text": [
        "\n",
        "Scraping https://www.govtrack.us/data/congress/113/votes/2014/h390/"
       ]
      },
      {
       "output_type": "stream",
       "stream": "stdout",
       "text": [
        "\n",
        "Scraping https://www.govtrack.us/data/congress/113/votes/2014/h391/"
       ]
      },
      {
       "output_type": "stream",
       "stream": "stdout",
       "text": [
        "\n",
        "Scraping https://www.govtrack.us/data/congress/113/votes/2014/h392/"
       ]
      },
      {
       "output_type": "stream",
       "stream": "stdout",
       "text": [
        "\n",
        "Scraping https://www.govtrack.us/data/congress/113/votes/2014/h393/"
       ]
      },
      {
       "output_type": "stream",
       "stream": "stdout",
       "text": [
        "\n",
        "Scraping https://www.govtrack.us/data/congress/113/votes/2014/h394/"
       ]
      },
      {
       "output_type": "stream",
       "stream": "stdout",
       "text": [
        "\n",
        "Scraping https://www.govtrack.us/data/congress/113/votes/2014/h395/"
       ]
      },
      {
       "output_type": "stream",
       "stream": "stdout",
       "text": [
        "\n",
        "Scraping https://www.govtrack.us/data/congress/113/votes/2014/h396/"
       ]
      },
      {
       "output_type": "stream",
       "stream": "stdout",
       "text": [
        "\n",
        "Scraping https://www.govtrack.us/data/congress/113/votes/2014/h397/"
       ]
      },
      {
       "output_type": "stream",
       "stream": "stdout",
       "text": [
        "\n",
        "Scraping https://www.govtrack.us/data/congress/113/votes/2014/h398/"
       ]
      },
      {
       "output_type": "stream",
       "stream": "stdout",
       "text": [
        "\n",
        "Scraping https://www.govtrack.us/data/congress/113/votes/2014/h399/"
       ]
      },
      {
       "output_type": "stream",
       "stream": "stdout",
       "text": [
        "\n",
        "Scraping https://www.govtrack.us/data/congress/113/votes/2014/h4/"
       ]
      },
      {
       "output_type": "stream",
       "stream": "stdout",
       "text": [
        "\n",
        "Scraping https://www.govtrack.us/data/congress/113/votes/2014/h40/"
       ]
      },
      {
       "output_type": "stream",
       "stream": "stdout",
       "text": [
        "\n",
        "Scraping https://www.govtrack.us/data/congress/113/votes/2014/h400/"
       ]
      },
      {
       "output_type": "stream",
       "stream": "stdout",
       "text": [
        "\n",
        "Scraping https://www.govtrack.us/data/congress/113/votes/2014/h401/"
       ]
      },
      {
       "output_type": "stream",
       "stream": "stdout",
       "text": [
        "\n",
        "Scraping https://www.govtrack.us/data/congress/113/votes/2014/h402/"
       ]
      },
      {
       "output_type": "stream",
       "stream": "stdout",
       "text": [
        "\n",
        "Scraping https://www.govtrack.us/data/congress/113/votes/2014/h403/"
       ]
      },
      {
       "output_type": "stream",
       "stream": "stdout",
       "text": [
        "\n",
        "Scraping https://www.govtrack.us/data/congress/113/votes/2014/h404/"
       ]
      },
      {
       "output_type": "stream",
       "stream": "stdout",
       "text": [
        "\n",
        "Scraping https://www.govtrack.us/data/congress/113/votes/2014/h405/"
       ]
      },
      {
       "output_type": "stream",
       "stream": "stdout",
       "text": [
        "\n",
        "Scraping https://www.govtrack.us/data/congress/113/votes/2014/h406/"
       ]
      },
      {
       "output_type": "stream",
       "stream": "stdout",
       "text": [
        "\n",
        "Scraping https://www.govtrack.us/data/congress/113/votes/2014/h407/"
       ]
      },
      {
       "output_type": "stream",
       "stream": "stdout",
       "text": [
        "\n",
        "Scraping https://www.govtrack.us/data/congress/113/votes/2014/h408/"
       ]
      },
      {
       "output_type": "stream",
       "stream": "stdout",
       "text": [
        "\n",
        "Scraping https://www.govtrack.us/data/congress/113/votes/2014/h409/"
       ]
      },
      {
       "output_type": "stream",
       "stream": "stdout",
       "text": [
        "\n",
        "Scraping https://www.govtrack.us/data/congress/113/votes/2014/h41/"
       ]
      },
      {
       "output_type": "stream",
       "stream": "stdout",
       "text": [
        "\n",
        "Scraping https://www.govtrack.us/data/congress/113/votes/2014/h410/"
       ]
      },
      {
       "output_type": "stream",
       "stream": "stdout",
       "text": [
        "\n",
        "Scraping https://www.govtrack.us/data/congress/113/votes/2014/h411/"
       ]
      },
      {
       "output_type": "stream",
       "stream": "stdout",
       "text": [
        "\n",
        "Scraping https://www.govtrack.us/data/congress/113/votes/2014/h412/"
       ]
      },
      {
       "output_type": "stream",
       "stream": "stdout",
       "text": [
        "\n",
        "Scraping https://www.govtrack.us/data/congress/113/votes/2014/h413/"
       ]
      },
      {
       "output_type": "stream",
       "stream": "stdout",
       "text": [
        "\n",
        "Scraping https://www.govtrack.us/data/congress/113/votes/2014/h414/"
       ]
      },
      {
       "output_type": "stream",
       "stream": "stdout",
       "text": [
        "\n",
        "Scraping https://www.govtrack.us/data/congress/113/votes/2014/h415/"
       ]
      },
      {
       "output_type": "stream",
       "stream": "stdout",
       "text": [
        "\n",
        "Scraping https://www.govtrack.us/data/congress/113/votes/2014/h416/"
       ]
      },
      {
       "output_type": "stream",
       "stream": "stdout",
       "text": [
        "\n",
        "Scraping https://www.govtrack.us/data/congress/113/votes/2014/h417/"
       ]
      },
      {
       "output_type": "stream",
       "stream": "stdout",
       "text": [
        "\n",
        "Scraping https://www.govtrack.us/data/congress/113/votes/2014/h418/"
       ]
      },
      {
       "output_type": "stream",
       "stream": "stdout",
       "text": [
        "\n",
        "Scraping https://www.govtrack.us/data/congress/113/votes/2014/h419/"
       ]
      },
      {
       "output_type": "stream",
       "stream": "stdout",
       "text": [
        "\n",
        "Scraping https://www.govtrack.us/data/congress/113/votes/2014/h42/"
       ]
      },
      {
       "output_type": "stream",
       "stream": "stdout",
       "text": [
        "\n",
        "Scraping https://www.govtrack.us/data/congress/113/votes/2014/h420/"
       ]
      },
      {
       "output_type": "stream",
       "stream": "stdout",
       "text": [
        "\n",
        "Scraping https://www.govtrack.us/data/congress/113/votes/2014/h421/"
       ]
      },
      {
       "output_type": "stream",
       "stream": "stdout",
       "text": [
        "\n",
        "Scraping https://www.govtrack.us/data/congress/113/votes/2014/h422/"
       ]
      },
      {
       "output_type": "stream",
       "stream": "stdout",
       "text": [
        "\n",
        "Scraping https://www.govtrack.us/data/congress/113/votes/2014/h423/"
       ]
      },
      {
       "output_type": "stream",
       "stream": "stdout",
       "text": [
        "\n",
        "Scraping https://www.govtrack.us/data/congress/113/votes/2014/h424/"
       ]
      },
      {
       "output_type": "stream",
       "stream": "stdout",
       "text": [
        "\n",
        "Scraping https://www.govtrack.us/data/congress/113/votes/2014/h425/"
       ]
      },
      {
       "output_type": "stream",
       "stream": "stdout",
       "text": [
        "\n",
        "Scraping https://www.govtrack.us/data/congress/113/votes/2014/h426/"
       ]
      },
      {
       "output_type": "stream",
       "stream": "stdout",
       "text": [
        "\n",
        "Scraping https://www.govtrack.us/data/congress/113/votes/2014/h427/"
       ]
      },
      {
       "output_type": "stream",
       "stream": "stdout",
       "text": [
        "\n",
        "Scraping https://www.govtrack.us/data/congress/113/votes/2014/h428/"
       ]
      },
      {
       "output_type": "stream",
       "stream": "stdout",
       "text": [
        "\n",
        "Scraping https://www.govtrack.us/data/congress/113/votes/2014/h429/"
       ]
      },
      {
       "output_type": "stream",
       "stream": "stdout",
       "text": [
        "\n",
        "Scraping https://www.govtrack.us/data/congress/113/votes/2014/h43/"
       ]
      },
      {
       "output_type": "stream",
       "stream": "stdout",
       "text": [
        "\n",
        "Scraping https://www.govtrack.us/data/congress/113/votes/2014/h430/"
       ]
      },
      {
       "output_type": "stream",
       "stream": "stdout",
       "text": [
        "\n",
        "Scraping https://www.govtrack.us/data/congress/113/votes/2014/h431/"
       ]
      },
      {
       "output_type": "stream",
       "stream": "stdout",
       "text": [
        "\n",
        "Scraping https://www.govtrack.us/data/congress/113/votes/2014/h432/"
       ]
      },
      {
       "output_type": "stream",
       "stream": "stdout",
       "text": [
        "\n",
        "Scraping https://www.govtrack.us/data/congress/113/votes/2014/h433/"
       ]
      },
      {
       "output_type": "stream",
       "stream": "stdout",
       "text": [
        "\n",
        "Scraping https://www.govtrack.us/data/congress/113/votes/2014/h434/"
       ]
      },
      {
       "output_type": "stream",
       "stream": "stdout",
       "text": [
        "\n",
        "Scraping https://www.govtrack.us/data/congress/113/votes/2014/h435/"
       ]
      },
      {
       "output_type": "stream",
       "stream": "stdout",
       "text": [
        "\n",
        "Scraping https://www.govtrack.us/data/congress/113/votes/2014/h436/"
       ]
      },
      {
       "output_type": "stream",
       "stream": "stdout",
       "text": [
        "\n",
        "Scraping https://www.govtrack.us/data/congress/113/votes/2014/h437/"
       ]
      },
      {
       "output_type": "stream",
       "stream": "stdout",
       "text": [
        "\n",
        "Scraping https://www.govtrack.us/data/congress/113/votes/2014/h438/"
       ]
      },
      {
       "output_type": "stream",
       "stream": "stdout",
       "text": [
        "\n",
        "Scraping https://www.govtrack.us/data/congress/113/votes/2014/h439/"
       ]
      },
      {
       "output_type": "stream",
       "stream": "stdout",
       "text": [
        "\n",
        "Scraping https://www.govtrack.us/data/congress/113/votes/2014/h44/"
       ]
      },
      {
       "output_type": "stream",
       "stream": "stdout",
       "text": [
        "\n",
        "Scraping https://www.govtrack.us/data/congress/113/votes/2014/h440/"
       ]
      },
      {
       "output_type": "stream",
       "stream": "stdout",
       "text": [
        "\n",
        "Scraping https://www.govtrack.us/data/congress/113/votes/2014/h441/"
       ]
      },
      {
       "output_type": "stream",
       "stream": "stdout",
       "text": [
        "\n",
        "Scraping https://www.govtrack.us/data/congress/113/votes/2014/h442/"
       ]
      },
      {
       "output_type": "stream",
       "stream": "stdout",
       "text": [
        "\n",
        "Scraping https://www.govtrack.us/data/congress/113/votes/2014/h443/"
       ]
      },
      {
       "output_type": "stream",
       "stream": "stdout",
       "text": [
        "\n",
        "Scraping https://www.govtrack.us/data/congress/113/votes/2014/h444/"
       ]
      },
      {
       "output_type": "stream",
       "stream": "stdout",
       "text": [
        "\n",
        "Scraping https://www.govtrack.us/data/congress/113/votes/2014/h445/"
       ]
      },
      {
       "output_type": "stream",
       "stream": "stdout",
       "text": [
        "\n",
        "Scraping https://www.govtrack.us/data/congress/113/votes/2014/h446/"
       ]
      },
      {
       "output_type": "stream",
       "stream": "stdout",
       "text": [
        "\n",
        "Scraping https://www.govtrack.us/data/congress/113/votes/2014/h447/"
       ]
      },
      {
       "output_type": "stream",
       "stream": "stdout",
       "text": [
        "\n",
        "Scraping https://www.govtrack.us/data/congress/113/votes/2014/h448/"
       ]
      },
      {
       "output_type": "stream",
       "stream": "stdout",
       "text": [
        "\n",
        "Scraping https://www.govtrack.us/data/congress/113/votes/2014/h449/"
       ]
      },
      {
       "output_type": "stream",
       "stream": "stdout",
       "text": [
        "\n",
        "Scraping https://www.govtrack.us/data/congress/113/votes/2014/h45/"
       ]
      },
      {
       "output_type": "stream",
       "stream": "stdout",
       "text": [
        "\n",
        "Scraping https://www.govtrack.us/data/congress/113/votes/2014/h450/"
       ]
      },
      {
       "output_type": "stream",
       "stream": "stdout",
       "text": [
        "\n",
        "Scraping https://www.govtrack.us/data/congress/113/votes/2014/h451/"
       ]
      },
      {
       "output_type": "stream",
       "stream": "stdout",
       "text": [
        "\n",
        "Scraping https://www.govtrack.us/data/congress/113/votes/2014/h452/"
       ]
      },
      {
       "output_type": "stream",
       "stream": "stdout",
       "text": [
        "\n",
        "Scraping https://www.govtrack.us/data/congress/113/votes/2014/h453/"
       ]
      },
      {
       "output_type": "stream",
       "stream": "stdout",
       "text": [
        "\n",
        "Scraping https://www.govtrack.us/data/congress/113/votes/2014/h454/"
       ]
      },
      {
       "output_type": "stream",
       "stream": "stdout",
       "text": [
        "\n",
        "Scraping https://www.govtrack.us/data/congress/113/votes/2014/h455/"
       ]
      },
      {
       "output_type": "stream",
       "stream": "stdout",
       "text": [
        "\n",
        "Scraping https://www.govtrack.us/data/congress/113/votes/2014/h456/"
       ]
      },
      {
       "output_type": "stream",
       "stream": "stdout",
       "text": [
        "\n",
        "Scraping https://www.govtrack.us/data/congress/113/votes/2014/h457/"
       ]
      },
      {
       "output_type": "stream",
       "stream": "stdout",
       "text": [
        "\n",
        "Scraping https://www.govtrack.us/data/congress/113/votes/2014/h458/"
       ]
      },
      {
       "output_type": "stream",
       "stream": "stdout",
       "text": [
        "\n",
        "Scraping https://www.govtrack.us/data/congress/113/votes/2014/h459/"
       ]
      },
      {
       "output_type": "stream",
       "stream": "stdout",
       "text": [
        "\n",
        "Scraping https://www.govtrack.us/data/congress/113/votes/2014/h46/"
       ]
      },
      {
       "output_type": "stream",
       "stream": "stdout",
       "text": [
        "\n",
        "Scraping https://www.govtrack.us/data/congress/113/votes/2014/h460/"
       ]
      },
      {
       "output_type": "stream",
       "stream": "stdout",
       "text": [
        "\n",
        "Scraping https://www.govtrack.us/data/congress/113/votes/2014/h461/"
       ]
      },
      {
       "output_type": "stream",
       "stream": "stdout",
       "text": [
        "\n",
        "Scraping https://www.govtrack.us/data/congress/113/votes/2014/h462/"
       ]
      },
      {
       "output_type": "stream",
       "stream": "stdout",
       "text": [
        "\n",
        "Scraping https://www.govtrack.us/data/congress/113/votes/2014/h463/"
       ]
      },
      {
       "output_type": "stream",
       "stream": "stdout",
       "text": [
        "\n",
        "Scraping https://www.govtrack.us/data/congress/113/votes/2014/h464/"
       ]
      },
      {
       "output_type": "stream",
       "stream": "stdout",
       "text": [
        "\n",
        "Scraping https://www.govtrack.us/data/congress/113/votes/2014/h465/"
       ]
      },
      {
       "output_type": "stream",
       "stream": "stdout",
       "text": [
        "\n",
        "Scraping https://www.govtrack.us/data/congress/113/votes/2014/h466/"
       ]
      },
      {
       "output_type": "stream",
       "stream": "stdout",
       "text": [
        "\n",
        "Scraping https://www.govtrack.us/data/congress/113/votes/2014/h467/"
       ]
      },
      {
       "output_type": "stream",
       "stream": "stdout",
       "text": [
        "\n",
        "Scraping https://www.govtrack.us/data/congress/113/votes/2014/h468/"
       ]
      },
      {
       "output_type": "stream",
       "stream": "stdout",
       "text": [
        "\n",
        "Scraping https://www.govtrack.us/data/congress/113/votes/2014/h469/"
       ]
      },
      {
       "output_type": "stream",
       "stream": "stdout",
       "text": [
        "\n",
        "Scraping https://www.govtrack.us/data/congress/113/votes/2014/h47/"
       ]
      },
      {
       "output_type": "stream",
       "stream": "stdout",
       "text": [
        "\n",
        "Scraping https://www.govtrack.us/data/congress/113/votes/2014/h470/"
       ]
      },
      {
       "output_type": "stream",
       "stream": "stdout",
       "text": [
        "\n",
        "Scraping https://www.govtrack.us/data/congress/113/votes/2014/h471/"
       ]
      },
      {
       "output_type": "stream",
       "stream": "stdout",
       "text": [
        "\n",
        "Scraping https://www.govtrack.us/data/congress/113/votes/2014/h472/"
       ]
      },
      {
       "output_type": "stream",
       "stream": "stdout",
       "text": [
        "\n",
        "Scraping https://www.govtrack.us/data/congress/113/votes/2014/h473/"
       ]
      },
      {
       "output_type": "stream",
       "stream": "stdout",
       "text": [
        "\n",
        "Scraping https://www.govtrack.us/data/congress/113/votes/2014/h474/"
       ]
      },
      {
       "output_type": "stream",
       "stream": "stdout",
       "text": [
        "\n",
        "Scraping https://www.govtrack.us/data/congress/113/votes/2014/h475/"
       ]
      },
      {
       "output_type": "stream",
       "stream": "stdout",
       "text": [
        "\n",
        "Scraping https://www.govtrack.us/data/congress/113/votes/2014/h476/"
       ]
      },
      {
       "output_type": "stream",
       "stream": "stdout",
       "text": [
        "\n",
        "Scraping https://www.govtrack.us/data/congress/113/votes/2014/h477/"
       ]
      },
      {
       "output_type": "stream",
       "stream": "stdout",
       "text": [
        "\n",
        "Scraping https://www.govtrack.us/data/congress/113/votes/2014/h478/"
       ]
      },
      {
       "output_type": "stream",
       "stream": "stdout",
       "text": [
        "\n",
        "Scraping https://www.govtrack.us/data/congress/113/votes/2014/h479/"
       ]
      },
      {
       "output_type": "stream",
       "stream": "stdout",
       "text": [
        "\n",
        "Scraping https://www.govtrack.us/data/congress/113/votes/2014/h48/"
       ]
      },
      {
       "output_type": "stream",
       "stream": "stdout",
       "text": [
        "\n",
        "Scraping https://www.govtrack.us/data/congress/113/votes/2014/h480/"
       ]
      },
      {
       "output_type": "stream",
       "stream": "stdout",
       "text": [
        "\n",
        "Scraping https://www.govtrack.us/data/congress/113/votes/2014/h481/"
       ]
      },
      {
       "output_type": "stream",
       "stream": "stdout",
       "text": [
        "\n",
        "Scraping https://www.govtrack.us/data/congress/113/votes/2014/h482/"
       ]
      },
      {
       "output_type": "stream",
       "stream": "stdout",
       "text": [
        "\n",
        "Scraping https://www.govtrack.us/data/congress/113/votes/2014/h483/"
       ]
      },
      {
       "output_type": "stream",
       "stream": "stdout",
       "text": [
        "\n",
        "Scraping https://www.govtrack.us/data/congress/113/votes/2014/h484/"
       ]
      },
      {
       "output_type": "stream",
       "stream": "stdout",
       "text": [
        "\n",
        "Scraping https://www.govtrack.us/data/congress/113/votes/2014/h485/"
       ]
      },
      {
       "output_type": "stream",
       "stream": "stdout",
       "text": [
        "\n",
        "Scraping https://www.govtrack.us/data/congress/113/votes/2014/h486/"
       ]
      },
      {
       "output_type": "stream",
       "stream": "stdout",
       "text": [
        "\n",
        "Scraping https://www.govtrack.us/data/congress/113/votes/2014/h487/"
       ]
      },
      {
       "output_type": "stream",
       "stream": "stdout",
       "text": [
        "\n",
        "Scraping https://www.govtrack.us/data/congress/113/votes/2014/h488/"
       ]
      },
      {
       "output_type": "stream",
       "stream": "stdout",
       "text": [
        "\n",
        "Scraping https://www.govtrack.us/data/congress/113/votes/2014/h489/"
       ]
      },
      {
       "output_type": "stream",
       "stream": "stdout",
       "text": [
        "\n",
        "Scraping https://www.govtrack.us/data/congress/113/votes/2014/h49/"
       ]
      },
      {
       "output_type": "stream",
       "stream": "stdout",
       "text": [
        "\n",
        "Scraping https://www.govtrack.us/data/congress/113/votes/2014/h490/"
       ]
      },
      {
       "output_type": "stream",
       "stream": "stdout",
       "text": [
        "\n",
        "Scraping https://www.govtrack.us/data/congress/113/votes/2014/h491/"
       ]
      },
      {
       "output_type": "stream",
       "stream": "stdout",
       "text": [
        "\n",
        "Scraping https://www.govtrack.us/data/congress/113/votes/2014/h492/"
       ]
      },
      {
       "output_type": "stream",
       "stream": "stdout",
       "text": [
        "\n",
        "Scraping https://www.govtrack.us/data/congress/113/votes/2014/h493/"
       ]
      },
      {
       "output_type": "stream",
       "stream": "stdout",
       "text": [
        "\n",
        "Scraping https://www.govtrack.us/data/congress/113/votes/2014/h494/"
       ]
      },
      {
       "output_type": "stream",
       "stream": "stdout",
       "text": [
        "\n",
        "Scraping https://www.govtrack.us/data/congress/113/votes/2014/h495/"
       ]
      },
      {
       "output_type": "stream",
       "stream": "stdout",
       "text": [
        "\n",
        "Scraping https://www.govtrack.us/data/congress/113/votes/2014/h496/"
       ]
      },
      {
       "output_type": "stream",
       "stream": "stdout",
       "text": [
        "\n",
        "Scraping https://www.govtrack.us/data/congress/113/votes/2014/h497/"
       ]
      },
      {
       "output_type": "stream",
       "stream": "stdout",
       "text": [
        "\n",
        "Scraping https://www.govtrack.us/data/congress/113/votes/2014/h498/"
       ]
      },
      {
       "output_type": "stream",
       "stream": "stdout",
       "text": [
        "\n",
        "Scraping https://www.govtrack.us/data/congress/113/votes/2014/h499/"
       ]
      },
      {
       "output_type": "stream",
       "stream": "stdout",
       "text": [
        "\n",
        "Scraping https://www.govtrack.us/data/congress/113/votes/2014/h5/"
       ]
      },
      {
       "output_type": "stream",
       "stream": "stdout",
       "text": [
        "\n",
        "Scraping https://www.govtrack.us/data/congress/113/votes/2014/h50/"
       ]
      },
      {
       "output_type": "stream",
       "stream": "stdout",
       "text": [
        "\n",
        "Scraping https://www.govtrack.us/data/congress/113/votes/2014/h500/"
       ]
      },
      {
       "output_type": "stream",
       "stream": "stdout",
       "text": [
        "\n",
        "Scraping https://www.govtrack.us/data/congress/113/votes/2014/h501/"
       ]
      },
      {
       "output_type": "stream",
       "stream": "stdout",
       "text": [
        "\n",
        "Scraping https://www.govtrack.us/data/congress/113/votes/2014/h502/"
       ]
      },
      {
       "output_type": "stream",
       "stream": "stdout",
       "text": [
        "\n",
        "Scraping https://www.govtrack.us/data/congress/113/votes/2014/h503/"
       ]
      },
      {
       "output_type": "stream",
       "stream": "stdout",
       "text": [
        "\n",
        "Scraping https://www.govtrack.us/data/congress/113/votes/2014/h504/"
       ]
      },
      {
       "output_type": "stream",
       "stream": "stdout",
       "text": [
        "\n",
        "Scraping https://www.govtrack.us/data/congress/113/votes/2014/h505/"
       ]
      },
      {
       "output_type": "stream",
       "stream": "stdout",
       "text": [
        "\n",
        "Scraping https://www.govtrack.us/data/congress/113/votes/2014/h506/"
       ]
      },
      {
       "output_type": "stream",
       "stream": "stdout",
       "text": [
        "\n",
        "Scraping https://www.govtrack.us/data/congress/113/votes/2014/h507/"
       ]
      },
      {
       "output_type": "stream",
       "stream": "stdout",
       "text": [
        "\n",
        "Scraping https://www.govtrack.us/data/congress/113/votes/2014/h508/"
       ]
      },
      {
       "output_type": "stream",
       "stream": "stdout",
       "text": [
        "\n",
        "Scraping https://www.govtrack.us/data/congress/113/votes/2014/h509/"
       ]
      },
      {
       "output_type": "stream",
       "stream": "stdout",
       "text": [
        "\n",
        "Scraping https://www.govtrack.us/data/congress/113/votes/2014/h51/"
       ]
      },
      {
       "output_type": "stream",
       "stream": "stdout",
       "text": [
        "\n",
        "Scraping https://www.govtrack.us/data/congress/113/votes/2014/h510/"
       ]
      },
      {
       "output_type": "stream",
       "stream": "stdout",
       "text": [
        "\n",
        "Scraping https://www.govtrack.us/data/congress/113/votes/2014/h511/"
       ]
      },
      {
       "output_type": "stream",
       "stream": "stdout",
       "text": [
        "\n",
        "Scraping https://www.govtrack.us/data/congress/113/votes/2014/h512/"
       ]
      },
      {
       "output_type": "stream",
       "stream": "stdout",
       "text": [
        "\n",
        "Scraping https://www.govtrack.us/data/congress/113/votes/2014/h513/"
       ]
      },
      {
       "output_type": "stream",
       "stream": "stdout",
       "text": [
        "\n",
        "Scraping https://www.govtrack.us/data/congress/113/votes/2014/h514/"
       ]
      },
      {
       "output_type": "stream",
       "stream": "stdout",
       "text": [
        "\n",
        "Scraping https://www.govtrack.us/data/congress/113/votes/2014/h515/"
       ]
      },
      {
       "output_type": "stream",
       "stream": "stdout",
       "text": [
        "\n",
        "Scraping https://www.govtrack.us/data/congress/113/votes/2014/h52/"
       ]
      },
      {
       "output_type": "stream",
       "stream": "stdout",
       "text": [
        "\n",
        "Scraping https://www.govtrack.us/data/congress/113/votes/2014/h53/"
       ]
      },
      {
       "output_type": "stream",
       "stream": "stdout",
       "text": [
        "\n",
        "Scraping https://www.govtrack.us/data/congress/113/votes/2014/h54/"
       ]
      },
      {
       "output_type": "stream",
       "stream": "stdout",
       "text": [
        "\n",
        "Scraping https://www.govtrack.us/data/congress/113/votes/2014/h55/"
       ]
      },
      {
       "output_type": "stream",
       "stream": "stdout",
       "text": [
        "\n",
        "Scraping https://www.govtrack.us/data/congress/113/votes/2014/h56/"
       ]
      },
      {
       "output_type": "stream",
       "stream": "stdout",
       "text": [
        "\n",
        "Scraping https://www.govtrack.us/data/congress/113/votes/2014/h57/"
       ]
      },
      {
       "output_type": "stream",
       "stream": "stdout",
       "text": [
        "\n",
        "Scraping https://www.govtrack.us/data/congress/113/votes/2014/h58/"
       ]
      },
      {
       "output_type": "stream",
       "stream": "stdout",
       "text": [
        "\n",
        "Scraping https://www.govtrack.us/data/congress/113/votes/2014/h59/"
       ]
      },
      {
       "output_type": "stream",
       "stream": "stdout",
       "text": [
        "\n",
        "Scraping https://www.govtrack.us/data/congress/113/votes/2014/h6/"
       ]
      },
      {
       "output_type": "stream",
       "stream": "stdout",
       "text": [
        "\n",
        "Scraping https://www.govtrack.us/data/congress/113/votes/2014/h60/"
       ]
      },
      {
       "output_type": "stream",
       "stream": "stdout",
       "text": [
        "\n",
        "Scraping https://www.govtrack.us/data/congress/113/votes/2014/h61/"
       ]
      },
      {
       "output_type": "stream",
       "stream": "stdout",
       "text": [
        "\n",
        "Scraping https://www.govtrack.us/data/congress/113/votes/2014/h62/"
       ]
      },
      {
       "output_type": "stream",
       "stream": "stdout",
       "text": [
        "\n",
        "Scraping https://www.govtrack.us/data/congress/113/votes/2014/h63/"
       ]
      },
      {
       "output_type": "stream",
       "stream": "stdout",
       "text": [
        "\n",
        "Scraping https://www.govtrack.us/data/congress/113/votes/2014/h64/"
       ]
      },
      {
       "output_type": "stream",
       "stream": "stdout",
       "text": [
        "\n",
        "Scraping https://www.govtrack.us/data/congress/113/votes/2014/h65/"
       ]
      },
      {
       "output_type": "stream",
       "stream": "stdout",
       "text": [
        "\n",
        "Scraping https://www.govtrack.us/data/congress/113/votes/2014/h66/"
       ]
      },
      {
       "output_type": "stream",
       "stream": "stdout",
       "text": [
        "\n",
        "Scraping https://www.govtrack.us/data/congress/113/votes/2014/h67/"
       ]
      },
      {
       "output_type": "stream",
       "stream": "stdout",
       "text": [
        "\n",
        "Scraping https://www.govtrack.us/data/congress/113/votes/2014/h68/"
       ]
      },
      {
       "output_type": "stream",
       "stream": "stdout",
       "text": [
        "\n",
        "Scraping https://www.govtrack.us/data/congress/113/votes/2014/h69/"
       ]
      },
      {
       "output_type": "stream",
       "stream": "stdout",
       "text": [
        "\n",
        "Scraping https://www.govtrack.us/data/congress/113/votes/2014/h7/"
       ]
      },
      {
       "output_type": "stream",
       "stream": "stdout",
       "text": [
        "\n",
        "Scraping https://www.govtrack.us/data/congress/113/votes/2014/h70/"
       ]
      },
      {
       "output_type": "stream",
       "stream": "stdout",
       "text": [
        "\n",
        "Scraping https://www.govtrack.us/data/congress/113/votes/2014/h71/"
       ]
      },
      {
       "output_type": "stream",
       "stream": "stdout",
       "text": [
        "\n",
        "Scraping https://www.govtrack.us/data/congress/113/votes/2014/h72/"
       ]
      },
      {
       "output_type": "stream",
       "stream": "stdout",
       "text": [
        "\n",
        "Scraping https://www.govtrack.us/data/congress/113/votes/2014/h73/"
       ]
      },
      {
       "output_type": "stream",
       "stream": "stdout",
       "text": [
        "\n",
        "Scraping https://www.govtrack.us/data/congress/113/votes/2014/h74/"
       ]
      },
      {
       "output_type": "stream",
       "stream": "stdout",
       "text": [
        "\n",
        "Scraping https://www.govtrack.us/data/congress/113/votes/2014/h75/"
       ]
      },
      {
       "output_type": "stream",
       "stream": "stdout",
       "text": [
        "\n",
        "Scraping https://www.govtrack.us/data/congress/113/votes/2014/h76/"
       ]
      },
      {
       "output_type": "stream",
       "stream": "stdout",
       "text": [
        "\n",
        "Scraping https://www.govtrack.us/data/congress/113/votes/2014/h77/"
       ]
      },
      {
       "output_type": "stream",
       "stream": "stdout",
       "text": [
        "\n",
        "Scraping https://www.govtrack.us/data/congress/113/votes/2014/h78/"
       ]
      },
      {
       "output_type": "stream",
       "stream": "stdout",
       "text": [
        "\n",
        "Scraping https://www.govtrack.us/data/congress/113/votes/2014/h79/"
       ]
      },
      {
       "output_type": "stream",
       "stream": "stdout",
       "text": [
        "\n",
        "Scraping https://www.govtrack.us/data/congress/113/votes/2014/h8/"
       ]
      },
      {
       "output_type": "stream",
       "stream": "stdout",
       "text": [
        "\n",
        "Scraping https://www.govtrack.us/data/congress/113/votes/2014/h80/"
       ]
      },
      {
       "output_type": "stream",
       "stream": "stdout",
       "text": [
        "\n",
        "Scraping https://www.govtrack.us/data/congress/113/votes/2014/h81/"
       ]
      },
      {
       "output_type": "stream",
       "stream": "stdout",
       "text": [
        "\n",
        "Scraping https://www.govtrack.us/data/congress/113/votes/2014/h82/"
       ]
      },
      {
       "output_type": "stream",
       "stream": "stdout",
       "text": [
        "\n",
        "Scraping https://www.govtrack.us/data/congress/113/votes/2014/h83/"
       ]
      },
      {
       "output_type": "stream",
       "stream": "stdout",
       "text": [
        "\n",
        "Scraping https://www.govtrack.us/data/congress/113/votes/2014/h84/"
       ]
      },
      {
       "output_type": "stream",
       "stream": "stdout",
       "text": [
        "\n",
        "Scraping https://www.govtrack.us/data/congress/113/votes/2014/h85/"
       ]
      },
      {
       "output_type": "stream",
       "stream": "stdout",
       "text": [
        "\n",
        "Scraping https://www.govtrack.us/data/congress/113/votes/2014/h86/"
       ]
      },
      {
       "output_type": "stream",
       "stream": "stdout",
       "text": [
        "\n",
        "Scraping https://www.govtrack.us/data/congress/113/votes/2014/h87/"
       ]
      },
      {
       "output_type": "stream",
       "stream": "stdout",
       "text": [
        "\n",
        "Scraping https://www.govtrack.us/data/congress/113/votes/2014/h88/"
       ]
      },
      {
       "output_type": "stream",
       "stream": "stdout",
       "text": [
        "\n",
        "Scraping https://www.govtrack.us/data/congress/113/votes/2014/h89/"
       ]
      },
      {
       "output_type": "stream",
       "stream": "stdout",
       "text": [
        "\n",
        "Scraping https://www.govtrack.us/data/congress/113/votes/2014/h9/"
       ]
      },
      {
       "output_type": "stream",
       "stream": "stdout",
       "text": [
        "\n",
        "Scraping https://www.govtrack.us/data/congress/113/votes/2014/h90/"
       ]
      },
      {
       "output_type": "stream",
       "stream": "stdout",
       "text": [
        "\n",
        "Scraping https://www.govtrack.us/data/congress/113/votes/2014/h91/"
       ]
      },
      {
       "output_type": "stream",
       "stream": "stdout",
       "text": [
        "\n",
        "Scraping https://www.govtrack.us/data/congress/113/votes/2014/h92/"
       ]
      },
      {
       "output_type": "stream",
       "stream": "stdout",
       "text": [
        "\n",
        "Scraping https://www.govtrack.us/data/congress/113/votes/2014/h93/"
       ]
      },
      {
       "output_type": "stream",
       "stream": "stdout",
       "text": [
        "\n",
        "Scraping https://www.govtrack.us/data/congress/113/votes/2014/h94/"
       ]
      },
      {
       "output_type": "stream",
       "stream": "stdout",
       "text": [
        "\n",
        "Scraping https://www.govtrack.us/data/congress/113/votes/2014/h95/"
       ]
      },
      {
       "output_type": "stream",
       "stream": "stdout",
       "text": [
        "\n",
        "Scraping https://www.govtrack.us/data/congress/113/votes/2014/h96/"
       ]
      },
      {
       "output_type": "stream",
       "stream": "stdout",
       "text": [
        "\n",
        "Scraping https://www.govtrack.us/data/congress/113/votes/2014/h97/"
       ]
      },
      {
       "output_type": "stream",
       "stream": "stdout",
       "text": [
        "\n",
        "Scraping https://www.govtrack.us/data/congress/113/votes/2014/h98/"
       ]
      },
      {
       "output_type": "stream",
       "stream": "stdout",
       "text": [
        "\n",
        "Scraping https://www.govtrack.us/data/congress/113/votes/2014/h99/"
       ]
      },
      {
       "output_type": "stream",
       "stream": "stdout",
       "text": [
        "\n",
        "Scraping https://www.govtrack.us/data/congress/113/votes/2014/s1/"
       ]
      },
      {
       "output_type": "stream",
       "stream": "stdout",
       "text": [
        "\n",
        "Scraping https://www.govtrack.us/data/congress/113/votes/2014/s10/"
       ]
      },
      {
       "output_type": "stream",
       "stream": "stdout",
       "text": [
        "\n",
        "Scraping https://www.govtrack.us/data/congress/113/votes/2014/s100/"
       ]
      },
      {
       "output_type": "stream",
       "stream": "stdout",
       "text": [
        "\n",
        "Scraping https://www.govtrack.us/data/congress/113/votes/2014/s101/"
       ]
      },
      {
       "output_type": "stream",
       "stream": "stdout",
       "text": [
        "\n",
        "Scraping https://www.govtrack.us/data/congress/113/votes/2014/s102/"
       ]
      },
      {
       "output_type": "stream",
       "stream": "stdout",
       "text": [
        "\n",
        "Scraping https://www.govtrack.us/data/congress/113/votes/2014/s103/"
       ]
      },
      {
       "output_type": "stream",
       "stream": "stdout",
       "text": [
        "\n",
        "Scraping https://www.govtrack.us/data/congress/113/votes/2014/s104/"
       ]
      },
      {
       "output_type": "stream",
       "stream": "stdout",
       "text": [
        "\n",
        "Scraping https://www.govtrack.us/data/congress/113/votes/2014/s105/"
       ]
      },
      {
       "output_type": "stream",
       "stream": "stdout",
       "text": [
        "\n",
        "Scraping https://www.govtrack.us/data/congress/113/votes/2014/s106/"
       ]
      },
      {
       "output_type": "stream",
       "stream": "stdout",
       "text": [
        "\n",
        "Scraping https://www.govtrack.us/data/congress/113/votes/2014/s107/"
       ]
      },
      {
       "output_type": "stream",
       "stream": "stdout",
       "text": [
        "\n",
        "Scraping https://www.govtrack.us/data/congress/113/votes/2014/s108/"
       ]
      },
      {
       "output_type": "stream",
       "stream": "stdout",
       "text": [
        "\n",
        "Scraping https://www.govtrack.us/data/congress/113/votes/2014/s109/"
       ]
      },
      {
       "output_type": "stream",
       "stream": "stdout",
       "text": [
        "\n",
        "Scraping https://www.govtrack.us/data/congress/113/votes/2014/s11/"
       ]
      },
      {
       "output_type": "stream",
       "stream": "stdout",
       "text": [
        "\n",
        "Scraping https://www.govtrack.us/data/congress/113/votes/2014/s110/"
       ]
      },
      {
       "output_type": "stream",
       "stream": "stdout",
       "text": [
        "\n",
        "Scraping https://www.govtrack.us/data/congress/113/votes/2014/s111/"
       ]
      },
      {
       "output_type": "stream",
       "stream": "stdout",
       "text": [
        "\n",
        "Scraping https://www.govtrack.us/data/congress/113/votes/2014/s112/"
       ]
      },
      {
       "output_type": "stream",
       "stream": "stdout",
       "text": [
        "\n",
        "Scraping https://www.govtrack.us/data/congress/113/votes/2014/s113/"
       ]
      },
      {
       "output_type": "stream",
       "stream": "stdout",
       "text": [
        "\n",
        "Scraping https://www.govtrack.us/data/congress/113/votes/2014/s114/"
       ]
      },
      {
       "output_type": "stream",
       "stream": "stdout",
       "text": [
        "\n",
        "Scraping https://www.govtrack.us/data/congress/113/votes/2014/s115/"
       ]
      },
      {
       "output_type": "stream",
       "stream": "stdout",
       "text": [
        "\n",
        "Scraping https://www.govtrack.us/data/congress/113/votes/2014/s116/"
       ]
      },
      {
       "output_type": "stream",
       "stream": "stdout",
       "text": [
        "\n",
        "Scraping https://www.govtrack.us/data/congress/113/votes/2014/s117/"
       ]
      },
      {
       "output_type": "stream",
       "stream": "stdout",
       "text": [
        "\n",
        "Scraping https://www.govtrack.us/data/congress/113/votes/2014/s118/"
       ]
      },
      {
       "output_type": "stream",
       "stream": "stdout",
       "text": [
        "\n",
        "Scraping https://www.govtrack.us/data/congress/113/votes/2014/s119/"
       ]
      },
      {
       "output_type": "stream",
       "stream": "stdout",
       "text": [
        "\n",
        "Scraping https://www.govtrack.us/data/congress/113/votes/2014/s12/"
       ]
      },
      {
       "output_type": "stream",
       "stream": "stdout",
       "text": [
        "\n",
        "Scraping https://www.govtrack.us/data/congress/113/votes/2014/s120/"
       ]
      },
      {
       "output_type": "stream",
       "stream": "stdout",
       "text": [
        "\n",
        "Scraping https://www.govtrack.us/data/congress/113/votes/2014/s121/"
       ]
      },
      {
       "output_type": "stream",
       "stream": "stdout",
       "text": [
        "\n",
        "Scraping https://www.govtrack.us/data/congress/113/votes/2014/s122/"
       ]
      },
      {
       "output_type": "stream",
       "stream": "stdout",
       "text": [
        "\n",
        "Scraping https://www.govtrack.us/data/congress/113/votes/2014/s123/"
       ]
      },
      {
       "output_type": "stream",
       "stream": "stdout",
       "text": [
        "\n",
        "Scraping https://www.govtrack.us/data/congress/113/votes/2014/s124/"
       ]
      },
      {
       "output_type": "stream",
       "stream": "stdout",
       "text": [
        "\n",
        "Scraping https://www.govtrack.us/data/congress/113/votes/2014/s125/"
       ]
      },
      {
       "output_type": "stream",
       "stream": "stdout",
       "text": [
        "\n",
        "Scraping https://www.govtrack.us/data/congress/113/votes/2014/s126/"
       ]
      },
      {
       "output_type": "stream",
       "stream": "stdout",
       "text": [
        "\n",
        "Scraping https://www.govtrack.us/data/congress/113/votes/2014/s127/"
       ]
      },
      {
       "output_type": "stream",
       "stream": "stdout",
       "text": [
        "\n",
        "Scraping https://www.govtrack.us/data/congress/113/votes/2014/s128/"
       ]
      },
      {
       "output_type": "stream",
       "stream": "stdout",
       "text": [
        "\n",
        "Scraping https://www.govtrack.us/data/congress/113/votes/2014/s129/"
       ]
      },
      {
       "output_type": "stream",
       "stream": "stdout",
       "text": [
        "\n",
        "Scraping https://www.govtrack.us/data/congress/113/votes/2014/s13/"
       ]
      },
      {
       "output_type": "stream",
       "stream": "stdout",
       "text": [
        "\n",
        "Scraping https://www.govtrack.us/data/congress/113/votes/2014/s130/"
       ]
      },
      {
       "output_type": "stream",
       "stream": "stdout",
       "text": [
        "\n",
        "Scraping https://www.govtrack.us/data/congress/113/votes/2014/s131/"
       ]
      },
      {
       "output_type": "stream",
       "stream": "stdout",
       "text": [
        "\n",
        "Scraping https://www.govtrack.us/data/congress/113/votes/2014/s132/"
       ]
      },
      {
       "output_type": "stream",
       "stream": "stdout",
       "text": [
        "\n",
        "Scraping https://www.govtrack.us/data/congress/113/votes/2014/s133/"
       ]
      },
      {
       "output_type": "stream",
       "stream": "stdout",
       "text": [
        "\n",
        "Scraping https://www.govtrack.us/data/congress/113/votes/2014/s134/"
       ]
      },
      {
       "output_type": "stream",
       "stream": "stdout",
       "text": [
        "\n",
        "Scraping https://www.govtrack.us/data/congress/113/votes/2014/s135/"
       ]
      },
      {
       "output_type": "stream",
       "stream": "stdout",
       "text": [
        "\n",
        "Scraping https://www.govtrack.us/data/congress/113/votes/2014/s136/"
       ]
      },
      {
       "output_type": "stream",
       "stream": "stdout",
       "text": [
        "\n",
        "Scraping https://www.govtrack.us/data/congress/113/votes/2014/s137/"
       ]
      },
      {
       "output_type": "stream",
       "stream": "stdout",
       "text": [
        "\n",
        "Scraping https://www.govtrack.us/data/congress/113/votes/2014/s138/"
       ]
      },
      {
       "output_type": "stream",
       "stream": "stdout",
       "text": [
        "\n",
        "Scraping https://www.govtrack.us/data/congress/113/votes/2014/s139/"
       ]
      },
      {
       "output_type": "stream",
       "stream": "stdout",
       "text": [
        "\n",
        "Scraping https://www.govtrack.us/data/congress/113/votes/2014/s14/"
       ]
      },
      {
       "output_type": "stream",
       "stream": "stdout",
       "text": [
        "\n",
        "Scraping https://www.govtrack.us/data/congress/113/votes/2014/s140/"
       ]
      },
      {
       "output_type": "stream",
       "stream": "stdout",
       "text": [
        "\n",
        "Scraping https://www.govtrack.us/data/congress/113/votes/2014/s141/"
       ]
      },
      {
       "output_type": "stream",
       "stream": "stdout",
       "text": [
        "\n",
        "Scraping https://www.govtrack.us/data/congress/113/votes/2014/s142/"
       ]
      },
      {
       "output_type": "stream",
       "stream": "stdout",
       "text": [
        "\n",
        "Scraping https://www.govtrack.us/data/congress/113/votes/2014/s143/"
       ]
      },
      {
       "output_type": "stream",
       "stream": "stdout",
       "text": [
        "\n",
        "Scraping https://www.govtrack.us/data/congress/113/votes/2014/s144/"
       ]
      },
      {
       "output_type": "stream",
       "stream": "stdout",
       "text": [
        "\n",
        "Scraping https://www.govtrack.us/data/congress/113/votes/2014/s145/"
       ]
      },
      {
       "output_type": "stream",
       "stream": "stdout",
       "text": [
        "\n",
        "Scraping https://www.govtrack.us/data/congress/113/votes/2014/s146/"
       ]
      },
      {
       "output_type": "stream",
       "stream": "stdout",
       "text": [
        "\n",
        "Scraping https://www.govtrack.us/data/congress/113/votes/2014/s147/"
       ]
      },
      {
       "output_type": "stream",
       "stream": "stdout",
       "text": [
        "\n",
        "Scraping https://www.govtrack.us/data/congress/113/votes/2014/s148/"
       ]
      },
      {
       "output_type": "stream",
       "stream": "stdout",
       "text": [
        "\n",
        "Scraping https://www.govtrack.us/data/congress/113/votes/2014/s149/"
       ]
      },
      {
       "output_type": "stream",
       "stream": "stdout",
       "text": [
        "\n",
        "Scraping https://www.govtrack.us/data/congress/113/votes/2014/s15/"
       ]
      },
      {
       "output_type": "stream",
       "stream": "stdout",
       "text": [
        "\n",
        "Scraping https://www.govtrack.us/data/congress/113/votes/2014/s150/"
       ]
      },
      {
       "output_type": "stream",
       "stream": "stdout",
       "text": [
        "\n",
        "Scraping https://www.govtrack.us/data/congress/113/votes/2014/s151/"
       ]
      },
      {
       "output_type": "stream",
       "stream": "stdout",
       "text": [
        "\n",
        "Scraping https://www.govtrack.us/data/congress/113/votes/2014/s152/"
       ]
      },
      {
       "output_type": "stream",
       "stream": "stdout",
       "text": [
        "\n",
        "Scraping https://www.govtrack.us/data/congress/113/votes/2014/s153/"
       ]
      },
      {
       "output_type": "stream",
       "stream": "stdout",
       "text": [
        "\n",
        "Scraping https://www.govtrack.us/data/congress/113/votes/2014/s154/"
       ]
      },
      {
       "output_type": "stream",
       "stream": "stdout",
       "text": [
        "\n",
        "Scraping https://www.govtrack.us/data/congress/113/votes/2014/s155/"
       ]
      },
      {
       "output_type": "stream",
       "stream": "stdout",
       "text": [
        "\n",
        "Scraping https://www.govtrack.us/data/congress/113/votes/2014/s156/"
       ]
      },
      {
       "output_type": "stream",
       "stream": "stdout",
       "text": [
        "\n",
        "Scraping https://www.govtrack.us/data/congress/113/votes/2014/s157/"
       ]
      },
      {
       "output_type": "stream",
       "stream": "stdout",
       "text": [
        "\n",
        "Scraping https://www.govtrack.us/data/congress/113/votes/2014/s158/"
       ]
      },
      {
       "output_type": "stream",
       "stream": "stdout",
       "text": [
        "\n",
        "Scraping https://www.govtrack.us/data/congress/113/votes/2014/s159/"
       ]
      },
      {
       "output_type": "stream",
       "stream": "stdout",
       "text": [
        "\n",
        "Scraping https://www.govtrack.us/data/congress/113/votes/2014/s16/"
       ]
      },
      {
       "output_type": "stream",
       "stream": "stdout",
       "text": [
        "\n",
        "Scraping https://www.govtrack.us/data/congress/113/votes/2014/s160/"
       ]
      },
      {
       "output_type": "stream",
       "stream": "stdout",
       "text": [
        "\n",
        "Scraping https://www.govtrack.us/data/congress/113/votes/2014/s161/"
       ]
      },
      {
       "output_type": "stream",
       "stream": "stdout",
       "text": [
        "\n",
        "Scraping https://www.govtrack.us/data/congress/113/votes/2014/s162/"
       ]
      },
      {
       "output_type": "stream",
       "stream": "stdout",
       "text": [
        "\n",
        "Scraping https://www.govtrack.us/data/congress/113/votes/2014/s163/"
       ]
      },
      {
       "output_type": "stream",
       "stream": "stdout",
       "text": [
        "\n",
        "Scraping https://www.govtrack.us/data/congress/113/votes/2014/s164/"
       ]
      },
      {
       "output_type": "stream",
       "stream": "stdout",
       "text": [
        "\n",
        "Scraping https://www.govtrack.us/data/congress/113/votes/2014/s165/"
       ]
      },
      {
       "output_type": "stream",
       "stream": "stdout",
       "text": [
        "\n",
        "Scraping https://www.govtrack.us/data/congress/113/votes/2014/s166/"
       ]
      },
      {
       "output_type": "stream",
       "stream": "stdout",
       "text": [
        "\n",
        "Scraping https://www.govtrack.us/data/congress/113/votes/2014/s167/"
       ]
      },
      {
       "output_type": "stream",
       "stream": "stdout",
       "text": [
        "\n",
        "Scraping https://www.govtrack.us/data/congress/113/votes/2014/s168/"
       ]
      },
      {
       "output_type": "stream",
       "stream": "stdout",
       "text": [
        "\n",
        "Scraping https://www.govtrack.us/data/congress/113/votes/2014/s169/"
       ]
      },
      {
       "output_type": "stream",
       "stream": "stdout",
       "text": [
        "\n",
        "Scraping https://www.govtrack.us/data/congress/113/votes/2014/s17/"
       ]
      },
      {
       "output_type": "stream",
       "stream": "stdout",
       "text": [
        "\n",
        "Scraping https://www.govtrack.us/data/congress/113/votes/2014/s170/"
       ]
      },
      {
       "output_type": "stream",
       "stream": "stdout",
       "text": [
        "\n",
        "Scraping https://www.govtrack.us/data/congress/113/votes/2014/s171/"
       ]
      },
      {
       "output_type": "stream",
       "stream": "stdout",
       "text": [
        "\n",
        "Scraping https://www.govtrack.us/data/congress/113/votes/2014/s172/"
       ]
      },
      {
       "output_type": "stream",
       "stream": "stdout",
       "text": [
        "\n",
        "Scraping https://www.govtrack.us/data/congress/113/votes/2014/s173/"
       ]
      },
      {
       "output_type": "stream",
       "stream": "stdout",
       "text": [
        "\n",
        "Scraping https://www.govtrack.us/data/congress/113/votes/2014/s174/"
       ]
      },
      {
       "output_type": "stream",
       "stream": "stdout",
       "text": [
        "\n",
        "Scraping https://www.govtrack.us/data/congress/113/votes/2014/s175/"
       ]
      },
      {
       "output_type": "stream",
       "stream": "stdout",
       "text": [
        "\n",
        "Scraping https://www.govtrack.us/data/congress/113/votes/2014/s176/"
       ]
      },
      {
       "output_type": "stream",
       "stream": "stdout",
       "text": [
        "\n",
        "Scraping https://www.govtrack.us/data/congress/113/votes/2014/s177/"
       ]
      },
      {
       "output_type": "stream",
       "stream": "stdout",
       "text": [
        "\n",
        "Scraping https://www.govtrack.us/data/congress/113/votes/2014/s178/"
       ]
      },
      {
       "output_type": "stream",
       "stream": "stdout",
       "text": [
        "\n",
        "Scraping https://www.govtrack.us/data/congress/113/votes/2014/s179/"
       ]
      },
      {
       "output_type": "stream",
       "stream": "stdout",
       "text": [
        "\n",
        "Scraping https://www.govtrack.us/data/congress/113/votes/2014/s18/"
       ]
      },
      {
       "output_type": "stream",
       "stream": "stdout",
       "text": [
        "\n",
        "Scraping https://www.govtrack.us/data/congress/113/votes/2014/s180/"
       ]
      },
      {
       "output_type": "stream",
       "stream": "stdout",
       "text": [
        "\n",
        "Scraping https://www.govtrack.us/data/congress/113/votes/2014/s181/"
       ]
      },
      {
       "output_type": "stream",
       "stream": "stdout",
       "text": [
        "\n",
        "Scraping https://www.govtrack.us/data/congress/113/votes/2014/s182/"
       ]
      },
      {
       "output_type": "stream",
       "stream": "stdout",
       "text": [
        "\n",
        "Scraping https://www.govtrack.us/data/congress/113/votes/2014/s183/"
       ]
      },
      {
       "output_type": "stream",
       "stream": "stdout",
       "text": [
        "\n",
        "Scraping https://www.govtrack.us/data/congress/113/votes/2014/s184/"
       ]
      },
      {
       "output_type": "stream",
       "stream": "stdout",
       "text": [
        "\n",
        "Scraping https://www.govtrack.us/data/congress/113/votes/2014/s185/"
       ]
      },
      {
       "output_type": "stream",
       "stream": "stdout",
       "text": [
        "\n",
        "Scraping https://www.govtrack.us/data/congress/113/votes/2014/s186/"
       ]
      },
      {
       "output_type": "stream",
       "stream": "stdout",
       "text": [
        "\n",
        "Scraping https://www.govtrack.us/data/congress/113/votes/2014/s187/"
       ]
      },
      {
       "output_type": "stream",
       "stream": "stdout",
       "text": [
        "\n",
        "Scraping https://www.govtrack.us/data/congress/113/votes/2014/s188/"
       ]
      },
      {
       "output_type": "stream",
       "stream": "stdout",
       "text": [
        "\n",
        "Scraping https://www.govtrack.us/data/congress/113/votes/2014/s189/"
       ]
      },
      {
       "output_type": "stream",
       "stream": "stdout",
       "text": [
        "\n",
        "Scraping https://www.govtrack.us/data/congress/113/votes/2014/s19/"
       ]
      },
      {
       "output_type": "stream",
       "stream": "stdout",
       "text": [
        "\n",
        "Scraping https://www.govtrack.us/data/congress/113/votes/2014/s190/"
       ]
      },
      {
       "output_type": "stream",
       "stream": "stdout",
       "text": [
        "\n",
        "Scraping https://www.govtrack.us/data/congress/113/votes/2014/s191/"
       ]
      },
      {
       "output_type": "stream",
       "stream": "stdout",
       "text": [
        "\n",
        "Scraping https://www.govtrack.us/data/congress/113/votes/2014/s192/"
       ]
      },
      {
       "output_type": "stream",
       "stream": "stdout",
       "text": [
        "\n",
        "Scraping https://www.govtrack.us/data/congress/113/votes/2014/s193/"
       ]
      },
      {
       "output_type": "stream",
       "stream": "stdout",
       "text": [
        "\n",
        "Scraping https://www.govtrack.us/data/congress/113/votes/2014/s194/"
       ]
      },
      {
       "output_type": "stream",
       "stream": "stdout",
       "text": [
        "\n",
        "Scraping https://www.govtrack.us/data/congress/113/votes/2014/s195/"
       ]
      },
      {
       "output_type": "stream",
       "stream": "stdout",
       "text": [
        "\n",
        "Scraping https://www.govtrack.us/data/congress/113/votes/2014/s196/"
       ]
      },
      {
       "output_type": "stream",
       "stream": "stdout",
       "text": [
        "\n",
        "Scraping https://www.govtrack.us/data/congress/113/votes/2014/s197/"
       ]
      },
      {
       "output_type": "stream",
       "stream": "stdout",
       "text": [
        "\n",
        "Scraping https://www.govtrack.us/data/congress/113/votes/2014/s198/"
       ]
      },
      {
       "output_type": "stream",
       "stream": "stdout",
       "text": [
        "\n",
        "Scraping https://www.govtrack.us/data/congress/113/votes/2014/s199/"
       ]
      },
      {
       "output_type": "stream",
       "stream": "stdout",
       "text": [
        "\n",
        "Scraping https://www.govtrack.us/data/congress/113/votes/2014/s2/"
       ]
      },
      {
       "output_type": "stream",
       "stream": "stdout",
       "text": [
        "\n",
        "Scraping https://www.govtrack.us/data/congress/113/votes/2014/s20/"
       ]
      },
      {
       "output_type": "stream",
       "stream": "stdout",
       "text": [
        "\n",
        "Scraping https://www.govtrack.us/data/congress/113/votes/2014/s200/"
       ]
      },
      {
       "output_type": "stream",
       "stream": "stdout",
       "text": [
        "\n",
        "Scraping https://www.govtrack.us/data/congress/113/votes/2014/s201/"
       ]
      },
      {
       "output_type": "stream",
       "stream": "stdout",
       "text": [
        "\n",
        "Scraping https://www.govtrack.us/data/congress/113/votes/2014/s202/"
       ]
      },
      {
       "output_type": "stream",
       "stream": "stdout",
       "text": [
        "\n",
        "Scraping https://www.govtrack.us/data/congress/113/votes/2014/s203/"
       ]
      },
      {
       "output_type": "stream",
       "stream": "stdout",
       "text": [
        "\n",
        "Scraping https://www.govtrack.us/data/congress/113/votes/2014/s204/"
       ]
      },
      {
       "output_type": "stream",
       "stream": "stdout",
       "text": [
        "\n",
        "Scraping https://www.govtrack.us/data/congress/113/votes/2014/s205/"
       ]
      },
      {
       "output_type": "stream",
       "stream": "stdout",
       "text": [
        "\n",
        "Scraping https://www.govtrack.us/data/congress/113/votes/2014/s206/"
       ]
      },
      {
       "output_type": "stream",
       "stream": "stdout",
       "text": [
        "\n",
        "Scraping https://www.govtrack.us/data/congress/113/votes/2014/s207/"
       ]
      },
      {
       "output_type": "stream",
       "stream": "stdout",
       "text": [
        "\n",
        "Scraping https://www.govtrack.us/data/congress/113/votes/2014/s208/"
       ]
      },
      {
       "output_type": "stream",
       "stream": "stdout",
       "text": [
        "\n",
        "Scraping https://www.govtrack.us/data/congress/113/votes/2014/s209/"
       ]
      },
      {
       "output_type": "stream",
       "stream": "stdout",
       "text": [
        "\n",
        "Scraping https://www.govtrack.us/data/congress/113/votes/2014/s21/"
       ]
      },
      {
       "output_type": "stream",
       "stream": "stdout",
       "text": [
        "\n",
        "Scraping https://www.govtrack.us/data/congress/113/votes/2014/s210/"
       ]
      },
      {
       "output_type": "stream",
       "stream": "stdout",
       "text": [
        "\n",
        "Scraping https://www.govtrack.us/data/congress/113/votes/2014/s211/"
       ]
      },
      {
       "output_type": "stream",
       "stream": "stdout",
       "text": [
        "\n",
        "Scraping https://www.govtrack.us/data/congress/113/votes/2014/s212/"
       ]
      },
      {
       "output_type": "stream",
       "stream": "stdout",
       "text": [
        "\n",
        "Scraping https://www.govtrack.us/data/congress/113/votes/2014/s213/"
       ]
      },
      {
       "output_type": "stream",
       "stream": "stdout",
       "text": [
        "\n",
        "Scraping https://www.govtrack.us/data/congress/113/votes/2014/s214/"
       ]
      },
      {
       "output_type": "stream",
       "stream": "stdout",
       "text": [
        "\n",
        "Scraping https://www.govtrack.us/data/congress/113/votes/2014/s215/"
       ]
      },
      {
       "output_type": "stream",
       "stream": "stdout",
       "text": [
        "\n",
        "Scraping https://www.govtrack.us/data/congress/113/votes/2014/s216/"
       ]
      },
      {
       "output_type": "stream",
       "stream": "stdout",
       "text": [
        "\n",
        "Scraping https://www.govtrack.us/data/congress/113/votes/2014/s217/"
       ]
      },
      {
       "output_type": "stream",
       "stream": "stdout",
       "text": [
        "\n",
        "Scraping https://www.govtrack.us/data/congress/113/votes/2014/s218/"
       ]
      },
      {
       "output_type": "stream",
       "stream": "stdout",
       "text": [
        "\n",
        "Scraping https://www.govtrack.us/data/congress/113/votes/2014/s219/"
       ]
      },
      {
       "output_type": "stream",
       "stream": "stdout",
       "text": [
        "\n",
        "Scraping https://www.govtrack.us/data/congress/113/votes/2014/s22/"
       ]
      },
      {
       "output_type": "stream",
       "stream": "stdout",
       "text": [
        "\n",
        "Scraping https://www.govtrack.us/data/congress/113/votes/2014/s220/"
       ]
      },
      {
       "output_type": "stream",
       "stream": "stdout",
       "text": [
        "\n",
        "Scraping https://www.govtrack.us/data/congress/113/votes/2014/s221/"
       ]
      },
      {
       "output_type": "stream",
       "stream": "stdout",
       "text": [
        "\n",
        "Scraping https://www.govtrack.us/data/congress/113/votes/2014/s222/"
       ]
      },
      {
       "output_type": "stream",
       "stream": "stdout",
       "text": [
        "\n",
        "Scraping https://www.govtrack.us/data/congress/113/votes/2014/s223/"
       ]
      },
      {
       "output_type": "stream",
       "stream": "stdout",
       "text": [
        "\n",
        "Scraping https://www.govtrack.us/data/congress/113/votes/2014/s224/"
       ]
      },
      {
       "output_type": "stream",
       "stream": "stdout",
       "text": [
        "\n",
        "Scraping https://www.govtrack.us/data/congress/113/votes/2014/s225/"
       ]
      },
      {
       "output_type": "stream",
       "stream": "stdout",
       "text": [
        "\n",
        "Scraping https://www.govtrack.us/data/congress/113/votes/2014/s226/"
       ]
      },
      {
       "output_type": "stream",
       "stream": "stdout",
       "text": [
        "\n",
        "Scraping https://www.govtrack.us/data/congress/113/votes/2014/s227/"
       ]
      },
      {
       "output_type": "stream",
       "stream": "stdout",
       "text": [
        "\n",
        "Scraping https://www.govtrack.us/data/congress/113/votes/2014/s228/"
       ]
      },
      {
       "output_type": "stream",
       "stream": "stdout",
       "text": [
        "\n",
        "Scraping https://www.govtrack.us/data/congress/113/votes/2014/s229/"
       ]
      },
      {
       "output_type": "stream",
       "stream": "stdout",
       "text": [
        "\n",
        "Scraping https://www.govtrack.us/data/congress/113/votes/2014/s23/"
       ]
      },
      {
       "output_type": "stream",
       "stream": "stdout",
       "text": [
        "\n",
        "Scraping https://www.govtrack.us/data/congress/113/votes/2014/s230/"
       ]
      },
      {
       "output_type": "stream",
       "stream": "stdout",
       "text": [
        "\n",
        "Scraping https://www.govtrack.us/data/congress/113/votes/2014/s231/"
       ]
      },
      {
       "output_type": "stream",
       "stream": "stdout",
       "text": [
        "\n",
        "Scraping https://www.govtrack.us/data/congress/113/votes/2014/s232/"
       ]
      },
      {
       "output_type": "stream",
       "stream": "stdout",
       "text": [
        "\n",
        "Scraping https://www.govtrack.us/data/congress/113/votes/2014/s233/"
       ]
      },
      {
       "output_type": "stream",
       "stream": "stdout",
       "text": [
        "\n",
        "Scraping https://www.govtrack.us/data/congress/113/votes/2014/s234/"
       ]
      },
      {
       "output_type": "stream",
       "stream": "stdout",
       "text": [
        "\n",
        "Scraping https://www.govtrack.us/data/congress/113/votes/2014/s235/"
       ]
      },
      {
       "output_type": "stream",
       "stream": "stdout",
       "text": [
        "\n",
        "Scraping https://www.govtrack.us/data/congress/113/votes/2014/s236/"
       ]
      },
      {
       "output_type": "stream",
       "stream": "stdout",
       "text": [
        "\n",
        "Scraping https://www.govtrack.us/data/congress/113/votes/2014/s237/"
       ]
      },
      {
       "output_type": "stream",
       "stream": "stdout",
       "text": [
        "\n",
        "Scraping https://www.govtrack.us/data/congress/113/votes/2014/s238/"
       ]
      },
      {
       "output_type": "stream",
       "stream": "stdout",
       "text": [
        "\n",
        "Scraping https://www.govtrack.us/data/congress/113/votes/2014/s239/"
       ]
      },
      {
       "output_type": "stream",
       "stream": "stdout",
       "text": [
        "\n",
        "Scraping https://www.govtrack.us/data/congress/113/votes/2014/s24/"
       ]
      },
      {
       "output_type": "stream",
       "stream": "stdout",
       "text": [
        "\n",
        "Scraping https://www.govtrack.us/data/congress/113/votes/2014/s240/"
       ]
      },
      {
       "output_type": "stream",
       "stream": "stdout",
       "text": [
        "\n",
        "Scraping https://www.govtrack.us/data/congress/113/votes/2014/s241/"
       ]
      },
      {
       "output_type": "stream",
       "stream": "stdout",
       "text": [
        "\n",
        "Scraping https://www.govtrack.us/data/congress/113/votes/2014/s242/"
       ]
      },
      {
       "output_type": "stream",
       "stream": "stdout",
       "text": [
        "\n",
        "Scraping https://www.govtrack.us/data/congress/113/votes/2014/s243/"
       ]
      },
      {
       "output_type": "stream",
       "stream": "stdout",
       "text": [
        "\n",
        "Scraping https://www.govtrack.us/data/congress/113/votes/2014/s244/"
       ]
      },
      {
       "output_type": "stream",
       "stream": "stdout",
       "text": [
        "\n",
        "Scraping https://www.govtrack.us/data/congress/113/votes/2014/s245/"
       ]
      },
      {
       "output_type": "stream",
       "stream": "stdout",
       "text": [
        "\n",
        "Scraping https://www.govtrack.us/data/congress/113/votes/2014/s246/"
       ]
      },
      {
       "output_type": "stream",
       "stream": "stdout",
       "text": [
        "\n",
        "Scraping https://www.govtrack.us/data/congress/113/votes/2014/s247/"
       ]
      },
      {
       "output_type": "stream",
       "stream": "stdout",
       "text": [
        "\n",
        "Scraping https://www.govtrack.us/data/congress/113/votes/2014/s248/"
       ]
      },
      {
       "output_type": "stream",
       "stream": "stdout",
       "text": [
        "\n",
        "Scraping https://www.govtrack.us/data/congress/113/votes/2014/s249/"
       ]
      },
      {
       "output_type": "stream",
       "stream": "stdout",
       "text": [
        "\n",
        "Scraping https://www.govtrack.us/data/congress/113/votes/2014/s25/"
       ]
      },
      {
       "output_type": "stream",
       "stream": "stdout",
       "text": [
        "\n",
        "Scraping https://www.govtrack.us/data/congress/113/votes/2014/s250/"
       ]
      },
      {
       "output_type": "stream",
       "stream": "stdout",
       "text": [
        "\n",
        "Scraping https://www.govtrack.us/data/congress/113/votes/2014/s251/"
       ]
      },
      {
       "output_type": "stream",
       "stream": "stdout",
       "text": [
        "\n",
        "Scraping https://www.govtrack.us/data/congress/113/votes/2014/s252/"
       ]
      },
      {
       "output_type": "stream",
       "stream": "stdout",
       "text": [
        "\n",
        "Scraping https://www.govtrack.us/data/congress/113/votes/2014/s253/"
       ]
      },
      {
       "output_type": "stream",
       "stream": "stdout",
       "text": [
        "\n",
        "Scraping https://www.govtrack.us/data/congress/113/votes/2014/s254/"
       ]
      },
      {
       "output_type": "stream",
       "stream": "stdout",
       "text": [
        "\n",
        "Scraping https://www.govtrack.us/data/congress/113/votes/2014/s255/"
       ]
      },
      {
       "output_type": "stream",
       "stream": "stdout",
       "text": [
        "\n",
        "Scraping https://www.govtrack.us/data/congress/113/votes/2014/s256/"
       ]
      },
      {
       "output_type": "stream",
       "stream": "stdout",
       "text": [
        "\n",
        "Scraping https://www.govtrack.us/data/congress/113/votes/2014/s257/"
       ]
      },
      {
       "output_type": "stream",
       "stream": "stdout",
       "text": [
        "\n",
        "Scraping https://www.govtrack.us/data/congress/113/votes/2014/s258/"
       ]
      },
      {
       "output_type": "stream",
       "stream": "stdout",
       "text": [
        "\n",
        "Scraping https://www.govtrack.us/data/congress/113/votes/2014/s259/"
       ]
      },
      {
       "output_type": "stream",
       "stream": "stdout",
       "text": [
        "\n",
        "Scraping https://www.govtrack.us/data/congress/113/votes/2014/s26/"
       ]
      },
      {
       "output_type": "stream",
       "stream": "stdout",
       "text": [
        "\n",
        "Scraping https://www.govtrack.us/data/congress/113/votes/2014/s260/"
       ]
      },
      {
       "output_type": "stream",
       "stream": "stdout",
       "text": [
        "\n",
        "Scraping https://www.govtrack.us/data/congress/113/votes/2014/s261/"
       ]
      },
      {
       "output_type": "stream",
       "stream": "stdout",
       "text": [
        "\n",
        "Scraping https://www.govtrack.us/data/congress/113/votes/2014/s262/"
       ]
      },
      {
       "output_type": "stream",
       "stream": "stdout",
       "text": [
        "\n",
        "Scraping https://www.govtrack.us/data/congress/113/votes/2014/s263/"
       ]
      },
      {
       "output_type": "stream",
       "stream": "stdout",
       "text": [
        "\n",
        "Scraping https://www.govtrack.us/data/congress/113/votes/2014/s264/"
       ]
      },
      {
       "output_type": "stream",
       "stream": "stdout",
       "text": [
        "\n",
        "Scraping https://www.govtrack.us/data/congress/113/votes/2014/s265/"
       ]
      },
      {
       "output_type": "stream",
       "stream": "stdout",
       "text": [
        "\n",
        "Scraping https://www.govtrack.us/data/congress/113/votes/2014/s266/"
       ]
      },
      {
       "output_type": "stream",
       "stream": "stdout",
       "text": [
        "\n",
        "Scraping https://www.govtrack.us/data/congress/113/votes/2014/s267/"
       ]
      },
      {
       "output_type": "stream",
       "stream": "stdout",
       "text": [
        "\n",
        "Scraping https://www.govtrack.us/data/congress/113/votes/2014/s268/"
       ]
      },
      {
       "output_type": "stream",
       "stream": "stdout",
       "text": [
        "\n",
        "Scraping https://www.govtrack.us/data/congress/113/votes/2014/s269/"
       ]
      },
      {
       "output_type": "stream",
       "stream": "stdout",
       "text": [
        "\n",
        "Scraping https://www.govtrack.us/data/congress/113/votes/2014/s27/"
       ]
      },
      {
       "output_type": "stream",
       "stream": "stdout",
       "text": [
        "\n",
        "Scraping https://www.govtrack.us/data/congress/113/votes/2014/s270/"
       ]
      },
      {
       "output_type": "stream",
       "stream": "stdout",
       "text": [
        "\n",
        "Scraping https://www.govtrack.us/data/congress/113/votes/2014/s28/"
       ]
      },
      {
       "output_type": "stream",
       "stream": "stdout",
       "text": [
        "\n",
        "Scraping https://www.govtrack.us/data/congress/113/votes/2014/s29/"
       ]
      },
      {
       "output_type": "stream",
       "stream": "stdout",
       "text": [
        "\n",
        "Scraping https://www.govtrack.us/data/congress/113/votes/2014/s3/"
       ]
      },
      {
       "output_type": "stream",
       "stream": "stdout",
       "text": [
        "\n",
        "Scraping https://www.govtrack.us/data/congress/113/votes/2014/s30/"
       ]
      },
      {
       "output_type": "stream",
       "stream": "stdout",
       "text": [
        "\n",
        "Scraping https://www.govtrack.us/data/congress/113/votes/2014/s31/"
       ]
      },
      {
       "output_type": "stream",
       "stream": "stdout",
       "text": [
        "\n",
        "Scraping https://www.govtrack.us/data/congress/113/votes/2014/s32/"
       ]
      },
      {
       "output_type": "stream",
       "stream": "stdout",
       "text": [
        "\n",
        "Scraping https://www.govtrack.us/data/congress/113/votes/2014/s33/"
       ]
      },
      {
       "output_type": "stream",
       "stream": "stdout",
       "text": [
        "\n",
        "Scraping https://www.govtrack.us/data/congress/113/votes/2014/s34/"
       ]
      },
      {
       "output_type": "stream",
       "stream": "stdout",
       "text": [
        "\n",
        "Scraping https://www.govtrack.us/data/congress/113/votes/2014/s35/"
       ]
      },
      {
       "output_type": "stream",
       "stream": "stdout",
       "text": [
        "\n",
        "Scraping https://www.govtrack.us/data/congress/113/votes/2014/s36/"
       ]
      },
      {
       "output_type": "stream",
       "stream": "stdout",
       "text": [
        "\n",
        "Scraping https://www.govtrack.us/data/congress/113/votes/2014/s37/"
       ]
      },
      {
       "output_type": "stream",
       "stream": "stdout",
       "text": [
        "\n",
        "Scraping https://www.govtrack.us/data/congress/113/votes/2014/s38/"
       ]
      },
      {
       "output_type": "stream",
       "stream": "stdout",
       "text": [
        "\n",
        "Scraping https://www.govtrack.us/data/congress/113/votes/2014/s39/"
       ]
      },
      {
       "output_type": "stream",
       "stream": "stdout",
       "text": [
        "\n",
        "Scraping https://www.govtrack.us/data/congress/113/votes/2014/s4/"
       ]
      },
      {
       "output_type": "stream",
       "stream": "stdout",
       "text": [
        "\n",
        "Scraping https://www.govtrack.us/data/congress/113/votes/2014/s40/"
       ]
      },
      {
       "output_type": "stream",
       "stream": "stdout",
       "text": [
        "\n",
        "Scraping https://www.govtrack.us/data/congress/113/votes/2014/s41/"
       ]
      },
      {
       "output_type": "stream",
       "stream": "stdout",
       "text": [
        "\n",
        "Scraping https://www.govtrack.us/data/congress/113/votes/2014/s42/"
       ]
      },
      {
       "output_type": "stream",
       "stream": "stdout",
       "text": [
        "\n",
        "Scraping https://www.govtrack.us/data/congress/113/votes/2014/s43/"
       ]
      },
      {
       "output_type": "stream",
       "stream": "stdout",
       "text": [
        "\n",
        "Scraping https://www.govtrack.us/data/congress/113/votes/2014/s44/"
       ]
      },
      {
       "output_type": "stream",
       "stream": "stdout",
       "text": [
        "\n",
        "Scraping https://www.govtrack.us/data/congress/113/votes/2014/s45/"
       ]
      },
      {
       "output_type": "stream",
       "stream": "stdout",
       "text": [
        "\n",
        "Scraping https://www.govtrack.us/data/congress/113/votes/2014/s46/"
       ]
      },
      {
       "output_type": "stream",
       "stream": "stdout",
       "text": [
        "\n",
        "Scraping https://www.govtrack.us/data/congress/113/votes/2014/s47/"
       ]
      },
      {
       "output_type": "stream",
       "stream": "stdout",
       "text": [
        "\n",
        "Scraping https://www.govtrack.us/data/congress/113/votes/2014/s48/"
       ]
      },
      {
       "output_type": "stream",
       "stream": "stdout",
       "text": [
        "\n",
        "Scraping https://www.govtrack.us/data/congress/113/votes/2014/s49/"
       ]
      },
      {
       "output_type": "stream",
       "stream": "stdout",
       "text": [
        "\n",
        "Scraping https://www.govtrack.us/data/congress/113/votes/2014/s5/"
       ]
      },
      {
       "output_type": "stream",
       "stream": "stdout",
       "text": [
        "\n",
        "Scraping https://www.govtrack.us/data/congress/113/votes/2014/s50/"
       ]
      },
      {
       "output_type": "stream",
       "stream": "stdout",
       "text": [
        "\n",
        "Scraping https://www.govtrack.us/data/congress/113/votes/2014/s51/"
       ]
      },
      {
       "output_type": "stream",
       "stream": "stdout",
       "text": [
        "\n",
        "Scraping https://www.govtrack.us/data/congress/113/votes/2014/s52/"
       ]
      },
      {
       "output_type": "stream",
       "stream": "stdout",
       "text": [
        "\n",
        "Scraping https://www.govtrack.us/data/congress/113/votes/2014/s53/"
       ]
      },
      {
       "output_type": "stream",
       "stream": "stdout",
       "text": [
        "\n",
        "Scraping https://www.govtrack.us/data/congress/113/votes/2014/s54/"
       ]
      },
      {
       "output_type": "stream",
       "stream": "stdout",
       "text": [
        "\n",
        "Scraping https://www.govtrack.us/data/congress/113/votes/2014/s55/"
       ]
      },
      {
       "output_type": "stream",
       "stream": "stdout",
       "text": [
        "\n",
        "Scraping https://www.govtrack.us/data/congress/113/votes/2014/s56/"
       ]
      },
      {
       "output_type": "stream",
       "stream": "stdout",
       "text": [
        "\n",
        "Scraping https://www.govtrack.us/data/congress/113/votes/2014/s57/"
       ]
      },
      {
       "output_type": "stream",
       "stream": "stdout",
       "text": [
        "\n",
        "Scraping https://www.govtrack.us/data/congress/113/votes/2014/s58/"
       ]
      },
      {
       "output_type": "stream",
       "stream": "stdout",
       "text": [
        "\n",
        "Scraping https://www.govtrack.us/data/congress/113/votes/2014/s59/"
       ]
      },
      {
       "output_type": "stream",
       "stream": "stdout",
       "text": [
        "\n",
        "Scraping https://www.govtrack.us/data/congress/113/votes/2014/s6/"
       ]
      },
      {
       "output_type": "stream",
       "stream": "stdout",
       "text": [
        "\n",
        "Scraping https://www.govtrack.us/data/congress/113/votes/2014/s60/"
       ]
      },
      {
       "output_type": "stream",
       "stream": "stdout",
       "text": [
        "\n",
        "Scraping https://www.govtrack.us/data/congress/113/votes/2014/s61/"
       ]
      },
      {
       "output_type": "stream",
       "stream": "stdout",
       "text": [
        "\n",
        "Scraping https://www.govtrack.us/data/congress/113/votes/2014/s62/"
       ]
      },
      {
       "output_type": "stream",
       "stream": "stdout",
       "text": [
        "\n",
        "Scraping https://www.govtrack.us/data/congress/113/votes/2014/s63/"
       ]
      },
      {
       "output_type": "stream",
       "stream": "stdout",
       "text": [
        "\n",
        "Scraping https://www.govtrack.us/data/congress/113/votes/2014/s64/"
       ]
      },
      {
       "output_type": "stream",
       "stream": "stdout",
       "text": [
        "\n",
        "Scraping https://www.govtrack.us/data/congress/113/votes/2014/s65/"
       ]
      },
      {
       "output_type": "stream",
       "stream": "stdout",
       "text": [
        "\n",
        "Scraping https://www.govtrack.us/data/congress/113/votes/2014/s66/"
       ]
      },
      {
       "output_type": "stream",
       "stream": "stdout",
       "text": [
        "\n",
        "Scraping https://www.govtrack.us/data/congress/113/votes/2014/s67/"
       ]
      },
      {
       "output_type": "stream",
       "stream": "stdout",
       "text": [
        "\n",
        "Scraping https://www.govtrack.us/data/congress/113/votes/2014/s68/"
       ]
      },
      {
       "output_type": "stream",
       "stream": "stdout",
       "text": [
        "\n",
        "Scraping https://www.govtrack.us/data/congress/113/votes/2014/s69/"
       ]
      },
      {
       "output_type": "stream",
       "stream": "stdout",
       "text": [
        "\n",
        "Scraping https://www.govtrack.us/data/congress/113/votes/2014/s7/"
       ]
      },
      {
       "output_type": "stream",
       "stream": "stdout",
       "text": [
        "\n",
        "Scraping https://www.govtrack.us/data/congress/113/votes/2014/s70/"
       ]
      },
      {
       "output_type": "stream",
       "stream": "stdout",
       "text": [
        "\n",
        "Scraping https://www.govtrack.us/data/congress/113/votes/2014/s71/"
       ]
      },
      {
       "output_type": "stream",
       "stream": "stdout",
       "text": [
        "\n",
        "Scraping https://www.govtrack.us/data/congress/113/votes/2014/s72/"
       ]
      },
      {
       "output_type": "stream",
       "stream": "stdout",
       "text": [
        "\n",
        "Scraping https://www.govtrack.us/data/congress/113/votes/2014/s73/"
       ]
      },
      {
       "output_type": "stream",
       "stream": "stdout",
       "text": [
        "\n",
        "Scraping https://www.govtrack.us/data/congress/113/votes/2014/s74/"
       ]
      },
      {
       "output_type": "stream",
       "stream": "stdout",
       "text": [
        "\n",
        "Scraping https://www.govtrack.us/data/congress/113/votes/2014/s75/"
       ]
      },
      {
       "output_type": "stream",
       "stream": "stdout",
       "text": [
        "\n",
        "Scraping https://www.govtrack.us/data/congress/113/votes/2014/s76/"
       ]
      },
      {
       "output_type": "stream",
       "stream": "stdout",
       "text": [
        "\n",
        "Scraping https://www.govtrack.us/data/congress/113/votes/2014/s77/"
       ]
      },
      {
       "output_type": "stream",
       "stream": "stdout",
       "text": [
        "\n",
        "Scraping https://www.govtrack.us/data/congress/113/votes/2014/s78/"
       ]
      },
      {
       "output_type": "stream",
       "stream": "stdout",
       "text": [
        "\n",
        "Scraping https://www.govtrack.us/data/congress/113/votes/2014/s79/"
       ]
      },
      {
       "output_type": "stream",
       "stream": "stdout",
       "text": [
        "\n",
        "Scraping https://www.govtrack.us/data/congress/113/votes/2014/s8/"
       ]
      },
      {
       "output_type": "stream",
       "stream": "stdout",
       "text": [
        "\n",
        "Scraping https://www.govtrack.us/data/congress/113/votes/2014/s80/"
       ]
      },
      {
       "output_type": "stream",
       "stream": "stdout",
       "text": [
        "\n",
        "Scraping https://www.govtrack.us/data/congress/113/votes/2014/s81/"
       ]
      },
      {
       "output_type": "stream",
       "stream": "stdout",
       "text": [
        "\n",
        "Scraping https://www.govtrack.us/data/congress/113/votes/2014/s82/"
       ]
      },
      {
       "output_type": "stream",
       "stream": "stdout",
       "text": [
        "\n",
        "Scraping https://www.govtrack.us/data/congress/113/votes/2014/s83/"
       ]
      },
      {
       "output_type": "stream",
       "stream": "stdout",
       "text": [
        "\n",
        "Scraping https://www.govtrack.us/data/congress/113/votes/2014/s84/"
       ]
      },
      {
       "output_type": "stream",
       "stream": "stdout",
       "text": [
        "\n",
        "Scraping https://www.govtrack.us/data/congress/113/votes/2014/s85/"
       ]
      },
      {
       "output_type": "stream",
       "stream": "stdout",
       "text": [
        "\n",
        "Scraping https://www.govtrack.us/data/congress/113/votes/2014/s86/"
       ]
      },
      {
       "output_type": "stream",
       "stream": "stdout",
       "text": [
        "\n",
        "Scraping https://www.govtrack.us/data/congress/113/votes/2014/s87/"
       ]
      },
      {
       "output_type": "stream",
       "stream": "stdout",
       "text": [
        "\n",
        "Scraping https://www.govtrack.us/data/congress/113/votes/2014/s88/"
       ]
      },
      {
       "output_type": "stream",
       "stream": "stdout",
       "text": [
        "\n",
        "Scraping https://www.govtrack.us/data/congress/113/votes/2014/s89/"
       ]
      },
      {
       "output_type": "stream",
       "stream": "stdout",
       "text": [
        "\n",
        "Scraping https://www.govtrack.us/data/congress/113/votes/2014/s9/"
       ]
      },
      {
       "output_type": "stream",
       "stream": "stdout",
       "text": [
        "\n",
        "Scraping https://www.govtrack.us/data/congress/113/votes/2014/s90/"
       ]
      },
      {
       "output_type": "stream",
       "stream": "stdout",
       "text": [
        "\n",
        "Scraping https://www.govtrack.us/data/congress/113/votes/2014/s91/"
       ]
      },
      {
       "output_type": "stream",
       "stream": "stdout",
       "text": [
        "\n",
        "Scraping https://www.govtrack.us/data/congress/113/votes/2014/s92/"
       ]
      },
      {
       "output_type": "stream",
       "stream": "stdout",
       "text": [
        "\n",
        "Scraping https://www.govtrack.us/data/congress/113/votes/2014/s93/"
       ]
      },
      {
       "output_type": "stream",
       "stream": "stdout",
       "text": [
        "\n",
        "Scraping https://www.govtrack.us/data/congress/113/votes/2014/s94/"
       ]
      },
      {
       "output_type": "stream",
       "stream": "stdout",
       "text": [
        "\n",
        "Scraping https://www.govtrack.us/data/congress/113/votes/2014/s95/"
       ]
      },
      {
       "output_type": "stream",
       "stream": "stdout",
       "text": [
        "\n",
        "Scraping https://www.govtrack.us/data/congress/113/votes/2014/s96/"
       ]
      },
      {
       "output_type": "stream",
       "stream": "stdout",
       "text": [
        "\n",
        "Scraping https://www.govtrack.us/data/congress/113/votes/2014/s97/"
       ]
      },
      {
       "output_type": "stream",
       "stream": "stdout",
       "text": [
        "\n",
        "Scraping https://www.govtrack.us/data/congress/113/votes/2014/s98/"
       ]
      },
      {
       "output_type": "stream",
       "stream": "stdout",
       "text": [
        "\n",
        "Scraping https://www.govtrack.us/data/congress/113/votes/2014/s99/"
       ]
      },
      {
       "output_type": "stream",
       "stream": "stdout",
       "text": [
        "\n"
       ]
      },
      {
       "metadata": {},
       "output_type": "pyout",
       "prompt_number": 67,
       "text": [
        "'/Users/jonathandinu/Repositories/zipfian/tot-solutions/week6/dimensionality-reduction'"
       ]
      }
     ],
     "prompt_number": 67
    },
    {
     "cell_type": "code",
     "collapsed": false,
     "input": [
      "from sklearn.manifold import MDS"
     ],
     "language": "python",
     "metadata": {},
     "outputs": [],
     "prompt_number": 68
    },
    {
     "cell_type": "code",
     "collapsed": false,
     "input": [
      "for cing in range(100,111):\n"
     ],
     "language": "python",
     "metadata": {},
     "outputs": [
      {
       "output_type": "stream",
       "stream": "stdout",
       "text": [
        "100\n",
        "101\n",
        "102\n",
        "103\n",
        "104\n",
        "105\n",
        "106\n",
        "107\n",
        "108\n",
        "109\n",
        "110\n"
       ]
      }
     ],
     "prompt_number": 74
    },
    {
     "cell_type": "code",
     "collapsed": false,
     "input": [],
     "language": "python",
     "metadata": {},
     "outputs": []
    }
   ],
   "metadata": {}
  }
 ]
}
