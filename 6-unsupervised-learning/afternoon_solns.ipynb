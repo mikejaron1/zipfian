{
 "metadata": {
  "name": "",
  "signature": "sha256:105aea139ac5ed6cd5925bde1e850e9568bc0666e0196c5bb65538794107247a"
 },
 "nbformat": 3,
 "nbformat_minor": 0,
 "worksheets": [
  {
   "cells": [
    {
     "cell_type": "code",
     "collapsed": false,
     "input": [
      "pwd"
     ],
     "language": "python",
     "metadata": {},
     "outputs": [
      {
       "metadata": {},
       "output_type": "pyout",
       "prompt_number": 46,
       "text": [
        "u'/Users/JeffreyTang/Desktop/zipfian/spring2015/image_featurization_real/data'"
       ]
      }
     ],
     "prompt_number": 46
    },
    {
     "cell_type": "code",
     "collapsed": false,
     "input": [
      "from sklearn.metrics import accuracy_score, f1_score\n",
      "from sklearn.preprocessing import StandardScaler\n",
      "from lasagne import layers\n",
      "from lasagne.nonlinearities import  softmax, rectify, sigmoid, tanh, leaky_rectify \n",
      "from lasagne.updates import nesterov_momentum\n",
      "from nolearn.lasagne import NeuralNet\n",
      "import numpy as np\n",
      "import pandas as pd\n",
      "from sklearn.cross_validation import train_test_split\n",
      "from sklearn.ensemble import RandomForestClassifier\n",
      "from sklearn.linear_model import LogisticRegression"
     ],
     "language": "python",
     "metadata": {},
     "outputs": [],
     "prompt_number": 26
    },
    {
     "cell_type": "code",
     "collapsed": false,
     "input": [
      "data = pd.read_csv('train.csv')\n",
      "y = data.ix[:,0].values.astype('int32')\n",
      "\n",
      "x = data.ix[:,1:].values.astype('float64')\n",
      "scaler = StandardScaler()\n",
      "scaled_x = scaler.fit_transform(x)\n",
      "x_train, x_test, y_train, y_test = train_test_split(scaled_x, y, test_size=0.2, random_state=42)"
     ],
     "language": "python",
     "metadata": {},
     "outputs": [],
     "prompt_number": 3
    },
    {
     "cell_type": "code",
     "collapsed": false,
     "input": [
      "def fit_model(train_x, y):\n",
      "    net1 = NeuralNet(\n",
      "        layers=[  #list the layers here\n",
      "            ('input', layers.InputLayer),\n",
      "            ('hidden1', layers.DenseLayer),\n",
      "            ('hidden2', layers.DenseLayer),\n",
      "            ('hidden3', layers.DenseLayer),\n",
      "            ('output', layers.DenseLayer),\n",
      "            ],\n",
      "\n",
      "        # Input\n",
      "        input_shape=(None, train_x.shape[1]),\n",
      "\n",
      "        # Hidden 1\n",
      "        hidden1_num_units=512, hidden1_nonlinearity=rectify,\n",
      "\n",
      "        # Hidden 2\n",
      "        hidden2_num_units=512, hidden2_nonlinearity=rectify,\n",
      "\n",
      "        # Hidden 3\n",
      "        hidden3_num_units=512, hidden3_nonlinearity=rectify,\n",
      "\n",
      "        # Output\n",
      "        output_nonlinearity=softmax,  \n",
      "        output_num_units=25,  \n",
      "\n",
      "        # optimization method:\n",
      "        update=nesterov_momentum,\n",
      "        update_learning_rate=0.01,\n",
      "        update_momentum=0.7,\n",
      "\n",
      "        regression=False,\n",
      "        max_epochs=25,\n",
      "        verbose=1,\n",
      "        )\n",
      "\n",
      "    net1.fit(train_x, y)\n",
      "    return net1"
     ],
     "language": "python",
     "metadata": {},
     "outputs": [],
     "prompt_number": 44
    },
    {
     "cell_type": "code",
     "collapsed": false,
     "input": [
      "nn = fit_model(x_train, y_train)"
     ],
     "language": "python",
     "metadata": {},
     "outputs": [
      {
       "output_type": "stream",
       "stream": "stdout",
       "text": [
        "  input             \t(None, 784)         \tproduces     784 outputs\n",
        "  hidden1           \t(None, 512)         \tproduces     512 outputs\n",
        "  hidden2           \t(None, 512)         \tproduces     512 outputs\n",
        "  hidden3           \t(None, 512)         \tproduces     512 outputs\n",
        "  output            \t(None, 25)          \tproduces      25 outputs\n",
        "  epoch    train loss    valid loss    train/val    valid acc  dur\n",
        "-------  ------------  ------------  -----------  -----------  -----\n",
        "      1       \u001b[94m0.65792\u001b[0m       \u001b[32m0.32258\u001b[0m      2.03958      0.91001  6.06s"
       ]
      },
      {
       "output_type": "stream",
       "stream": "stdout",
       "text": [
        "\n",
        "      2       \u001b[94m0.23148\u001b[0m       \u001b[32m0.25831\u001b[0m      0.89616      0.92840  6.47s"
       ]
      },
      {
       "output_type": "stream",
       "stream": "stdout",
       "text": [
        "\n",
        "      3       \u001b[94m0.16665\u001b[0m       \u001b[32m0.22962\u001b[0m      0.72577      0.93882  6.23s"
       ]
      },
      {
       "output_type": "stream",
       "stream": "stdout",
       "text": [
        "\n",
        "      4       \u001b[94m0.12960\u001b[0m       \u001b[32m0.21447\u001b[0m      0.60429      0.94352  5.41s"
       ]
      },
      {
       "output_type": "stream",
       "stream": "stdout",
       "text": [
        "\n",
        "      5       \u001b[94m0.10406\u001b[0m       \u001b[32m0.20739\u001b[0m      0.50176      0.94897  5.77s"
       ]
      },
      {
       "output_type": "stream",
       "stream": "stdout",
       "text": [
        "\n",
        "      6       \u001b[94m0.08518\u001b[0m       \u001b[32m0.20006\u001b[0m      0.42575      0.94941  5.60s"
       ]
      },
      {
       "output_type": "stream",
       "stream": "stdout",
       "text": [
        "\n",
        "      7       \u001b[94m0.06984\u001b[0m       \u001b[32m0.19768\u001b[0m      0.35328      0.95074  5.86s"
       ]
      },
      {
       "output_type": "stream",
       "stream": "stdout",
       "text": [
        "\n",
        "      8       \u001b[94m0.05775\u001b[0m       \u001b[32m0.19717\u001b[0m      0.29289      0.95398  5.61s"
       ]
      },
      {
       "output_type": "stream",
       "stream": "stdout",
       "text": [
        "\n",
        "      9       \u001b[94m0.04805\u001b[0m       0.19769      0.24307      0.95531  5.31s"
       ]
      },
      {
       "output_type": "stream",
       "stream": "stdout",
       "text": [
        "\n",
        "     10       \u001b[94m0.04014\u001b[0m       0.19887      0.20185      0.95472  5.79s"
       ]
      },
      {
       "output_type": "stream",
       "stream": "stdout",
       "text": [
        "\n",
        "     11       \u001b[94m0.03368\u001b[0m       0.20043      0.16804      0.95560  5.90s"
       ]
      },
      {
       "output_type": "stream",
       "stream": "stdout",
       "text": [
        "\n",
        "     12       \u001b[94m0.02836\u001b[0m       0.20226      0.14022      0.95767  5.73s"
       ]
      },
      {
       "output_type": "stream",
       "stream": "stdout",
       "text": [
        "\n",
        "     13       \u001b[94m0.02399\u001b[0m       0.20421      0.11746      0.95782  5.67s"
       ]
      },
      {
       "output_type": "stream",
       "stream": "stdout",
       "text": [
        "\n",
        "     14       \u001b[94m0.02039\u001b[0m       0.20619      0.09888      0.95885  5.69s"
       ]
      },
      {
       "output_type": "stream",
       "stream": "stdout",
       "text": [
        "\n",
        "     15       \u001b[94m0.01742\u001b[0m       0.20825      0.08365      0.95929  5.79s"
       ]
      },
      {
       "output_type": "stream",
       "stream": "stdout",
       "text": [
        "\n",
        "     16       \u001b[94m0.01498\u001b[0m       0.21039      0.07118      0.95900  5.65s"
       ]
      },
      {
       "output_type": "stream",
       "stream": "stdout",
       "text": [
        "\n",
        "     17       \u001b[94m0.01297\u001b[0m       0.21256      0.06103      0.95944  5.76s"
       ]
      },
      {
       "output_type": "stream",
       "stream": "stdout",
       "text": [
        "\n",
        "     18       \u001b[94m0.01132\u001b[0m       0.21477      0.05269      0.95914  5.38s"
       ]
      },
      {
       "output_type": "stream",
       "stream": "stdout",
       "text": [
        "\n",
        "     19       \u001b[94m0.00994\u001b[0m       0.21698      0.04582      0.95885  5.25s"
       ]
      },
      {
       "output_type": "stream",
       "stream": "stdout",
       "text": [
        "\n",
        "     20       \u001b[94m0.00880\u001b[0m       0.21915      0.04014      0.95914  5.66s"
       ]
      },
      {
       "output_type": "stream",
       "stream": "stdout",
       "text": [
        "\n",
        "     21       \u001b[94m0.00783\u001b[0m       0.22128      0.03539      0.95944  6.94s"
       ]
      },
      {
       "output_type": "stream",
       "stream": "stdout",
       "text": [
        "\n",
        "     22       \u001b[94m0.00702\u001b[0m       0.22340      0.03140      0.95973  7.86s"
       ]
      },
      {
       "output_type": "stream",
       "stream": "stdout",
       "text": [
        "\n",
        "     23       \u001b[94m0.00632\u001b[0m       0.22544      0.02804      0.95988  7.81s"
       ]
      },
      {
       "output_type": "stream",
       "stream": "stdout",
       "text": [
        "\n",
        "     24       \u001b[94m0.00573\u001b[0m       0.22747      0.02520      0.96003  7.07s"
       ]
      },
      {
       "output_type": "stream",
       "stream": "stdout",
       "text": [
        "\n",
        "     25       \u001b[94m0.00523\u001b[0m       0.22942      0.02278      0.96003  8.45s"
       ]
      },
      {
       "output_type": "stream",
       "stream": "stdout",
       "text": [
        "\n"
       ]
      }
     ],
     "prompt_number": 45
    },
    {
     "cell_type": "code",
     "collapsed": false,
     "input": [
      "y_pred = nn.predict(x_test)"
     ],
     "language": "python",
     "metadata": {},
     "outputs": [],
     "prompt_number": 42
    },
    {
     "cell_type": "code",
     "collapsed": false,
     "input": [
      "f1_score(y_test, y_pred) # 700"
     ],
     "language": "python",
     "metadata": {},
     "outputs": [
      {
       "output_type": "stream",
       "stream": "stderr",
       "text": [
        "/usr/local/lib/python2.7/site-packages/sklearn/metrics/classification.py:676: DeprecationWarning: The default `weighted` averaging is deprecated, and from version 0.18, use of precision, recall or F-score with multiclass or multilabel data or pos_label=None will result in an exception. Please set an explicit value for `average`, one of (None, 'micro', 'macro', 'weighted', 'samples'). In cross validation use, for instance, scoring=\"f1_weighted\" instead of scoring=\"f1\".\n",
        "  sample_weight=sample_weight)\n"
       ]
      },
      {
       "metadata": {},
       "output_type": "pyout",
       "prompt_number": 43,
       "text": [
        "0.9577006856304815"
       ]
      }
     ],
     "prompt_number": 43
    },
    {
     "cell_type": "code",
     "collapsed": false,
     "input": [
      "f1_score(y_test, y_pred) # 700"
     ],
     "language": "python",
     "metadata": {},
     "outputs": [
      {
       "metadata": {},
       "output_type": "pyout",
       "prompt_number": 35,
       "text": [
        "0.96321428571428569"
       ]
      }
     ],
     "prompt_number": 35
    },
    {
     "cell_type": "code",
     "collapsed": false,
     "input": [
      "accuracy_score(y_test, y_pred) # 700"
     ],
     "language": "python",
     "metadata": {},
     "outputs": [
      {
       "metadata": {},
       "output_type": "pyout",
       "prompt_number": 16,
       "text": [
        "0.9626190476190476"
       ]
      }
     ],
     "prompt_number": 16
    },
    {
     "cell_type": "code",
     "collapsed": false,
     "input": [
      "accuracy_score(y_test, y_pred) # 50"
     ],
     "language": "python",
     "metadata": {},
     "outputs": [
      {
       "metadata": {},
       "output_type": "pyout",
       "prompt_number": 12,
       "text": [
        "0.95285714285714285"
       ]
      }
     ],
     "prompt_number": 12
    },
    {
     "cell_type": "code",
     "collapsed": false,
     "input": [
      "accuracy_score(y_test, y_pred) # 200"
     ],
     "language": "python",
     "metadata": {},
     "outputs": [
      {
       "metadata": {},
       "output_type": "pyout",
       "prompt_number": 8,
       "text": [
        "0.96071428571428574"
       ]
      }
     ],
     "prompt_number": 8
    },
    {
     "cell_type": "code",
     "collapsed": false,
     "input": [
      "accuracy_score(y_test, y_pred) # 512"
     ],
     "language": "python",
     "metadata": {},
     "outputs": [
      {
       "metadata": {},
       "output_type": "pyout",
       "prompt_number": 7,
       "text": [
        "0.96345238095238095"
       ]
      }
     ],
     "prompt_number": 7
    },
    {
     "cell_type": "code",
     "collapsed": false,
     "input": [
      "rf = RandomForestClassifier(n_jobs=-1, verbose=1)\n",
      "rf.fit(x_train, y_train)\n",
      "print rf.score(x_test, y_test)"
     ],
     "language": "python",
     "metadata": {},
     "outputs": [
      {
       "output_type": "stream",
       "stream": "stderr",
       "text": [
        "[Parallel(n_jobs=-1)]: Done   1 out of  10 | elapsed:    0.8s remaining:    7.4s\n",
        "[Parallel(n_jobs=-1)]: Done  10 out of  10 | elapsed:    3.4s finished\n"
       ]
      },
      {
       "output_type": "stream",
       "stream": "stdout",
       "text": [
        "0.937023809524\n"
       ]
      },
      {
       "output_type": "stream",
       "stream": "stderr",
       "text": [
        "[Parallel(n_jobs=4)]: Done   1 out of  10 | elapsed:    0.0s remaining:    0.1s\n",
        "[Parallel(n_jobs=4)]: Done  10 out of  10 | elapsed:    0.0s finished\n"
       ]
      }
     ],
     "prompt_number": 4
    }
   ],
   "metadata": {}
  }
 ]
}